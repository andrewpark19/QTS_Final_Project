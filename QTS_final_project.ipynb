{
  "cells": [
    {
      "cell_type": "markdown",
      "source": [
        "# Data Pull"
      ],
      "metadata": {
        "id": "XR42JRn0Wopa"
      }
    },
    {
      "cell_type": "code",
      "source": [
        "pip install ccxt"
      ],
      "metadata": {
        "colab": {
          "base_uri": "https://localhost:8080/"
        },
        "id": "oJkq6PkqaiEg",
        "outputId": "0c8f10a0-8617-48ed-cf03-d0f09258a267"
      },
      "execution_count": 1,
      "outputs": [
        {
          "output_type": "stream",
          "name": "stdout",
          "text": [
            "Requirement already satisfied: ccxt in /usr/local/lib/python3.11/dist-packages (4.4.62)\n",
            "Requirement already satisfied: setuptools>=60.9.0 in /usr/local/lib/python3.11/dist-packages (from ccxt) (75.1.0)\n",
            "Requirement already satisfied: certifi>=2018.1.18 in /usr/local/lib/python3.11/dist-packages (from ccxt) (2025.1.31)\n",
            "Requirement already satisfied: requests>=2.18.4 in /usr/local/lib/python3.11/dist-packages (from ccxt) (2.32.3)\n",
            "Requirement already satisfied: cryptography>=2.6.1 in /usr/local/lib/python3.11/dist-packages (from ccxt) (43.0.3)\n",
            "Requirement already satisfied: typing-extensions>=4.4.0 in /usr/local/lib/python3.11/dist-packages (from ccxt) (4.12.2)\n",
            "Requirement already satisfied: aiohttp<=3.10.11 in /usr/local/lib/python3.11/dist-packages (from ccxt) (3.10.11)\n",
            "Requirement already satisfied: aiodns>=1.1.1 in /usr/local/lib/python3.11/dist-packages (from ccxt) (3.2.0)\n",
            "Requirement already satisfied: yarl>=1.7.2 in /usr/local/lib/python3.11/dist-packages (from ccxt) (1.18.3)\n",
            "Requirement already satisfied: pycares>=4.0.0 in /usr/local/lib/python3.11/dist-packages (from aiodns>=1.1.1->ccxt) (4.5.0)\n",
            "Requirement already satisfied: aiohappyeyeballs>=2.3.0 in /usr/local/lib/python3.11/dist-packages (from aiohttp<=3.10.11->ccxt) (2.4.6)\n",
            "Requirement already satisfied: aiosignal>=1.1.2 in /usr/local/lib/python3.11/dist-packages (from aiohttp<=3.10.11->ccxt) (1.3.2)\n",
            "Requirement already satisfied: attrs>=17.3.0 in /usr/local/lib/python3.11/dist-packages (from aiohttp<=3.10.11->ccxt) (25.1.0)\n",
            "Requirement already satisfied: frozenlist>=1.1.1 in /usr/local/lib/python3.11/dist-packages (from aiohttp<=3.10.11->ccxt) (1.5.0)\n",
            "Requirement already satisfied: multidict<7.0,>=4.5 in /usr/local/lib/python3.11/dist-packages (from aiohttp<=3.10.11->ccxt) (6.1.0)\n",
            "Requirement already satisfied: cffi>=1.12 in /usr/local/lib/python3.11/dist-packages (from cryptography>=2.6.1->ccxt) (1.17.1)\n",
            "Requirement already satisfied: charset-normalizer<4,>=2 in /usr/local/lib/python3.11/dist-packages (from requests>=2.18.4->ccxt) (3.4.1)\n",
            "Requirement already satisfied: idna<4,>=2.5 in /usr/local/lib/python3.11/dist-packages (from requests>=2.18.4->ccxt) (3.10)\n",
            "Requirement already satisfied: urllib3<3,>=1.21.1 in /usr/local/lib/python3.11/dist-packages (from requests>=2.18.4->ccxt) (2.3.0)\n",
            "Requirement already satisfied: propcache>=0.2.0 in /usr/local/lib/python3.11/dist-packages (from yarl>=1.7.2->ccxt) (0.2.1)\n",
            "Requirement already satisfied: pycparser in /usr/local/lib/python3.11/dist-packages (from cffi>=1.12->cryptography>=2.6.1->ccxt) (2.22)\n"
          ]
        }
      ]
    },
    {
      "cell_type": "code",
      "execution_count": 2,
      "metadata": {
        "id": "PIXGzk7BWk9G"
      },
      "outputs": [],
      "source": [
        "import ccxt\n",
        "import time\n",
        "import pandas as pd\n",
        "import numpy as np\n",
        "import matplotlib.pyplot as plt\n",
        "from datetime import datetime, timezone\n",
        "from tqdm import tqdm\n",
        "import os"
      ]
    },
    {
      "cell_type": "markdown",
      "source": [
        "## Coin Universe"
      ],
      "metadata": {
        "id": "yOenDdyhcbO-"
      }
    },
    {
      "cell_type": "code",
      "execution_count": 3,
      "metadata": {
        "colab": {
          "base_uri": "https://localhost:8080/"
        },
        "id": "Sv0i6USoWk9I",
        "outputId": "fc34df5f-3119-48b5-e752-7ebbbf95903e"
      },
      "outputs": [
        {
          "output_type": "execute_result",
          "data": {
            "text/plain": [
              "162"
            ]
          },
          "metadata": {},
          "execution_count": 3
        }
      ],
      "source": [
        "SPOT_COLUMNS = ['Open time', 'Open', 'High', 'Low', 'Close', 'Volume', 'Close time', 'Quote asset volume',\n",
        "                'Number of trades', 'Taker buy base asset volume', 'Taker buy quote asset volume', 'Ignore']\n",
        "\n",
        "binance_exchange = ccxt.binanceus({\n",
        "    'timeout': 15000,\n",
        "    'enableRateLimit': True\n",
        "    # 'options': {'defaultType': 'future'}\n",
        "})\n",
        "markets = binance_exchange.load_markets()\n",
        "all_tickers = list(markets.keys())\n",
        "usdt_tickers = [ticker for ticker in all_tickers if ticker.endswith('USDT')]\n",
        "active_usdt_tickers = [\n",
        "    ticker for ticker in usdt_tickers if markets[ticker]['active']\n",
        "]\n",
        "len(active_usdt_tickers)"
      ]
    },
    {
      "cell_type": "code",
      "execution_count": 4,
      "metadata": {
        "id": "pD-PNmLHWk9J"
      },
      "outputs": [],
      "source": [
        "def get_spot(exchange, symbol, interval = '1d',\n",
        "                    startTime = None,\n",
        "                    endTime = None,\n",
        "                    limit = 1000):\n",
        "\n",
        "    if (startTime == None and endTime == None):\n",
        "        return exchange.publicGetKlines({'symbol': symbol,\n",
        "                                        'interval': interval,\n",
        "                                        'limit': limit})\n",
        "    elif (startTime == None and endTime != None):\n",
        "        return exchange.publicGetKlines({'symbol': symbol,\n",
        "                                        'interval': interval,\n",
        "                                        'endTime': endTime,\n",
        "                                        'limit': limit})\n",
        "    elif (startTime != None and endTime == None):\n",
        "        return exchange.publicGetKlines({'symbol': symbol,\n",
        "                                        'interval': interval,\n",
        "                                        'startTime': startTime,\n",
        "                                        'limit': limit})\n",
        "    else:\n",
        "        return exchange.publicGetKlines({'symbol': symbol,\n",
        "                                        'interval': interval,\n",
        "                                        'startTime': startTime,\n",
        "                                        'endTime': endTime,\n",
        "                                        'limit': limit})\n",
        "\n",
        "def convert_to_seconds(time_input):\n",
        "    number = int(time_input[:-1])\n",
        "    unit = time_input[-1]\n",
        "\n",
        "    if unit == 's':\n",
        "        return number\n",
        "    elif unit == 'm':\n",
        "        return number * 60\n",
        "    elif unit == 'h':\n",
        "        return number * 3600\n",
        "    elif unit == 'd':\n",
        "        return number * 86400\n",
        "    else:\n",
        "        raise ValueError(\"Unsupported time unit\")\n",
        "\n",
        "def transform_timestamp(timestamp_integer):\n",
        "    '''\n",
        "    As data points involved milliseconds, we need to transform them by constant 1000.\n",
        "    '''\n",
        "\n",
        "    return pd.to_datetime(int(timestamp_integer / 1000), utc=True, unit='s')\n",
        "\n",
        "def transform_to_timestamp_integer(datetime_object):\n",
        "    '''\n",
        "    As data points involved milliseconds, we need to transform them by constant 1000.\n",
        "    '''\n",
        "\n",
        "    return int(datetime_object.timestamp() * 1000)\n",
        "\n",
        "def obtain_full_spotdata(start_timestamp, end_timestamp, exchange, symbol, interval='1d', limit=1000):\n",
        "    full_data_list = []\n",
        "    curr_timestamp = start_timestamp\n",
        "\n",
        "    while curr_timestamp < end_timestamp:\n",
        "        data_list = get_spot(exchange=exchange, symbol=symbol, interval=interval, startTime=curr_timestamp, limit=limit)\n",
        "        if not data_list:\n",
        "            break\n",
        "\n",
        "        full_data_list.extend(data_list)\n",
        "\n",
        "        # Use the last candle's open time plus one interval as the new start timestamp\n",
        "        last_candle = data_list[-1]\n",
        "        last_timestamp = int(last_candle[0])\n",
        "        # Increment by one day (in milliseconds) to avoid overlap\n",
        "        curr_timestamp = last_timestamp + convert_to_seconds(interval) * 1000\n",
        "\n",
        "        # Sleep to respect rate limits\n",
        "        time.sleep(0.2)\n",
        "\n",
        "    return full_data_list"
      ]
    },
    {
      "cell_type": "code",
      "execution_count": 5,
      "metadata": {
        "id": "i2HyV3tUWk9K"
      },
      "outputs": [],
      "source": [
        "start_date = \"2016-01-01\"\n",
        "end_date = \"2025-02-24\"\n",
        "interval = \"1d\""
      ]
    },
    {
      "cell_type": "code",
      "execution_count": 6,
      "metadata": {
        "id": "x3251fOBWk9L"
      },
      "outputs": [],
      "source": [
        "def fetch_data(ticker_symbol, start_date, end_date, interval):\n",
        "    # Convert dates to timestamps in milliseconds\n",
        "    start_timestamp = int(((pd.to_datetime(start_date)).tz_localize('UTC')).timestamp() * 1000)\n",
        "    end_timestamp = int(((pd.to_datetime(end_date)).tz_localize('UTC')).timestamp() * 1000)\n",
        "\n",
        "    # Obtain raw data from Binance US\n",
        "    full_data_list = obtain_full_spotdata(start_timestamp, end_timestamp, binance_exchange, ticker_symbol, interval=interval)\n",
        "\n",
        "    # Create a DataFrame with the correct column names\n",
        "    data = pd.DataFrame(full_data_list, columns=SPOT_COLUMNS)\n",
        "    data['Open time'] = data['Open time'].apply(lambda x: transform_timestamp(int(x)))\n",
        "\n",
        "    # Remove any duplicate entries based on 'Open time'\n",
        "    data.drop_duplicates('Open time', keep='first', inplace=True)\n",
        "\n",
        "    # Add a column to identify the ticker\n",
        "    data['Ticker'] = ticker_symbol\n",
        "    return data"
      ]
    },
    {
      "cell_type": "code",
      "execution_count": 7,
      "metadata": {
        "colab": {
          "base_uri": "https://localhost:8080/"
        },
        "id": "lTvDMrfLWk9L",
        "outputId": "abeaedff-afad-445d-eba6-1abfb40385ec"
      },
      "outputs": [
        {
          "output_type": "stream",
          "name": "stderr",
          "text": [
            "Fetching crypto data:   1%|          | 1/162 [00:01<03:33,  1.32s/it]"
          ]
        },
        {
          "output_type": "stream",
          "name": "stdout",
          "text": [
            "Data for BTCUSDT fetched successfully.\n"
          ]
        },
        {
          "output_type": "stream",
          "name": "stderr",
          "text": [
            "\rFetching crypto data:   1%|          | 2/162 [00:03<04:17,  1.61s/it]"
          ]
        },
        {
          "output_type": "stream",
          "name": "stdout",
          "text": [
            "Data for ETHUSDT fetched successfully.\n"
          ]
        },
        {
          "output_type": "stream",
          "name": "stderr",
          "text": [
            "\rFetching crypto data:   2%|▏         | 3/162 [00:04<04:19,  1.64s/it]"
          ]
        },
        {
          "output_type": "stream",
          "name": "stdout",
          "text": [
            "Data for XRPUSDT fetched successfully.\n"
          ]
        },
        {
          "output_type": "stream",
          "name": "stderr",
          "text": [
            "\rFetching crypto data:   2%|▏         | 4/162 [00:05<03:47,  1.44s/it]"
          ]
        },
        {
          "output_type": "stream",
          "name": "stdout",
          "text": [
            "Data for BCHUSDT fetched successfully.\n"
          ]
        },
        {
          "output_type": "stream",
          "name": "stderr",
          "text": [
            "\rFetching crypto data:   3%|▎         | 5/162 [00:07<03:56,  1.51s/it]"
          ]
        },
        {
          "output_type": "stream",
          "name": "stdout",
          "text": [
            "Data for LTCUSDT fetched successfully.\n"
          ]
        },
        {
          "output_type": "stream",
          "name": "stderr",
          "text": [
            "\rFetching crypto data:   4%|▎         | 6/162 [00:08<03:29,  1.34s/it]"
          ]
        },
        {
          "output_type": "stream",
          "name": "stdout",
          "text": [
            "Data for BNBUSDT fetched successfully.\n"
          ]
        },
        {
          "output_type": "stream",
          "name": "stderr",
          "text": [
            "\rFetching crypto data:   4%|▍         | 7/162 [00:09<03:09,  1.22s/it]"
          ]
        },
        {
          "output_type": "stream",
          "name": "stdout",
          "text": [
            "Data for ADAUSDT fetched successfully.\n"
          ]
        },
        {
          "output_type": "stream",
          "name": "stderr",
          "text": [
            "\rFetching crypto data:   5%|▍         | 8/162 [00:10<03:00,  1.17s/it]"
          ]
        },
        {
          "output_type": "stream",
          "name": "stdout",
          "text": [
            "Data for BATUSDT fetched successfully.\n"
          ]
        },
        {
          "output_type": "stream",
          "name": "stderr",
          "text": [
            "\rFetching crypto data:   6%|▌         | 9/162 [00:11<02:44,  1.07s/it]"
          ]
        },
        {
          "output_type": "stream",
          "name": "stdout",
          "text": [
            "Data for ETCUSDT fetched successfully.\n"
          ]
        },
        {
          "output_type": "stream",
          "name": "stderr",
          "text": [
            "\rFetching crypto data:   6%|▌         | 10/162 [00:12<02:33,  1.01s/it]"
          ]
        },
        {
          "output_type": "stream",
          "name": "stdout",
          "text": [
            "Data for XLMUSDT fetched successfully.\n"
          ]
        },
        {
          "output_type": "stream",
          "name": "stderr",
          "text": [
            "\rFetching crypto data:   7%|▋         | 11/162 [00:13<02:29,  1.01it/s]"
          ]
        },
        {
          "output_type": "stream",
          "name": "stdout",
          "text": [
            "Data for ZRXUSDT fetched successfully.\n"
          ]
        },
        {
          "output_type": "stream",
          "name": "stderr",
          "text": [
            "\rFetching crypto data:   7%|▋         | 12/162 [00:14<02:21,  1.06it/s]"
          ]
        },
        {
          "output_type": "stream",
          "name": "stdout",
          "text": [
            "Data for DOGEUSDT fetched successfully.\n"
          ]
        },
        {
          "output_type": "stream",
          "name": "stderr",
          "text": [
            "\rFetching crypto data:   8%|▊         | 13/162 [00:15<02:21,  1.05it/s]"
          ]
        },
        {
          "output_type": "stream",
          "name": "stdout",
          "text": [
            "Data for ATOMUSDT fetched successfully.\n"
          ]
        },
        {
          "output_type": "stream",
          "name": "stderr",
          "text": [
            "\rFetching crypto data:   9%|▊         | 14/162 [00:15<02:17,  1.08it/s]"
          ]
        },
        {
          "output_type": "stream",
          "name": "stdout",
          "text": [
            "Data for NEOUSDT fetched successfully.\n"
          ]
        },
        {
          "output_type": "stream",
          "name": "stderr",
          "text": [
            "\rFetching crypto data:   9%|▉         | 15/162 [00:16<02:13,  1.10it/s]"
          ]
        },
        {
          "output_type": "stream",
          "name": "stdout",
          "text": [
            "Data for VETUSDT fetched successfully.\n"
          ]
        },
        {
          "output_type": "stream",
          "name": "stderr",
          "text": [
            "\rFetching crypto data:  10%|▉         | 16/162 [00:17<02:09,  1.13it/s]"
          ]
        },
        {
          "output_type": "stream",
          "name": "stdout",
          "text": [
            "Data for QTUMUSDT fetched successfully.\n"
          ]
        },
        {
          "output_type": "stream",
          "name": "stderr",
          "text": [
            "\rFetching crypto data:  10%|█         | 17/162 [00:18<02:04,  1.16it/s]"
          ]
        },
        {
          "output_type": "stream",
          "name": "stdout",
          "text": [
            "Data for ONTUSDT fetched successfully.\n"
          ]
        },
        {
          "output_type": "stream",
          "name": "stderr",
          "text": [
            "\rFetching crypto data:  11%|█         | 18/162 [00:19<02:02,  1.18it/s]"
          ]
        },
        {
          "output_type": "stream",
          "name": "stdout",
          "text": [
            "Data for KNCUSDT fetched successfully.\n"
          ]
        },
        {
          "output_type": "stream",
          "name": "stderr",
          "text": [
            "\rFetching crypto data:  12%|█▏        | 19/162 [00:20<02:02,  1.17it/s]"
          ]
        },
        {
          "output_type": "stream",
          "name": "stdout",
          "text": [
            "Data for VTHOUSDT fetched successfully.\n"
          ]
        },
        {
          "output_type": "stream",
          "name": "stderr",
          "text": [
            "\rFetching crypto data:  12%|█▏        | 20/162 [00:20<01:59,  1.19it/s]"
          ]
        },
        {
          "output_type": "stream",
          "name": "stdout",
          "text": [
            "Data for COMPUSDT fetched successfully.\n"
          ]
        },
        {
          "output_type": "stream",
          "name": "stderr",
          "text": [
            "\rFetching crypto data:  13%|█▎        | 21/162 [00:21<01:58,  1.19it/s]"
          ]
        },
        {
          "output_type": "stream",
          "name": "stdout",
          "text": [
            "Data for MKRUSDT fetched successfully.\n"
          ]
        },
        {
          "output_type": "stream",
          "name": "stderr",
          "text": [
            "\rFetching crypto data:  14%|█▎        | 22/162 [00:22<01:55,  1.21it/s]"
          ]
        },
        {
          "output_type": "stream",
          "name": "stdout",
          "text": [
            "Data for ONEUSDT fetched successfully.\n"
          ]
        },
        {
          "output_type": "stream",
          "name": "stderr",
          "text": [
            "\rFetching crypto data:  14%|█▍        | 23/162 [00:23<01:52,  1.23it/s]"
          ]
        },
        {
          "output_type": "stream",
          "name": "stdout",
          "text": [
            "Data for BANDUSDT fetched successfully.\n"
          ]
        },
        {
          "output_type": "stream",
          "name": "stderr",
          "text": [
            "\rFetching crypto data:  15%|█▍        | 24/162 [00:24<01:52,  1.23it/s]"
          ]
        },
        {
          "output_type": "stream",
          "name": "stdout",
          "text": [
            "Data for STORJUSDT fetched successfully.\n"
          ]
        },
        {
          "output_type": "stream",
          "name": "stderr",
          "text": [
            "\rFetching crypto data:  15%|█▌        | 25/162 [00:25<01:53,  1.20it/s]"
          ]
        },
        {
          "output_type": "stream",
          "name": "stdout",
          "text": [
            "Data for UNIUSDT fetched successfully.\n"
          ]
        },
        {
          "output_type": "stream",
          "name": "stderr",
          "text": [
            "\rFetching crypto data:  16%|█▌        | 26/162 [00:25<01:53,  1.20it/s]"
          ]
        },
        {
          "output_type": "stream",
          "name": "stdout",
          "text": [
            "Data for SOLUSDT fetched successfully.\n"
          ]
        },
        {
          "output_type": "stream",
          "name": "stderr",
          "text": [
            "\rFetching crypto data:  17%|█▋        | 27/162 [00:26<01:51,  1.21it/s]"
          ]
        },
        {
          "output_type": "stream",
          "name": "stdout",
          "text": [
            "Data for EGLDUSDT fetched successfully.\n"
          ]
        },
        {
          "output_type": "stream",
          "name": "stderr",
          "text": [
            "\rFetching crypto data:  17%|█▋        | 28/162 [00:27<01:51,  1.20it/s]"
          ]
        },
        {
          "output_type": "stream",
          "name": "stdout",
          "text": [
            "Data for PAXGUSDT fetched successfully.\n"
          ]
        },
        {
          "output_type": "stream",
          "name": "stderr",
          "text": [
            "\rFetching crypto data:  18%|█▊        | 29/162 [00:28<01:54,  1.16it/s]"
          ]
        },
        {
          "output_type": "stream",
          "name": "stdout",
          "text": [
            "Data for OXTUSDT fetched successfully.\n"
          ]
        },
        {
          "output_type": "stream",
          "name": "stderr",
          "text": [
            "\rFetching crypto data:  19%|█▊        | 30/162 [00:29<01:51,  1.19it/s]"
          ]
        },
        {
          "output_type": "stream",
          "name": "stdout",
          "text": [
            "Data for ZENUSDT fetched successfully.\n"
          ]
        },
        {
          "output_type": "stream",
          "name": "stderr",
          "text": [
            "\rFetching crypto data:  19%|█▉        | 31/162 [00:30<01:47,  1.22it/s]"
          ]
        },
        {
          "output_type": "stream",
          "name": "stdout",
          "text": [
            "Data for FILUSDT fetched successfully.\n"
          ]
        },
        {
          "output_type": "stream",
          "name": "stderr",
          "text": [
            "\rFetching crypto data:  20%|█▉        | 32/162 [00:30<01:46,  1.22it/s]"
          ]
        },
        {
          "output_type": "stream",
          "name": "stdout",
          "text": [
            "Data for AAVEUSDT fetched successfully.\n"
          ]
        },
        {
          "output_type": "stream",
          "name": "stderr",
          "text": [
            "\rFetching crypto data:  20%|██        | 33/162 [00:31<01:42,  1.26it/s]"
          ]
        },
        {
          "output_type": "stream",
          "name": "stdout",
          "text": [
            "Data for GRTUSDT fetched successfully.\n"
          ]
        },
        {
          "output_type": "stream",
          "name": "stderr",
          "text": [
            "\rFetching crypto data:  21%|██        | 34/162 [00:32<01:40,  1.27it/s]"
          ]
        },
        {
          "output_type": "stream",
          "name": "stdout",
          "text": [
            "Data for SHIBUSDT fetched successfully.\n"
          ]
        },
        {
          "output_type": "stream",
          "name": "stderr",
          "text": [
            "\rFetching crypto data:  22%|██▏       | 35/162 [00:33<01:37,  1.30it/s]"
          ]
        },
        {
          "output_type": "stream",
          "name": "stdout",
          "text": [
            "Data for CRVUSDT fetched successfully.\n"
          ]
        },
        {
          "output_type": "stream",
          "name": "stderr",
          "text": [
            "\rFetching crypto data:  22%|██▏       | 36/162 [00:33<01:36,  1.31it/s]"
          ]
        },
        {
          "output_type": "stream",
          "name": "stdout",
          "text": [
            "Data for AXSUSDT fetched successfully.\n"
          ]
        },
        {
          "output_type": "stream",
          "name": "stderr",
          "text": [
            "\rFetching crypto data:  23%|██▎       | 37/162 [00:34<01:33,  1.33it/s]"
          ]
        },
        {
          "output_type": "stream",
          "name": "stdout",
          "text": [
            "Data for AVAXUSDT fetched successfully.\n"
          ]
        },
        {
          "output_type": "stream",
          "name": "stderr",
          "text": [
            "\rFetching crypto data:  23%|██▎       | 38/162 [00:35<01:33,  1.32it/s]"
          ]
        },
        {
          "output_type": "stream",
          "name": "stdout",
          "text": [
            "Data for CTSIUSDT fetched successfully.\n"
          ]
        },
        {
          "output_type": "stream",
          "name": "stderr",
          "text": [
            "\rFetching crypto data:  24%|██▍       | 39/162 [00:36<01:31,  1.34it/s]"
          ]
        },
        {
          "output_type": "stream",
          "name": "stdout",
          "text": [
            "Data for DOTUSDT fetched successfully.\n"
          ]
        },
        {
          "output_type": "stream",
          "name": "stderr",
          "text": [
            "\rFetching crypto data:  25%|██▍       | 40/162 [00:36<01:30,  1.35it/s]"
          ]
        },
        {
          "output_type": "stream",
          "name": "stdout",
          "text": [
            "Data for YFIUSDT fetched successfully.\n"
          ]
        },
        {
          "output_type": "stream",
          "name": "stderr",
          "text": [
            "\rFetching crypto data:  25%|██▌       | 41/162 [00:37<01:29,  1.36it/s]"
          ]
        },
        {
          "output_type": "stream",
          "name": "stdout",
          "text": [
            "Data for 1INCHUSDT fetched successfully.\n"
          ]
        },
        {
          "output_type": "stream",
          "name": "stderr",
          "text": [
            "\rFetching crypto data:  26%|██▌       | 42/162 [00:38<01:29,  1.34it/s]"
          ]
        },
        {
          "output_type": "stream",
          "name": "stdout",
          "text": [
            "Data for FTMUSDT fetched successfully.\n"
          ]
        },
        {
          "output_type": "stream",
          "name": "stderr",
          "text": [
            "\rFetching crypto data:  27%|██▋       | 43/162 [00:39<01:31,  1.30it/s]"
          ]
        },
        {
          "output_type": "stream",
          "name": "stdout",
          "text": [
            "Data for USDCUSDT fetched successfully.\n"
          ]
        },
        {
          "output_type": "stream",
          "name": "stderr",
          "text": [
            "\rFetching crypto data:  27%|██▋       | 44/162 [00:39<01:30,  1.30it/s]"
          ]
        },
        {
          "output_type": "stream",
          "name": "stdout",
          "text": [
            "Data for MANAUSDT fetched successfully.\n"
          ]
        },
        {
          "output_type": "stream",
          "name": "stderr",
          "text": [
            "\rFetching crypto data:  28%|██▊       | 45/162 [00:40<01:29,  1.30it/s]"
          ]
        },
        {
          "output_type": "stream",
          "name": "stdout",
          "text": [
            "Data for ALGOUSDT fetched successfully.\n"
          ]
        },
        {
          "output_type": "stream",
          "name": "stderr",
          "text": [
            "\rFetching crypto data:  28%|██▊       | 46/162 [00:41<01:29,  1.30it/s]"
          ]
        },
        {
          "output_type": "stream",
          "name": "stdout",
          "text": [
            "Data for LINKUSDT fetched successfully.\n"
          ]
        },
        {
          "output_type": "stream",
          "name": "stderr",
          "text": [
            "\rFetching crypto data:  29%|██▉       | 47/162 [00:42<01:27,  1.32it/s]"
          ]
        },
        {
          "output_type": "stream",
          "name": "stdout",
          "text": [
            "Data for EOSUSDT fetched successfully.\n"
          ]
        },
        {
          "output_type": "stream",
          "name": "stderr",
          "text": [
            "\rFetching crypto data:  30%|██▉       | 48/162 [00:42<01:25,  1.33it/s]"
          ]
        },
        {
          "output_type": "stream",
          "name": "stdout",
          "text": [
            "Data for ZECUSDT fetched successfully.\n"
          ]
        },
        {
          "output_type": "stream",
          "name": "stderr",
          "text": [
            "\rFetching crypto data:  30%|███       | 49/162 [00:43<01:23,  1.35it/s]"
          ]
        },
        {
          "output_type": "stream",
          "name": "stdout",
          "text": [
            "Data for ENJUSDT fetched successfully.\n"
          ]
        },
        {
          "output_type": "stream",
          "name": "stderr",
          "text": [
            "\rFetching crypto data:  31%|███       | 50/162 [00:44<01:22,  1.35it/s]"
          ]
        },
        {
          "output_type": "stream",
          "name": "stdout",
          "text": [
            "Data for NEARUSDT fetched successfully.\n"
          ]
        },
        {
          "output_type": "stream",
          "name": "stderr",
          "text": [
            "\rFetching crypto data:  31%|███▏      | 51/162 [00:45<01:21,  1.36it/s]"
          ]
        },
        {
          "output_type": "stream",
          "name": "stdout",
          "text": [
            "Data for SUSHIUSDT fetched successfully.\n"
          ]
        },
        {
          "output_type": "stream",
          "name": "stderr",
          "text": [
            "\rFetching crypto data:  32%|███▏      | 52/162 [00:45<01:20,  1.37it/s]"
          ]
        },
        {
          "output_type": "stream",
          "name": "stdout",
          "text": [
            "Data for LRCUSDT fetched successfully.\n"
          ]
        },
        {
          "output_type": "stream",
          "name": "stderr",
          "text": [
            "\rFetching crypto data:  33%|███▎      | 53/162 [00:46<01:19,  1.37it/s]"
          ]
        },
        {
          "output_type": "stream",
          "name": "stdout",
          "text": [
            "Data for LPTUSDT fetched successfully.\n"
          ]
        },
        {
          "output_type": "stream",
          "name": "stderr",
          "text": [
            "\rFetching crypto data:  33%|███▎      | 54/162 [00:47<01:19,  1.36it/s]"
          ]
        },
        {
          "output_type": "stream",
          "name": "stdout",
          "text": [
            "Data for NMRUSDT fetched successfully.\n"
          ]
        },
        {
          "output_type": "stream",
          "name": "stderr",
          "text": [
            "\rFetching crypto data:  34%|███▍      | 55/162 [00:48<01:20,  1.34it/s]"
          ]
        },
        {
          "output_type": "stream",
          "name": "stdout",
          "text": [
            "Data for SLPUSDT fetched successfully.\n"
          ]
        },
        {
          "output_type": "stream",
          "name": "stderr",
          "text": [
            "\rFetching crypto data:  35%|███▍      | 56/162 [00:48<01:18,  1.35it/s]"
          ]
        },
        {
          "output_type": "stream",
          "name": "stdout",
          "text": [
            "Data for CHZUSDT fetched successfully.\n"
          ]
        },
        {
          "output_type": "stream",
          "name": "stderr",
          "text": [
            "\rFetching crypto data:  35%|███▌      | 57/162 [00:49<01:17,  1.35it/s]"
          ]
        },
        {
          "output_type": "stream",
          "name": "stdout",
          "text": [
            "Data for OGNUSDT fetched successfully.\n"
          ]
        },
        {
          "output_type": "stream",
          "name": "stderr",
          "text": [
            "\rFetching crypto data:  36%|███▌      | 58/162 [00:50<01:18,  1.32it/s]"
          ]
        },
        {
          "output_type": "stream",
          "name": "stdout",
          "text": [
            "Data for GALAUSDT fetched successfully.\n"
          ]
        },
        {
          "output_type": "stream",
          "name": "stderr",
          "text": [
            "\rFetching crypto data:  36%|███▋      | 59/162 [00:51<01:17,  1.32it/s]"
          ]
        },
        {
          "output_type": "stream",
          "name": "stdout",
          "text": [
            "Data for TLMUSDT fetched successfully.\n"
          ]
        },
        {
          "output_type": "stream",
          "name": "stderr",
          "text": [
            "\rFetching crypto data:  37%|███▋      | 60/162 [00:51<01:17,  1.31it/s]"
          ]
        },
        {
          "output_type": "stream",
          "name": "stdout",
          "text": [
            "Data for SNXUSDT fetched successfully.\n"
          ]
        },
        {
          "output_type": "stream",
          "name": "stderr",
          "text": [
            "\rFetching crypto data:  38%|███▊      | 61/162 [00:52<01:15,  1.33it/s]"
          ]
        },
        {
          "output_type": "stream",
          "name": "stdout",
          "text": [
            "Data for AUDIOUSDT fetched successfully.\n"
          ]
        },
        {
          "output_type": "stream",
          "name": "stderr",
          "text": [
            "\rFetching crypto data:  38%|███▊      | 62/162 [00:53<01:14,  1.34it/s]"
          ]
        },
        {
          "output_type": "stream",
          "name": "stdout",
          "text": [
            "Data for ENSUSDT fetched successfully.\n"
          ]
        },
        {
          "output_type": "stream",
          "name": "stderr",
          "text": [
            "\rFetching crypto data:  39%|███▉      | 63/162 [00:54<01:13,  1.34it/s]"
          ]
        },
        {
          "output_type": "stream",
          "name": "stdout",
          "text": [
            "Data for REQUSDT fetched successfully.\n"
          ]
        },
        {
          "output_type": "stream",
          "name": "stderr",
          "text": [
            "\rFetching crypto data:  40%|███▉      | 64/162 [00:54<01:13,  1.34it/s]"
          ]
        },
        {
          "output_type": "stream",
          "name": "stdout",
          "text": [
            "Data for APEUSDT fetched successfully.\n"
          ]
        },
        {
          "output_type": "stream",
          "name": "stderr",
          "text": [
            "\rFetching crypto data:  40%|████      | 65/162 [00:55<01:12,  1.33it/s]"
          ]
        },
        {
          "output_type": "stream",
          "name": "stdout",
          "text": [
            "Data for FLUXUSDT fetched successfully.\n"
          ]
        },
        {
          "output_type": "stream",
          "name": "stderr",
          "text": [
            "\rFetching crypto data:  41%|████      | 66/162 [00:56<01:11,  1.34it/s]"
          ]
        },
        {
          "output_type": "stream",
          "name": "stdout",
          "text": [
            "Data for COTIUSDT fetched successfully.\n"
          ]
        },
        {
          "output_type": "stream",
          "name": "stderr",
          "text": [
            "\rFetching crypto data:  41%|████▏     | 67/162 [00:57<01:12,  1.32it/s]"
          ]
        },
        {
          "output_type": "stream",
          "name": "stdout",
          "text": [
            "Data for VOXELUSDT fetched successfully.\n"
          ]
        },
        {
          "output_type": "stream",
          "name": "stderr",
          "text": [
            "\rFetching crypto data:  42%|████▏     | 68/162 [00:57<01:12,  1.30it/s]"
          ]
        },
        {
          "output_type": "stream",
          "name": "stdout",
          "text": [
            "Data for RLCUSDT fetched successfully.\n"
          ]
        },
        {
          "output_type": "stream",
          "name": "stderr",
          "text": [
            "\rFetching crypto data:  43%|████▎     | 69/162 [00:58<01:10,  1.31it/s]"
          ]
        },
        {
          "output_type": "stream",
          "name": "stdout",
          "text": [
            "Data for BICOUSDT fetched successfully.\n"
          ]
        },
        {
          "output_type": "stream",
          "name": "stderr",
          "text": [
            "\rFetching crypto data:  43%|████▎     | 70/162 [00:59<01:08,  1.34it/s]"
          ]
        },
        {
          "output_type": "stream",
          "name": "stdout",
          "text": [
            "Data for API3USDT fetched successfully.\n"
          ]
        },
        {
          "output_type": "stream",
          "name": "stderr",
          "text": [
            "\rFetching crypto data:  44%|████▍     | 71/162 [01:00<01:06,  1.36it/s]"
          ]
        },
        {
          "output_type": "stream",
          "name": "stdout",
          "text": [
            "Data for BNTUSDT fetched successfully.\n"
          ]
        },
        {
          "output_type": "stream",
          "name": "stderr",
          "text": [
            "\rFetching crypto data:  44%|████▍     | 72/162 [01:00<01:05,  1.38it/s]"
          ]
        },
        {
          "output_type": "stream",
          "name": "stdout",
          "text": [
            "Data for IMXUSDT fetched successfully.\n"
          ]
        },
        {
          "output_type": "stream",
          "name": "stderr",
          "text": [
            "\rFetching crypto data:  45%|████▌     | 73/162 [01:01<01:04,  1.38it/s]"
          ]
        },
        {
          "output_type": "stream",
          "name": "stdout",
          "text": [
            "Data for FLOWUSDT fetched successfully.\n"
          ]
        },
        {
          "output_type": "stream",
          "name": "stderr",
          "text": [
            "\rFetching crypto data:  46%|████▌     | 74/162 [01:02<01:03,  1.39it/s]"
          ]
        },
        {
          "output_type": "stream",
          "name": "stdout",
          "text": [
            "Data for GTCUSDT fetched successfully.\n"
          ]
        },
        {
          "output_type": "stream",
          "name": "stderr",
          "text": [
            "\rFetching crypto data:  46%|████▋     | 75/162 [01:02<01:03,  1.37it/s]"
          ]
        },
        {
          "output_type": "stream",
          "name": "stdout",
          "text": [
            "Data for THETAUSDT fetched successfully.\n"
          ]
        },
        {
          "output_type": "stream",
          "name": "stderr",
          "text": [
            "\rFetching crypto data:  47%|████▋     | 76/162 [01:03<01:04,  1.34it/s]"
          ]
        },
        {
          "output_type": "stream",
          "name": "stdout",
          "text": [
            "Data for TFUELUSDT fetched successfully.\n"
          ]
        },
        {
          "output_type": "stream",
          "name": "stderr",
          "text": [
            "\rFetching crypto data:  48%|████▊     | 77/162 [01:04<01:02,  1.36it/s]"
          ]
        },
        {
          "output_type": "stream",
          "name": "stdout",
          "text": [
            "Data for OCEANUSDT fetched successfully.\n"
          ]
        },
        {
          "output_type": "stream",
          "name": "stderr",
          "text": [
            "\rFetching crypto data:  48%|████▊     | 78/162 [01:05<01:01,  1.38it/s]"
          ]
        },
        {
          "output_type": "stream",
          "name": "stdout",
          "text": [
            "Data for LAZIOUSDT fetched successfully.\n"
          ]
        },
        {
          "output_type": "stream",
          "name": "stderr",
          "text": [
            "\rFetching crypto data:  49%|████▉     | 79/162 [01:05<01:00,  1.36it/s]"
          ]
        },
        {
          "output_type": "stream",
          "name": "stdout",
          "text": [
            "Data for SANTOSUSDT fetched successfully.\n"
          ]
        },
        {
          "output_type": "stream",
          "name": "stderr",
          "text": [
            "\rFetching crypto data:  49%|████▉     | 80/162 [01:06<00:59,  1.37it/s]"
          ]
        },
        {
          "output_type": "stream",
          "name": "stdout",
          "text": [
            "Data for ALPINEUSDT fetched successfully.\n"
          ]
        },
        {
          "output_type": "stream",
          "name": "stderr",
          "text": [
            "\rFetching crypto data:  50%|█████     | 81/162 [01:07<00:58,  1.38it/s]"
          ]
        },
        {
          "output_type": "stream",
          "name": "stdout",
          "text": [
            "Data for PORTOUSDT fetched successfully.\n"
          ]
        },
        {
          "output_type": "stream",
          "name": "stderr",
          "text": [
            "\rFetching crypto data:  51%|█████     | 82/162 [01:08<00:57,  1.39it/s]"
          ]
        },
        {
          "output_type": "stream",
          "name": "stdout",
          "text": [
            "Data for RENUSDT fetched successfully.\n"
          ]
        },
        {
          "output_type": "stream",
          "name": "stderr",
          "text": [
            "\rFetching crypto data:  51%|█████     | 83/162 [01:08<00:56,  1.39it/s]"
          ]
        },
        {
          "output_type": "stream",
          "name": "stdout",
          "text": [
            "Data for CELRUSDT fetched successfully.\n"
          ]
        },
        {
          "output_type": "stream",
          "name": "stderr",
          "text": [
            "\rFetching crypto data:  52%|█████▏    | 84/162 [01:09<00:49,  1.59it/s]"
          ]
        },
        {
          "output_type": "stream",
          "name": "stdout",
          "text": [
            "Data for SKLUSDT fetched successfully.\n"
          ]
        },
        {
          "output_type": "stream",
          "name": "stderr",
          "text": [
            "\rFetching crypto data:  52%|█████▏    | 85/162 [01:09<00:44,  1.73it/s]"
          ]
        },
        {
          "output_type": "stream",
          "name": "stdout",
          "text": [
            "Data for VITEUSDT fetched successfully.\n"
          ]
        },
        {
          "output_type": "stream",
          "name": "stderr",
          "text": [
            "\rFetching crypto data:  53%|█████▎    | 86/162 [01:10<00:40,  1.86it/s]"
          ]
        },
        {
          "output_type": "stream",
          "name": "stdout",
          "text": [
            "Data for WAXPUSDT fetched successfully.\n"
          ]
        },
        {
          "output_type": "stream",
          "name": "stderr",
          "text": [
            "\rFetching crypto data:  54%|█████▎    | 87/162 [01:10<00:37,  2.01it/s]"
          ]
        },
        {
          "output_type": "stream",
          "name": "stdout",
          "text": [
            "Data for LTOUSDT fetched successfully.\n"
          ]
        },
        {
          "output_type": "stream",
          "name": "stderr",
          "text": [
            "\rFetching crypto data:  54%|█████▍    | 88/162 [01:10<00:36,  2.05it/s]"
          ]
        },
        {
          "output_type": "stream",
          "name": "stdout",
          "text": [
            "Data for FETUSDT fetched successfully.\n"
          ]
        },
        {
          "output_type": "stream",
          "name": "stderr",
          "text": [
            "\rFetching crypto data:  55%|█████▍    | 89/162 [01:11<00:34,  2.10it/s]"
          ]
        },
        {
          "output_type": "stream",
          "name": "stdout",
          "text": [
            "Data for LOKAUSDT fetched successfully.\n"
          ]
        },
        {
          "output_type": "stream",
          "name": "stderr",
          "text": [
            "\rFetching crypto data:  56%|█████▌    | 90/162 [01:11<00:33,  2.17it/s]"
          ]
        },
        {
          "output_type": "stream",
          "name": "stdout",
          "text": [
            "Data for ICPUSDT fetched successfully.\n"
          ]
        },
        {
          "output_type": "stream",
          "name": "stderr",
          "text": [
            "\rFetching crypto data:  56%|█████▌    | 91/162 [01:12<00:32,  2.22it/s]"
          ]
        },
        {
          "output_type": "stream",
          "name": "stdout",
          "text": [
            "Data for TUSDT fetched successfully.\n"
          ]
        },
        {
          "output_type": "stream",
          "name": "stderr",
          "text": [
            "\rFetching crypto data:  57%|█████▋    | 92/162 [01:12<00:30,  2.29it/s]"
          ]
        },
        {
          "output_type": "stream",
          "name": "stdout",
          "text": [
            "Data for OPUSDT fetched successfully.\n"
          ]
        },
        {
          "output_type": "stream",
          "name": "stderr",
          "text": [
            "\rFetching crypto data:  57%|█████▋    | 93/162 [01:13<00:29,  2.36it/s]"
          ]
        },
        {
          "output_type": "stream",
          "name": "stdout",
          "text": [
            "Data for ROSEUSDT fetched successfully.\n"
          ]
        },
        {
          "output_type": "stream",
          "name": "stderr",
          "text": [
            "\rFetching crypto data:  58%|█████▊    | 94/162 [01:13<00:28,  2.39it/s]"
          ]
        },
        {
          "output_type": "stream",
          "name": "stdout",
          "text": [
            "Data for CELOUSDT fetched successfully.\n"
          ]
        },
        {
          "output_type": "stream",
          "name": "stderr",
          "text": [
            "\rFetching crypto data:  59%|█████▊    | 95/162 [01:13<00:28,  2.35it/s]"
          ]
        },
        {
          "output_type": "stream",
          "name": "stdout",
          "text": [
            "Data for KDAUSDT fetched successfully.\n"
          ]
        },
        {
          "output_type": "stream",
          "name": "stderr",
          "text": [
            "\rFetching crypto data:  59%|█████▉    | 96/162 [01:14<00:29,  2.23it/s]"
          ]
        },
        {
          "output_type": "stream",
          "name": "stdout",
          "text": [
            "Data for KSMUSDT fetched successfully.\n"
          ]
        },
        {
          "output_type": "stream",
          "name": "stderr",
          "text": [
            "\rFetching crypto data:  60%|█████▉    | 97/162 [01:14<00:28,  2.25it/s]"
          ]
        },
        {
          "output_type": "stream",
          "name": "stdout",
          "text": [
            "Data for ACHUSDT fetched successfully.\n"
          ]
        },
        {
          "output_type": "stream",
          "name": "stderr",
          "text": [
            "\rFetching crypto data:  60%|██████    | 98/162 [01:15<00:28,  2.23it/s]"
          ]
        },
        {
          "output_type": "stream",
          "name": "stdout",
          "text": [
            "Data for DARUSDT fetched successfully.\n"
          ]
        },
        {
          "output_type": "stream",
          "name": "stderr",
          "text": [
            "\rFetching crypto data:  61%|██████    | 99/162 [01:15<00:28,  2.23it/s]"
          ]
        },
        {
          "output_type": "stream",
          "name": "stdout",
          "text": [
            "Data for SYSUSDT fetched successfully.\n"
          ]
        },
        {
          "output_type": "stream",
          "name": "stderr",
          "text": [
            "\rFetching crypto data:  62%|██████▏   | 100/162 [01:16<00:28,  2.19it/s]"
          ]
        },
        {
          "output_type": "stream",
          "name": "stdout",
          "text": [
            "Data for RADUSDT fetched successfully.\n"
          ]
        },
        {
          "output_type": "stream",
          "name": "stderr",
          "text": [
            "\rFetching crypto data:  62%|██████▏   | 101/162 [01:16<00:26,  2.27it/s]"
          ]
        },
        {
          "output_type": "stream",
          "name": "stdout",
          "text": [
            "Data for ILVUSDT fetched successfully.\n"
          ]
        },
        {
          "output_type": "stream",
          "name": "stderr",
          "text": [
            "\rFetching crypto data:  63%|██████▎   | 102/162 [01:17<00:26,  2.27it/s]"
          ]
        },
        {
          "output_type": "stream",
          "name": "stdout",
          "text": [
            "Data for LDOUSDT fetched successfully.\n"
          ]
        },
        {
          "output_type": "stream",
          "name": "stderr",
          "text": [
            "\rFetching crypto data:  64%|██████▎   | 103/162 [01:17<00:26,  2.25it/s]"
          ]
        },
        {
          "output_type": "stream",
          "name": "stdout",
          "text": [
            "Data for RAREUSDT fetched successfully.\n"
          ]
        },
        {
          "output_type": "stream",
          "name": "stderr",
          "text": [
            "\rFetching crypto data:  64%|██████▍   | 104/162 [01:17<00:24,  2.33it/s]"
          ]
        },
        {
          "output_type": "stream",
          "name": "stdout",
          "text": [
            "Data for LSKUSDT fetched successfully.\n"
          ]
        },
        {
          "output_type": "stream",
          "name": "stderr",
          "text": [
            "\rFetching crypto data:  65%|██████▍   | 105/162 [01:18<00:23,  2.38it/s]"
          ]
        },
        {
          "output_type": "stream",
          "name": "stdout",
          "text": [
            "Data for DGBUSDT fetched successfully.\n"
          ]
        },
        {
          "output_type": "stream",
          "name": "stderr",
          "text": [
            "\rFetching crypto data:  65%|██████▌   | 106/162 [01:18<00:23,  2.38it/s]"
          ]
        },
        {
          "output_type": "stream",
          "name": "stdout",
          "text": [
            "Data for REEFUSDT fetched successfully.\n"
          ]
        },
        {
          "output_type": "stream",
          "name": "stderr",
          "text": [
            "\rFetching crypto data:  66%|██████▌   | 107/162 [01:19<00:22,  2.42it/s]"
          ]
        },
        {
          "output_type": "stream",
          "name": "stdout",
          "text": [
            "Data for ALICEUSDT fetched successfully.\n"
          ]
        },
        {
          "output_type": "stream",
          "name": "stderr",
          "text": [
            "\rFetching crypto data:  67%|██████▋   | 108/162 [01:19<00:22,  2.42it/s]"
          ]
        },
        {
          "output_type": "stream",
          "name": "stdout",
          "text": [
            "Data for FORTHUSDT fetched successfully.\n"
          ]
        },
        {
          "output_type": "stream",
          "name": "stderr",
          "text": [
            "\rFetching crypto data:  67%|██████▋   | 109/162 [01:19<00:21,  2.45it/s]"
          ]
        },
        {
          "output_type": "stream",
          "name": "stdout",
          "text": [
            "Data for ASTRUSDT fetched successfully.\n"
          ]
        },
        {
          "output_type": "stream",
          "name": "stderr",
          "text": [
            "\rFetching crypto data:  68%|██████▊   | 110/162 [01:20<00:21,  2.47it/s]"
          ]
        },
        {
          "output_type": "stream",
          "name": "stdout",
          "text": [
            "Data for BTRSTUSDT fetched successfully.\n"
          ]
        },
        {
          "output_type": "stream",
          "name": "stderr",
          "text": [
            "\rFetching crypto data:  69%|██████▊   | 111/162 [01:20<00:20,  2.45it/s]"
          ]
        },
        {
          "output_type": "stream",
          "name": "stdout",
          "text": [
            "Data for SANDUSDT fetched successfully.\n"
          ]
        },
        {
          "output_type": "stream",
          "name": "stderr",
          "text": [
            "\rFetching crypto data:  69%|██████▉   | 112/162 [01:21<00:20,  2.43it/s]"
          ]
        },
        {
          "output_type": "stream",
          "name": "stdout",
          "text": [
            "Data for BALUSDT fetched successfully.\n"
          ]
        },
        {
          "output_type": "stream",
          "name": "stderr",
          "text": [
            "\rFetching crypto data:  70%|██████▉   | 113/162 [01:21<00:19,  2.47it/s]"
          ]
        },
        {
          "output_type": "stream",
          "name": "stdout",
          "text": [
            "Data for GLMUSDT fetched successfully.\n"
          ]
        },
        {
          "output_type": "stream",
          "name": "stderr",
          "text": [
            "\rFetching crypto data:  70%|███████   | 114/162 [01:21<00:19,  2.46it/s]"
          ]
        },
        {
          "output_type": "stream",
          "name": "stdout",
          "text": [
            "Data for CLVUSDT fetched successfully.\n"
          ]
        },
        {
          "output_type": "stream",
          "name": "stderr",
          "text": [
            "\rFetching crypto data:  71%|███████   | 115/162 [01:22<00:19,  2.47it/s]"
          ]
        },
        {
          "output_type": "stream",
          "name": "stdout",
          "text": [
            "Data for QNTUSDT fetched successfully.\n"
          ]
        },
        {
          "output_type": "stream",
          "name": "stderr",
          "text": [
            "\rFetching crypto data:  72%|███████▏  | 116/162 [01:22<00:18,  2.48it/s]"
          ]
        },
        {
          "output_type": "stream",
          "name": "stdout",
          "text": [
            "Data for STGUSDT fetched successfully.\n"
          ]
        },
        {
          "output_type": "stream",
          "name": "stderr",
          "text": [
            "\rFetching crypto data:  72%|███████▏  | 117/162 [01:23<00:18,  2.49it/s]"
          ]
        },
        {
          "output_type": "stream",
          "name": "stdout",
          "text": [
            "Data for AXLUSDT fetched successfully.\n"
          ]
        },
        {
          "output_type": "stream",
          "name": "stderr",
          "text": [
            "\rFetching crypto data:  73%|███████▎  | 118/162 [01:23<00:20,  2.20it/s]"
          ]
        },
        {
          "output_type": "stream",
          "name": "stdout",
          "text": [
            "Data for KAVAUSDT fetched successfully.\n"
          ]
        },
        {
          "output_type": "stream",
          "name": "stderr",
          "text": [
            "\rFetching crypto data:  73%|███████▎  | 119/162 [01:24<00:19,  2.25it/s]"
          ]
        },
        {
          "output_type": "stream",
          "name": "stdout",
          "text": [
            "Data for APTUSDT fetched successfully.\n"
          ]
        },
        {
          "output_type": "stream",
          "name": "stderr",
          "text": [
            "\rFetching crypto data:  74%|███████▍  | 120/162 [01:24<00:19,  2.20it/s]"
          ]
        },
        {
          "output_type": "stream",
          "name": "stdout",
          "text": [
            "Data for MASKUSDT fetched successfully.\n"
          ]
        },
        {
          "output_type": "stream",
          "name": "stderr",
          "text": [
            "\rFetching crypto data:  75%|███████▍  | 121/162 [01:25<00:18,  2.25it/s]"
          ]
        },
        {
          "output_type": "stream",
          "name": "stdout",
          "text": [
            "Data for BOSONUSDT fetched successfully.\n"
          ]
        },
        {
          "output_type": "stream",
          "name": "stderr",
          "text": [
            "\rFetching crypto data:  75%|███████▌  | 122/162 [01:25<00:17,  2.26it/s]"
          ]
        },
        {
          "output_type": "stream",
          "name": "stdout",
          "text": [
            "Data for PONDUSDT fetched successfully.\n"
          ]
        },
        {
          "output_type": "stream",
          "name": "stderr",
          "text": [
            "\rFetching crypto data:  76%|███████▌  | 123/162 [01:25<00:16,  2.31it/s]"
          ]
        },
        {
          "output_type": "stream",
          "name": "stdout",
          "text": [
            "Data for MXCUSDT fetched successfully.\n"
          ]
        },
        {
          "output_type": "stream",
          "name": "stderr",
          "text": [
            "\rFetching crypto data:  77%|███████▋  | 124/162 [01:26<00:16,  2.29it/s]"
          ]
        },
        {
          "output_type": "stream",
          "name": "stdout",
          "text": [
            "Data for JAMUSDT fetched successfully.\n"
          ]
        },
        {
          "output_type": "stream",
          "name": "stderr",
          "text": [
            "\rFetching crypto data:  77%|███████▋  | 125/162 [01:26<00:15,  2.35it/s]"
          ]
        },
        {
          "output_type": "stream",
          "name": "stdout",
          "text": [
            "Data for TRACUSDT fetched successfully.\n"
          ]
        },
        {
          "output_type": "stream",
          "name": "stderr",
          "text": [
            "\rFetching crypto data:  78%|███████▊  | 126/162 [01:27<00:15,  2.35it/s]"
          ]
        },
        {
          "output_type": "stream",
          "name": "stdout",
          "text": [
            "Data for PROMUSDT fetched successfully.\n"
          ]
        },
        {
          "output_type": "stream",
          "name": "stderr",
          "text": [
            "\rFetching crypto data:  78%|███████▊  | 127/162 [01:27<00:15,  2.33it/s]"
          ]
        },
        {
          "output_type": "stream",
          "name": "stdout",
          "text": [
            "Data for DIAUSDT fetched successfully.\n"
          ]
        },
        {
          "output_type": "stream",
          "name": "stderr",
          "text": [
            "\rFetching crypto data:  79%|███████▉  | 128/162 [01:28<00:14,  2.31it/s]"
          ]
        },
        {
          "output_type": "stream",
          "name": "stdout",
          "text": [
            "Data for LOOMUSDT fetched successfully.\n"
          ]
        },
        {
          "output_type": "stream",
          "name": "stderr",
          "text": [
            "\rFetching crypto data:  80%|███████▉  | 129/162 [01:28<00:13,  2.36it/s]"
          ]
        },
        {
          "output_type": "stream",
          "name": "stdout",
          "text": [
            "Data for STMXUSDT fetched successfully.\n"
          ]
        },
        {
          "output_type": "stream",
          "name": "stderr",
          "text": [
            "\rFetching crypto data:  80%|████████  | 130/162 [01:28<00:13,  2.46it/s]"
          ]
        },
        {
          "output_type": "stream",
          "name": "stdout",
          "text": [
            "Data for POLYXUSDT fetched successfully.\n"
          ]
        },
        {
          "output_type": "stream",
          "name": "stderr",
          "text": [
            "\rFetching crypto data:  81%|████████  | 131/162 [01:29<00:12,  2.47it/s]"
          ]
        },
        {
          "output_type": "stream",
          "name": "stdout",
          "text": [
            "Data for IOSTUSDT fetched successfully.\n"
          ]
        },
        {
          "output_type": "stream",
          "name": "stderr",
          "text": [
            "\rFetching crypto data:  81%|████████▏ | 132/162 [01:29<00:11,  2.51it/s]"
          ]
        },
        {
          "output_type": "stream",
          "name": "stdout",
          "text": [
            "Data for ARBUSDT fetched successfully.\n"
          ]
        },
        {
          "output_type": "stream",
          "name": "stderr",
          "text": [
            "\rFetching crypto data:  82%|████████▏ | 133/162 [01:29<00:11,  2.57it/s]"
          ]
        },
        {
          "output_type": "stream",
          "name": "stdout",
          "text": [
            "Data for FLOKIUSDT fetched successfully.\n"
          ]
        },
        {
          "output_type": "stream",
          "name": "stderr",
          "text": [
            "\rFetching crypto data:  83%|████████▎ | 134/162 [01:30<00:10,  2.59it/s]"
          ]
        },
        {
          "output_type": "stream",
          "name": "stdout",
          "text": [
            "Data for XECUSDT fetched successfully.\n"
          ]
        },
        {
          "output_type": "stream",
          "name": "stderr",
          "text": [
            "\rFetching crypto data:  83%|████████▎ | 135/162 [01:30<00:10,  2.61it/s]"
          ]
        },
        {
          "output_type": "stream",
          "name": "stdout",
          "text": [
            "Data for BLURUSDT fetched successfully.\n"
          ]
        },
        {
          "output_type": "stream",
          "name": "stderr",
          "text": [
            "\rFetching crypto data:  84%|████████▍ | 136/162 [01:31<00:09,  2.64it/s]"
          ]
        },
        {
          "output_type": "stream",
          "name": "stdout",
          "text": [
            "Data for ANKRUSDT fetched successfully.\n"
          ]
        },
        {
          "output_type": "stream",
          "name": "stderr",
          "text": [
            "\rFetching crypto data:  85%|████████▍ | 137/162 [01:31<00:09,  2.65it/s]"
          ]
        },
        {
          "output_type": "stream",
          "name": "stdout",
          "text": [
            "Data for DAIUSDT fetched successfully.\n"
          ]
        },
        {
          "output_type": "stream",
          "name": "stderr",
          "text": [
            "\rFetching crypto data:  85%|████████▌ | 138/162 [01:31<00:08,  2.68it/s]"
          ]
        },
        {
          "output_type": "stream",
          "name": "stdout",
          "text": [
            "Data for DASHUSDT fetched successfully.\n"
          ]
        },
        {
          "output_type": "stream",
          "name": "stderr",
          "text": [
            "\rFetching crypto data:  86%|████████▌ | 139/162 [01:32<00:08,  2.66it/s]"
          ]
        },
        {
          "output_type": "stream",
          "name": "stdout",
          "text": [
            "Data for HBARUSDT fetched successfully.\n"
          ]
        },
        {
          "output_type": "stream",
          "name": "stderr",
          "text": [
            "\rFetching crypto data:  86%|████████▋ | 140/162 [01:32<00:08,  2.69it/s]"
          ]
        },
        {
          "output_type": "stream",
          "name": "stdout",
          "text": [
            "Data for ICXUSDT fetched successfully.\n"
          ]
        },
        {
          "output_type": "stream",
          "name": "stderr",
          "text": [
            "\rFetching crypto data:  87%|████████▋ | 141/162 [01:32<00:07,  2.70it/s]"
          ]
        },
        {
          "output_type": "stream",
          "name": "stdout",
          "text": [
            "Data for IOTAUSDT fetched successfully.\n"
          ]
        },
        {
          "output_type": "stream",
          "name": "stderr",
          "text": [
            "\rFetching crypto data:  88%|████████▊ | 142/162 [01:33<00:07,  2.64it/s]"
          ]
        },
        {
          "output_type": "stream",
          "name": "stdout",
          "text": [
            "Data for RVNUSDT fetched successfully.\n"
          ]
        },
        {
          "output_type": "stream",
          "name": "stderr",
          "text": [
            "\rFetching crypto data:  88%|████████▊ | 143/162 [01:33<00:07,  2.67it/s]"
          ]
        },
        {
          "output_type": "stream",
          "name": "stdout",
          "text": [
            "Data for XNOUSDT fetched successfully.\n"
          ]
        },
        {
          "output_type": "stream",
          "name": "stderr",
          "text": [
            "\rFetching crypto data:  89%|████████▉ | 144/162 [01:34<00:06,  2.69it/s]"
          ]
        },
        {
          "output_type": "stream",
          "name": "stdout",
          "text": [
            "Data for XTZUSDT fetched successfully.\n"
          ]
        },
        {
          "output_type": "stream",
          "name": "stderr",
          "text": [
            "\rFetching crypto data:  90%|████████▉ | 145/162 [01:34<00:06,  2.67it/s]"
          ]
        },
        {
          "output_type": "stream",
          "name": "stdout",
          "text": [
            "Data for ZILUSDT fetched successfully.\n"
          ]
        },
        {
          "output_type": "stream",
          "name": "stderr",
          "text": [
            "\rFetching crypto data:  90%|█████████ | 146/162 [01:34<00:05,  2.71it/s]"
          ]
        },
        {
          "output_type": "stream",
          "name": "stdout",
          "text": [
            "Data for ORBSUSDT fetched successfully.\n"
          ]
        },
        {
          "output_type": "stream",
          "name": "stderr",
          "text": [
            "\rFetching crypto data:  91%|█████████ | 147/162 [01:35<00:05,  2.67it/s]"
          ]
        },
        {
          "output_type": "stream",
          "name": "stdout",
          "text": [
            "Data for ADXUSDT fetched successfully.\n"
          ]
        },
        {
          "output_type": "stream",
          "name": "stderr",
          "text": [
            "\rFetching crypto data:  91%|█████████▏| 148/162 [01:35<00:05,  2.69it/s]"
          ]
        },
        {
          "output_type": "stream",
          "name": "stdout",
          "text": [
            "Data for FORTUSDT fetched successfully.\n"
          ]
        },
        {
          "output_type": "stream",
          "name": "stderr",
          "text": [
            "\rFetching crypto data:  92%|█████████▏| 149/162 [01:35<00:04,  2.70it/s]"
          ]
        },
        {
          "output_type": "stream",
          "name": "stdout",
          "text": [
            "Data for SUIUSDT fetched successfully.\n"
          ]
        },
        {
          "output_type": "stream",
          "name": "stderr",
          "text": [
            "\rFetching crypto data:  93%|█████████▎| 150/162 [01:36<00:04,  2.74it/s]"
          ]
        },
        {
          "output_type": "stream",
          "name": "stdout",
          "text": [
            "Data for ONGUSDT fetched successfully.\n"
          ]
        },
        {
          "output_type": "stream",
          "name": "stderr",
          "text": [
            "\rFetching crypto data:  93%|█████████▎| 151/162 [01:36<00:03,  2.83it/s]"
          ]
        },
        {
          "output_type": "stream",
          "name": "stdout",
          "text": [
            "Data for GUSDT fetched successfully.\n"
          ]
        },
        {
          "output_type": "stream",
          "name": "stderr",
          "text": [
            "\rFetching crypto data:  94%|█████████▍| 152/162 [01:36<00:03,  2.92it/s]"
          ]
        },
        {
          "output_type": "stream",
          "name": "stdout",
          "text": [
            "Data for RENDERUSDT fetched successfully.\n"
          ]
        },
        {
          "output_type": "stream",
          "name": "stderr",
          "text": [
            "\rFetching crypto data:  94%|█████████▍| 153/162 [01:37<00:02,  3.00it/s]"
          ]
        },
        {
          "output_type": "stream",
          "name": "stdout",
          "text": [
            "Data for BONKUSDT fetched successfully.\n"
          ]
        },
        {
          "output_type": "stream",
          "name": "stderr",
          "text": [
            "\rFetching crypto data:  95%|█████████▌| 154/162 [01:37<00:02,  3.07it/s]"
          ]
        },
        {
          "output_type": "stream",
          "name": "stdout",
          "text": [
            "Data for MAGICUSDT fetched successfully.\n"
          ]
        },
        {
          "output_type": "stream",
          "name": "stderr",
          "text": [
            "\rFetching crypto data:  96%|█████████▌| 155/162 [01:37<00:02,  3.13it/s]"
          ]
        },
        {
          "output_type": "stream",
          "name": "stdout",
          "text": [
            "Data for PEPEUSDT fetched successfully.\n"
          ]
        },
        {
          "output_type": "stream",
          "name": "stderr",
          "text": [
            "\rFetching crypto data:  96%|█████████▋| 156/162 [01:38<00:01,  3.16it/s]"
          ]
        },
        {
          "output_type": "stream",
          "name": "stdout",
          "text": [
            "Data for WIFUSDT fetched successfully.\n"
          ]
        },
        {
          "output_type": "stream",
          "name": "stderr",
          "text": [
            "\rFetching crypto data:  97%|█████████▋| 157/162 [01:38<00:01,  3.17it/s]"
          ]
        },
        {
          "output_type": "stream",
          "name": "stdout",
          "text": [
            "Data for IOTXUSDT fetched successfully.\n"
          ]
        },
        {
          "output_type": "stream",
          "name": "stderr",
          "text": [
            "\rFetching crypto data:  98%|█████████▊| 158/162 [01:38<00:01,  3.19it/s]"
          ]
        },
        {
          "output_type": "stream",
          "name": "stdout",
          "text": [
            "Data for PNUTUSDT fetched successfully.\n"
          ]
        },
        {
          "output_type": "stream",
          "name": "stderr",
          "text": [
            "\rFetching crypto data:  98%|█████████▊| 159/162 [01:39<00:00,  3.21it/s]"
          ]
        },
        {
          "output_type": "stream",
          "name": "stdout",
          "text": [
            "Data for PENGUUSDT fetched successfully.\n"
          ]
        },
        {
          "output_type": "stream",
          "name": "stderr",
          "text": [
            "\rFetching crypto data:  99%|█████████▉| 160/162 [01:39<00:00,  3.21it/s]"
          ]
        },
        {
          "output_type": "stream",
          "name": "stdout",
          "text": [
            "Data for POLUSDT fetched successfully.\n"
          ]
        },
        {
          "output_type": "stream",
          "name": "stderr",
          "text": [
            "\rFetching crypto data:  99%|█████████▉| 161/162 [01:39<00:00,  3.22it/s]"
          ]
        },
        {
          "output_type": "stream",
          "name": "stdout",
          "text": [
            "Data for TRUMPUSDT fetched successfully.\n"
          ]
        },
        {
          "output_type": "stream",
          "name": "stderr",
          "text": [
            "Fetching crypto data: 100%|██████████| 162/162 [01:40<00:00,  1.62it/s]"
          ]
        },
        {
          "output_type": "stream",
          "name": "stdout",
          "text": [
            "Data for NEIROUSDT fetched successfully.\n"
          ]
        },
        {
          "output_type": "stream",
          "name": "stderr",
          "text": [
            "\n"
          ]
        },
        {
          "output_type": "stream",
          "name": "stdout",
          "text": [
            "Master parquet file saved as 'master_crypto_data.parquet'\n"
          ]
        }
      ],
      "source": [
        "all_data = []\n",
        "for ticker in tqdm(active_usdt_tickers, desc=\"Fetching crypto data\"):\n",
        "    try:\n",
        "        cleaned_ticker = ticker.replace('/', '')\n",
        "        df = fetch_data(cleaned_ticker, start_date, end_date, interval)\n",
        "        all_data.append(df)\n",
        "        print(f\"Data for {cleaned_ticker} fetched successfully.\")\n",
        "    except Exception as e:\n",
        "        print(f\"Error fetching data for {ticker}: {e}\")\n",
        "\n",
        "# Concatenate all the DataFrames into one master DataFrame\n",
        "master_data = pd.concat(all_data, ignore_index=True)\n",
        "\n",
        "# Save the master DataFrame to a Parquet file\n",
        "master_data.to_parquet(\"master_crypto_data.parquet\", index=False)\n",
        "print(\"Master parquet file saved as 'master_crypto_data.parquet'\")"
      ]
    },
    {
      "cell_type": "markdown",
      "source": [
        "## Data Cleaning"
      ],
      "metadata": {
        "id": "5y1np2Gu7lP9"
      }
    },
    {
      "cell_type": "code",
      "source": [
        "# prompt: Only keep the Y-M-D of Open Time\n",
        "\n",
        "import pandas as pd\n",
        "\n",
        "data = pd.read_parquet(\"master_crypto_data.parquet\")\n",
        "\n",
        "data['Open Time'] = pd.to_datetime(data['Open time'])\n",
        "data['Open Time (Y-M-D)'] = data['Open time'].dt.strftime('%Y-%m-%d')\n",
        "data.set_index('Open Time (Y-M-D)', inplace=True)\n",
        "data\n"
      ],
      "metadata": {
        "colab": {
          "base_uri": "https://localhost:8080/",
          "height": 698
        },
        "id": "Hk_JQnMP2Z5G",
        "outputId": "d244a266-1b05-4d88-f0ef-128155e7fdb8"
      },
      "execution_count": 8,
      "outputs": [
        {
          "output_type": "execute_result",
          "data": {
            "text/plain": [
              "                                  Open time           Open           High  \\\n",
              "Open Time (Y-M-D)                                                           \n",
              "2019-09-23        2019-09-23 00:00:00+00:00  9930.13000000  9930.13000000   \n",
              "2019-09-24        2019-09-24 00:00:00+00:00  9637.93000000  9665.05000000   \n",
              "2019-09-25        2019-09-25 00:00:00+00:00  8528.12000000  8724.77000000   \n",
              "2019-09-26        2019-09-26 00:00:00+00:00  8434.45000000  8453.20000000   \n",
              "2019-09-27        2019-09-27 00:00:00+00:00  8078.75000000  8259.96000000   \n",
              "...                                     ...            ...            ...   \n",
              "2025-02-22        2025-02-22 00:00:00+00:00     0.00036830     0.00044590   \n",
              "2025-02-23        2025-02-23 00:00:00+00:00     0.00039728     0.00043262   \n",
              "2025-02-24        2025-02-24 00:00:00+00:00     0.00038312     0.00042142   \n",
              "2025-02-25        2025-02-25 00:00:00+00:00     0.00032220     0.00041716   \n",
              "2025-02-26        2025-02-26 00:00:00+00:00     0.00037167     0.00040883   \n",
              "\n",
              "                             Low          Close        Volume     Close time  \\\n",
              "Open Time (Y-M-D)                                                              \n",
              "2019-09-23         9930.13000000  9930.13000000    0.00100000  1569283199999   \n",
              "2019-09-24         7996.45000000  8519.67000000  202.35079900  1569369599999   \n",
              "2019-09-25         8247.78000000  8435.28000000   55.41797100  1569455999999   \n",
              "2019-09-26         7761.87000000  8064.41000000   41.88007900  1569542399999   \n",
              "2019-09-27         7858.58000000  8178.73000000   47.14290400  1569628799999   \n",
              "...                          ...            ...           ...            ...   \n",
              "2025-02-22            0.00035281     0.00043700    7017510.00  1740268799999   \n",
              "2025-02-23            0.00037002     0.00038312   14115426.00  1740355199999   \n",
              "2025-02-24            0.00032220     0.00032220  211463527.00  1740441599999   \n",
              "2025-02-25            0.00030600     0.00037167    7348144.00  1740527999999   \n",
              "2025-02-26            0.00033455     0.00036795     102085.00  1740614399999   \n",
              "\n",
              "                  Quote asset volume  Number of trades  \\\n",
              "Open Time (Y-M-D)                                        \n",
              "2019-09-23                9.93013000                 1   \n",
              "2019-09-24          1739432.08920509              2345   \n",
              "2019-09-25           469361.69055629               763   \n",
              "2019-09-26           340923.66601370              1023   \n",
              "2019-09-27           379917.99846542               990   \n",
              "...                              ...               ...   \n",
              "2025-02-22             2906.92565489                58   \n",
              "2025-02-23             5717.43299936                33   \n",
              "2025-02-24            68355.16999234                84   \n",
              "2025-02-25             2494.84836495                57   \n",
              "2025-02-26               36.99892387                 4   \n",
              "\n",
              "                  Taker buy base asset volume Taker buy quote asset volume  \\\n",
              "Open Time (Y-M-D)                                                            \n",
              "2019-09-23                         0.00000000                   0.00000000   \n",
              "2019-09-24                       125.93546400             1075623.60280331   \n",
              "2019-09-25                        29.05942700              246049.20514584   \n",
              "2019-09-26                        19.80884900              161115.44149782   \n",
              "2019-09-27                        23.90374200              192755.96772991   \n",
              "...                                       ...                          ...   \n",
              "2025-02-22                         6191501.00                2586.24623479   \n",
              "2025-02-23                        10311821.00                4228.42642474   \n",
              "2025-02-24                           74092.00                  29.99931429   \n",
              "2025-02-25                         3591032.00                1264.45965740   \n",
              "2025-02-26                           24460.00                   9.99998180   \n",
              "\n",
              "                  Ignore     Ticker                 Open Time  \n",
              "Open Time (Y-M-D)                                              \n",
              "2019-09-23             0    BTCUSDT 2019-09-23 00:00:00+00:00  \n",
              "2019-09-24             0    BTCUSDT 2019-09-24 00:00:00+00:00  \n",
              "2019-09-25             0    BTCUSDT 2019-09-25 00:00:00+00:00  \n",
              "2019-09-26             0    BTCUSDT 2019-09-26 00:00:00+00:00  \n",
              "2019-09-27             0    BTCUSDT 2019-09-27 00:00:00+00:00  \n",
              "...                  ...        ...                       ...  \n",
              "2025-02-22             0  NEIROUSDT 2025-02-22 00:00:00+00:00  \n",
              "2025-02-23             0  NEIROUSDT 2025-02-23 00:00:00+00:00  \n",
              "2025-02-24             0  NEIROUSDT 2025-02-24 00:00:00+00:00  \n",
              "2025-02-25             0  NEIROUSDT 2025-02-25 00:00:00+00:00  \n",
              "2025-02-26             0  NEIROUSDT 2025-02-26 00:00:00+00:00  \n",
              "\n",
              "[167386 rows x 14 columns]"
            ],
            "text/html": [
              "\n",
              "  <div id=\"df-ff07d1e0-0dbd-4580-875b-6be5777eff15\" class=\"colab-df-container\">\n",
              "    <div>\n",
              "<style scoped>\n",
              "    .dataframe tbody tr th:only-of-type {\n",
              "        vertical-align: middle;\n",
              "    }\n",
              "\n",
              "    .dataframe tbody tr th {\n",
              "        vertical-align: top;\n",
              "    }\n",
              "\n",
              "    .dataframe thead th {\n",
              "        text-align: right;\n",
              "    }\n",
              "</style>\n",
              "<table border=\"1\" class=\"dataframe\">\n",
              "  <thead>\n",
              "    <tr style=\"text-align: right;\">\n",
              "      <th></th>\n",
              "      <th>Open time</th>\n",
              "      <th>Open</th>\n",
              "      <th>High</th>\n",
              "      <th>Low</th>\n",
              "      <th>Close</th>\n",
              "      <th>Volume</th>\n",
              "      <th>Close time</th>\n",
              "      <th>Quote asset volume</th>\n",
              "      <th>Number of trades</th>\n",
              "      <th>Taker buy base asset volume</th>\n",
              "      <th>Taker buy quote asset volume</th>\n",
              "      <th>Ignore</th>\n",
              "      <th>Ticker</th>\n",
              "      <th>Open Time</th>\n",
              "    </tr>\n",
              "    <tr>\n",
              "      <th>Open Time (Y-M-D)</th>\n",
              "      <th></th>\n",
              "      <th></th>\n",
              "      <th></th>\n",
              "      <th></th>\n",
              "      <th></th>\n",
              "      <th></th>\n",
              "      <th></th>\n",
              "      <th></th>\n",
              "      <th></th>\n",
              "      <th></th>\n",
              "      <th></th>\n",
              "      <th></th>\n",
              "      <th></th>\n",
              "      <th></th>\n",
              "    </tr>\n",
              "  </thead>\n",
              "  <tbody>\n",
              "    <tr>\n",
              "      <th>2019-09-23</th>\n",
              "      <td>2019-09-23 00:00:00+00:00</td>\n",
              "      <td>9930.13000000</td>\n",
              "      <td>9930.13000000</td>\n",
              "      <td>9930.13000000</td>\n",
              "      <td>9930.13000000</td>\n",
              "      <td>0.00100000</td>\n",
              "      <td>1569283199999</td>\n",
              "      <td>9.93013000</td>\n",
              "      <td>1</td>\n",
              "      <td>0.00000000</td>\n",
              "      <td>0.00000000</td>\n",
              "      <td>0</td>\n",
              "      <td>BTCUSDT</td>\n",
              "      <td>2019-09-23 00:00:00+00:00</td>\n",
              "    </tr>\n",
              "    <tr>\n",
              "      <th>2019-09-24</th>\n",
              "      <td>2019-09-24 00:00:00+00:00</td>\n",
              "      <td>9637.93000000</td>\n",
              "      <td>9665.05000000</td>\n",
              "      <td>7996.45000000</td>\n",
              "      <td>8519.67000000</td>\n",
              "      <td>202.35079900</td>\n",
              "      <td>1569369599999</td>\n",
              "      <td>1739432.08920509</td>\n",
              "      <td>2345</td>\n",
              "      <td>125.93546400</td>\n",
              "      <td>1075623.60280331</td>\n",
              "      <td>0</td>\n",
              "      <td>BTCUSDT</td>\n",
              "      <td>2019-09-24 00:00:00+00:00</td>\n",
              "    </tr>\n",
              "    <tr>\n",
              "      <th>2019-09-25</th>\n",
              "      <td>2019-09-25 00:00:00+00:00</td>\n",
              "      <td>8528.12000000</td>\n",
              "      <td>8724.77000000</td>\n",
              "      <td>8247.78000000</td>\n",
              "      <td>8435.28000000</td>\n",
              "      <td>55.41797100</td>\n",
              "      <td>1569455999999</td>\n",
              "      <td>469361.69055629</td>\n",
              "      <td>763</td>\n",
              "      <td>29.05942700</td>\n",
              "      <td>246049.20514584</td>\n",
              "      <td>0</td>\n",
              "      <td>BTCUSDT</td>\n",
              "      <td>2019-09-25 00:00:00+00:00</td>\n",
              "    </tr>\n",
              "    <tr>\n",
              "      <th>2019-09-26</th>\n",
              "      <td>2019-09-26 00:00:00+00:00</td>\n",
              "      <td>8434.45000000</td>\n",
              "      <td>8453.20000000</td>\n",
              "      <td>7761.87000000</td>\n",
              "      <td>8064.41000000</td>\n",
              "      <td>41.88007900</td>\n",
              "      <td>1569542399999</td>\n",
              "      <td>340923.66601370</td>\n",
              "      <td>1023</td>\n",
              "      <td>19.80884900</td>\n",
              "      <td>161115.44149782</td>\n",
              "      <td>0</td>\n",
              "      <td>BTCUSDT</td>\n",
              "      <td>2019-09-26 00:00:00+00:00</td>\n",
              "    </tr>\n",
              "    <tr>\n",
              "      <th>2019-09-27</th>\n",
              "      <td>2019-09-27 00:00:00+00:00</td>\n",
              "      <td>8078.75000000</td>\n",
              "      <td>8259.96000000</td>\n",
              "      <td>7858.58000000</td>\n",
              "      <td>8178.73000000</td>\n",
              "      <td>47.14290400</td>\n",
              "      <td>1569628799999</td>\n",
              "      <td>379917.99846542</td>\n",
              "      <td>990</td>\n",
              "      <td>23.90374200</td>\n",
              "      <td>192755.96772991</td>\n",
              "      <td>0</td>\n",
              "      <td>BTCUSDT</td>\n",
              "      <td>2019-09-27 00:00:00+00:00</td>\n",
              "    </tr>\n",
              "    <tr>\n",
              "      <th>...</th>\n",
              "      <td>...</td>\n",
              "      <td>...</td>\n",
              "      <td>...</td>\n",
              "      <td>...</td>\n",
              "      <td>...</td>\n",
              "      <td>...</td>\n",
              "      <td>...</td>\n",
              "      <td>...</td>\n",
              "      <td>...</td>\n",
              "      <td>...</td>\n",
              "      <td>...</td>\n",
              "      <td>...</td>\n",
              "      <td>...</td>\n",
              "      <td>...</td>\n",
              "    </tr>\n",
              "    <tr>\n",
              "      <th>2025-02-22</th>\n",
              "      <td>2025-02-22 00:00:00+00:00</td>\n",
              "      <td>0.00036830</td>\n",
              "      <td>0.00044590</td>\n",
              "      <td>0.00035281</td>\n",
              "      <td>0.00043700</td>\n",
              "      <td>7017510.00</td>\n",
              "      <td>1740268799999</td>\n",
              "      <td>2906.92565489</td>\n",
              "      <td>58</td>\n",
              "      <td>6191501.00</td>\n",
              "      <td>2586.24623479</td>\n",
              "      <td>0</td>\n",
              "      <td>NEIROUSDT</td>\n",
              "      <td>2025-02-22 00:00:00+00:00</td>\n",
              "    </tr>\n",
              "    <tr>\n",
              "      <th>2025-02-23</th>\n",
              "      <td>2025-02-23 00:00:00+00:00</td>\n",
              "      <td>0.00039728</td>\n",
              "      <td>0.00043262</td>\n",
              "      <td>0.00037002</td>\n",
              "      <td>0.00038312</td>\n",
              "      <td>14115426.00</td>\n",
              "      <td>1740355199999</td>\n",
              "      <td>5717.43299936</td>\n",
              "      <td>33</td>\n",
              "      <td>10311821.00</td>\n",
              "      <td>4228.42642474</td>\n",
              "      <td>0</td>\n",
              "      <td>NEIROUSDT</td>\n",
              "      <td>2025-02-23 00:00:00+00:00</td>\n",
              "    </tr>\n",
              "    <tr>\n",
              "      <th>2025-02-24</th>\n",
              "      <td>2025-02-24 00:00:00+00:00</td>\n",
              "      <td>0.00038312</td>\n",
              "      <td>0.00042142</td>\n",
              "      <td>0.00032220</td>\n",
              "      <td>0.00032220</td>\n",
              "      <td>211463527.00</td>\n",
              "      <td>1740441599999</td>\n",
              "      <td>68355.16999234</td>\n",
              "      <td>84</td>\n",
              "      <td>74092.00</td>\n",
              "      <td>29.99931429</td>\n",
              "      <td>0</td>\n",
              "      <td>NEIROUSDT</td>\n",
              "      <td>2025-02-24 00:00:00+00:00</td>\n",
              "    </tr>\n",
              "    <tr>\n",
              "      <th>2025-02-25</th>\n",
              "      <td>2025-02-25 00:00:00+00:00</td>\n",
              "      <td>0.00032220</td>\n",
              "      <td>0.00041716</td>\n",
              "      <td>0.00030600</td>\n",
              "      <td>0.00037167</td>\n",
              "      <td>7348144.00</td>\n",
              "      <td>1740527999999</td>\n",
              "      <td>2494.84836495</td>\n",
              "      <td>57</td>\n",
              "      <td>3591032.00</td>\n",
              "      <td>1264.45965740</td>\n",
              "      <td>0</td>\n",
              "      <td>NEIROUSDT</td>\n",
              "      <td>2025-02-25 00:00:00+00:00</td>\n",
              "    </tr>\n",
              "    <tr>\n",
              "      <th>2025-02-26</th>\n",
              "      <td>2025-02-26 00:00:00+00:00</td>\n",
              "      <td>0.00037167</td>\n",
              "      <td>0.00040883</td>\n",
              "      <td>0.00033455</td>\n",
              "      <td>0.00036795</td>\n",
              "      <td>102085.00</td>\n",
              "      <td>1740614399999</td>\n",
              "      <td>36.99892387</td>\n",
              "      <td>4</td>\n",
              "      <td>24460.00</td>\n",
              "      <td>9.99998180</td>\n",
              "      <td>0</td>\n",
              "      <td>NEIROUSDT</td>\n",
              "      <td>2025-02-26 00:00:00+00:00</td>\n",
              "    </tr>\n",
              "  </tbody>\n",
              "</table>\n",
              "<p>167386 rows × 14 columns</p>\n",
              "</div>\n",
              "    <div class=\"colab-df-buttons\">\n",
              "\n",
              "  <div class=\"colab-df-container\">\n",
              "    <button class=\"colab-df-convert\" onclick=\"convertToInteractive('df-ff07d1e0-0dbd-4580-875b-6be5777eff15')\"\n",
              "            title=\"Convert this dataframe to an interactive table.\"\n",
              "            style=\"display:none;\">\n",
              "\n",
              "  <svg xmlns=\"http://www.w3.org/2000/svg\" height=\"24px\" viewBox=\"0 -960 960 960\">\n",
              "    <path d=\"M120-120v-720h720v720H120Zm60-500h600v-160H180v160Zm220 220h160v-160H400v160Zm0 220h160v-160H400v160ZM180-400h160v-160H180v160Zm440 0h160v-160H620v160ZM180-180h160v-160H180v160Zm440 0h160v-160H620v160Z\"/>\n",
              "  </svg>\n",
              "    </button>\n",
              "\n",
              "  <style>\n",
              "    .colab-df-container {\n",
              "      display:flex;\n",
              "      gap: 12px;\n",
              "    }\n",
              "\n",
              "    .colab-df-convert {\n",
              "      background-color: #E8F0FE;\n",
              "      border: none;\n",
              "      border-radius: 50%;\n",
              "      cursor: pointer;\n",
              "      display: none;\n",
              "      fill: #1967D2;\n",
              "      height: 32px;\n",
              "      padding: 0 0 0 0;\n",
              "      width: 32px;\n",
              "    }\n",
              "\n",
              "    .colab-df-convert:hover {\n",
              "      background-color: #E2EBFA;\n",
              "      box-shadow: 0px 1px 2px rgba(60, 64, 67, 0.3), 0px 1px 3px 1px rgba(60, 64, 67, 0.15);\n",
              "      fill: #174EA6;\n",
              "    }\n",
              "\n",
              "    .colab-df-buttons div {\n",
              "      margin-bottom: 4px;\n",
              "    }\n",
              "\n",
              "    [theme=dark] .colab-df-convert {\n",
              "      background-color: #3B4455;\n",
              "      fill: #D2E3FC;\n",
              "    }\n",
              "\n",
              "    [theme=dark] .colab-df-convert:hover {\n",
              "      background-color: #434B5C;\n",
              "      box-shadow: 0px 1px 3px 1px rgba(0, 0, 0, 0.15);\n",
              "      filter: drop-shadow(0px 1px 2px rgba(0, 0, 0, 0.3));\n",
              "      fill: #FFFFFF;\n",
              "    }\n",
              "  </style>\n",
              "\n",
              "    <script>\n",
              "      const buttonEl =\n",
              "        document.querySelector('#df-ff07d1e0-0dbd-4580-875b-6be5777eff15 button.colab-df-convert');\n",
              "      buttonEl.style.display =\n",
              "        google.colab.kernel.accessAllowed ? 'block' : 'none';\n",
              "\n",
              "      async function convertToInteractive(key) {\n",
              "        const element = document.querySelector('#df-ff07d1e0-0dbd-4580-875b-6be5777eff15');\n",
              "        const dataTable =\n",
              "          await google.colab.kernel.invokeFunction('convertToInteractive',\n",
              "                                                    [key], {});\n",
              "        if (!dataTable) return;\n",
              "\n",
              "        const docLinkHtml = 'Like what you see? Visit the ' +\n",
              "          '<a target=\"_blank\" href=https://colab.research.google.com/notebooks/data_table.ipynb>data table notebook</a>'\n",
              "          + ' to learn more about interactive tables.';\n",
              "        element.innerHTML = '';\n",
              "        dataTable['output_type'] = 'display_data';\n",
              "        await google.colab.output.renderOutput(dataTable, element);\n",
              "        const docLink = document.createElement('div');\n",
              "        docLink.innerHTML = docLinkHtml;\n",
              "        element.appendChild(docLink);\n",
              "      }\n",
              "    </script>\n",
              "  </div>\n",
              "\n",
              "\n",
              "<div id=\"df-2b94df06-147a-4c9b-b86f-31be3a85b3f2\">\n",
              "  <button class=\"colab-df-quickchart\" onclick=\"quickchart('df-2b94df06-147a-4c9b-b86f-31be3a85b3f2')\"\n",
              "            title=\"Suggest charts\"\n",
              "            style=\"display:none;\">\n",
              "\n",
              "<svg xmlns=\"http://www.w3.org/2000/svg\" height=\"24px\"viewBox=\"0 0 24 24\"\n",
              "     width=\"24px\">\n",
              "    <g>\n",
              "        <path d=\"M19 3H5c-1.1 0-2 .9-2 2v14c0 1.1.9 2 2 2h14c1.1 0 2-.9 2-2V5c0-1.1-.9-2-2-2zM9 17H7v-7h2v7zm4 0h-2V7h2v10zm4 0h-2v-4h2v4z\"/>\n",
              "    </g>\n",
              "</svg>\n",
              "  </button>\n",
              "\n",
              "<style>\n",
              "  .colab-df-quickchart {\n",
              "      --bg-color: #E8F0FE;\n",
              "      --fill-color: #1967D2;\n",
              "      --hover-bg-color: #E2EBFA;\n",
              "      --hover-fill-color: #174EA6;\n",
              "      --disabled-fill-color: #AAA;\n",
              "      --disabled-bg-color: #DDD;\n",
              "  }\n",
              "\n",
              "  [theme=dark] .colab-df-quickchart {\n",
              "      --bg-color: #3B4455;\n",
              "      --fill-color: #D2E3FC;\n",
              "      --hover-bg-color: #434B5C;\n",
              "      --hover-fill-color: #FFFFFF;\n",
              "      --disabled-bg-color: #3B4455;\n",
              "      --disabled-fill-color: #666;\n",
              "  }\n",
              "\n",
              "  .colab-df-quickchart {\n",
              "    background-color: var(--bg-color);\n",
              "    border: none;\n",
              "    border-radius: 50%;\n",
              "    cursor: pointer;\n",
              "    display: none;\n",
              "    fill: var(--fill-color);\n",
              "    height: 32px;\n",
              "    padding: 0;\n",
              "    width: 32px;\n",
              "  }\n",
              "\n",
              "  .colab-df-quickchart:hover {\n",
              "    background-color: var(--hover-bg-color);\n",
              "    box-shadow: 0 1px 2px rgba(60, 64, 67, 0.3), 0 1px 3px 1px rgba(60, 64, 67, 0.15);\n",
              "    fill: var(--button-hover-fill-color);\n",
              "  }\n",
              "\n",
              "  .colab-df-quickchart-complete:disabled,\n",
              "  .colab-df-quickchart-complete:disabled:hover {\n",
              "    background-color: var(--disabled-bg-color);\n",
              "    fill: var(--disabled-fill-color);\n",
              "    box-shadow: none;\n",
              "  }\n",
              "\n",
              "  .colab-df-spinner {\n",
              "    border: 2px solid var(--fill-color);\n",
              "    border-color: transparent;\n",
              "    border-bottom-color: var(--fill-color);\n",
              "    animation:\n",
              "      spin 1s steps(1) infinite;\n",
              "  }\n",
              "\n",
              "  @keyframes spin {\n",
              "    0% {\n",
              "      border-color: transparent;\n",
              "      border-bottom-color: var(--fill-color);\n",
              "      border-left-color: var(--fill-color);\n",
              "    }\n",
              "    20% {\n",
              "      border-color: transparent;\n",
              "      border-left-color: var(--fill-color);\n",
              "      border-top-color: var(--fill-color);\n",
              "    }\n",
              "    30% {\n",
              "      border-color: transparent;\n",
              "      border-left-color: var(--fill-color);\n",
              "      border-top-color: var(--fill-color);\n",
              "      border-right-color: var(--fill-color);\n",
              "    }\n",
              "    40% {\n",
              "      border-color: transparent;\n",
              "      border-right-color: var(--fill-color);\n",
              "      border-top-color: var(--fill-color);\n",
              "    }\n",
              "    60% {\n",
              "      border-color: transparent;\n",
              "      border-right-color: var(--fill-color);\n",
              "    }\n",
              "    80% {\n",
              "      border-color: transparent;\n",
              "      border-right-color: var(--fill-color);\n",
              "      border-bottom-color: var(--fill-color);\n",
              "    }\n",
              "    90% {\n",
              "      border-color: transparent;\n",
              "      border-bottom-color: var(--fill-color);\n",
              "    }\n",
              "  }\n",
              "</style>\n",
              "\n",
              "  <script>\n",
              "    async function quickchart(key) {\n",
              "      const quickchartButtonEl =\n",
              "        document.querySelector('#' + key + ' button');\n",
              "      quickchartButtonEl.disabled = true;  // To prevent multiple clicks.\n",
              "      quickchartButtonEl.classList.add('colab-df-spinner');\n",
              "      try {\n",
              "        const charts = await google.colab.kernel.invokeFunction(\n",
              "            'suggestCharts', [key], {});\n",
              "      } catch (error) {\n",
              "        console.error('Error during call to suggestCharts:', error);\n",
              "      }\n",
              "      quickchartButtonEl.classList.remove('colab-df-spinner');\n",
              "      quickchartButtonEl.classList.add('colab-df-quickchart-complete');\n",
              "    }\n",
              "    (() => {\n",
              "      let quickchartButtonEl =\n",
              "        document.querySelector('#df-2b94df06-147a-4c9b-b86f-31be3a85b3f2 button');\n",
              "      quickchartButtonEl.style.display =\n",
              "        google.colab.kernel.accessAllowed ? 'block' : 'none';\n",
              "    })();\n",
              "  </script>\n",
              "</div>\n",
              "\n",
              "  <div id=\"id_38e5847d-7c2c-4302-a3cd-655c5081a674\">\n",
              "    <style>\n",
              "      .colab-df-generate {\n",
              "        background-color: #E8F0FE;\n",
              "        border: none;\n",
              "        border-radius: 50%;\n",
              "        cursor: pointer;\n",
              "        display: none;\n",
              "        fill: #1967D2;\n",
              "        height: 32px;\n",
              "        padding: 0 0 0 0;\n",
              "        width: 32px;\n",
              "      }\n",
              "\n",
              "      .colab-df-generate:hover {\n",
              "        background-color: #E2EBFA;\n",
              "        box-shadow: 0px 1px 2px rgba(60, 64, 67, 0.3), 0px 1px 3px 1px rgba(60, 64, 67, 0.15);\n",
              "        fill: #174EA6;\n",
              "      }\n",
              "\n",
              "      [theme=dark] .colab-df-generate {\n",
              "        background-color: #3B4455;\n",
              "        fill: #D2E3FC;\n",
              "      }\n",
              "\n",
              "      [theme=dark] .colab-df-generate:hover {\n",
              "        background-color: #434B5C;\n",
              "        box-shadow: 0px 1px 3px 1px rgba(0, 0, 0, 0.15);\n",
              "        filter: drop-shadow(0px 1px 2px rgba(0, 0, 0, 0.3));\n",
              "        fill: #FFFFFF;\n",
              "      }\n",
              "    </style>\n",
              "    <button class=\"colab-df-generate\" onclick=\"generateWithVariable('data')\"\n",
              "            title=\"Generate code using this dataframe.\"\n",
              "            style=\"display:none;\">\n",
              "\n",
              "  <svg xmlns=\"http://www.w3.org/2000/svg\" height=\"24px\"viewBox=\"0 0 24 24\"\n",
              "       width=\"24px\">\n",
              "    <path d=\"M7,19H8.4L18.45,9,17,7.55,7,17.6ZM5,21V16.75L18.45,3.32a2,2,0,0,1,2.83,0l1.4,1.43a1.91,1.91,0,0,1,.58,1.4,1.91,1.91,0,0,1-.58,1.4L9.25,21ZM18.45,9,17,7.55Zm-12,3A5.31,5.31,0,0,0,4.9,8.1,5.31,5.31,0,0,0,1,6.5,5.31,5.31,0,0,0,4.9,4.9,5.31,5.31,0,0,0,6.5,1,5.31,5.31,0,0,0,8.1,4.9,5.31,5.31,0,0,0,12,6.5,5.46,5.46,0,0,0,6.5,12Z\"/>\n",
              "  </svg>\n",
              "    </button>\n",
              "    <script>\n",
              "      (() => {\n",
              "      const buttonEl =\n",
              "        document.querySelector('#id_38e5847d-7c2c-4302-a3cd-655c5081a674 button.colab-df-generate');\n",
              "      buttonEl.style.display =\n",
              "        google.colab.kernel.accessAllowed ? 'block' : 'none';\n",
              "\n",
              "      buttonEl.onclick = () => {\n",
              "        google.colab.notebook.generateWithVariable('data');\n",
              "      }\n",
              "      })();\n",
              "    </script>\n",
              "  </div>\n",
              "\n",
              "    </div>\n",
              "  </div>\n"
            ],
            "application/vnd.google.colaboratory.intrinsic+json": {
              "type": "dataframe",
              "variable_name": "data"
            }
          },
          "metadata": {},
          "execution_count": 8
        }
      ]
    },
    {
      "cell_type": "code",
      "source": [
        "pivot = data.pivot(columns='Ticker', values='Close')\n",
        "pivot"
      ],
      "metadata": {
        "colab": {
          "base_uri": "https://localhost:8080/",
          "height": 700
        },
        "id": "qObhuY883P1K",
        "outputId": "1d578d33-2746-485c-8811-e3610395450b"
      },
      "execution_count": 11,
      "outputs": [
        {
          "output_type": "execute_result",
          "data": {
            "text/plain": [
              "Ticker              1INCHUSDT      AAVEUSDT     ACHUSDT     ADAUSDT  \\\n",
              "Open Time (Y-M-D)                                                     \n",
              "2019-09-23                NaN           NaN         NaN         NaN   \n",
              "2019-09-24                NaN           NaN         NaN         NaN   \n",
              "2019-09-25                NaN           NaN         NaN  0.03900000   \n",
              "2019-09-26                NaN           NaN         NaN  0.03789000   \n",
              "2019-09-27                NaN           NaN         NaN  0.03914000   \n",
              "...                       ...           ...         ...         ...   \n",
              "2025-02-22         0.27150000  248.39000000  0.03336000  0.77380000   \n",
              "2025-02-23         0.26040000  246.44000000  0.03150000  0.77130000   \n",
              "2025-02-24         0.24070000  210.08000000  0.02830000  0.68120000   \n",
              "2025-02-25         0.25070000  205.20000000  0.03087000  0.68240000   \n",
              "2025-02-26         0.25070000  202.38000000  0.03004000  0.67820000   \n",
              "\n",
              "Ticker                ADXUSDT    ALGOUSDT   ALICEUSDT  ALPINEUSDT    ANKRUSDT  \\\n",
              "Open Time (Y-M-D)                                                               \n",
              "2019-09-23                NaN         NaN         NaN         NaN         NaN   \n",
              "2019-09-24                NaN         NaN         NaN         NaN         NaN   \n",
              "2019-09-25                NaN         NaN         NaN         NaN         NaN   \n",
              "2019-09-26                NaN         NaN         NaN         NaN         NaN   \n",
              "2019-09-27                NaN         NaN         NaN         NaN         NaN   \n",
              "...                       ...         ...         ...         ...         ...   \n",
              "2025-02-22         0.13920000  0.26610000  0.69100000  1.12500000  0.02422000   \n",
              "2025-02-23         0.14080000  0.25950000  0.77300000  1.12500000  0.02376000   \n",
              "2025-02-24         0.14080000  0.22860000  0.64100000  1.12500000  0.02060000   \n",
              "2025-02-25         0.12380000  0.23180000  0.60000000  1.07200000  0.01912000   \n",
              "2025-02-26         0.11570000  0.22990000  0.60000000  1.07200000  0.02079000   \n",
              "\n",
              "Ticker                APEUSDT  ...     XECUSDT     XLMUSDT     XNOUSDT  \\\n",
              "Open Time (Y-M-D)              ...                                       \n",
              "2019-09-23                NaN  ...         NaN         NaN         NaN   \n",
              "2019-09-24                NaN  ...         NaN         NaN         NaN   \n",
              "2019-09-25                NaN  ...         NaN  0.05727000         NaN   \n",
              "2019-09-26                NaN  ...         NaN  0.05861000         NaN   \n",
              "2019-09-27                NaN  ...         NaN  0.05729000         NaN   \n",
              "...                       ...  ...         ...         ...         ...   \n",
              "2025-02-22         0.73000000  ...  0.00002634  0.33440000  1.25900000   \n",
              "2025-02-23         0.70100000  ...  0.00002643  0.33390000  1.19200000   \n",
              "2025-02-24         0.58700000  ...  0.00002382  0.29850000  1.05700000   \n",
              "2025-02-25         0.61900000  ...  0.00002342  0.29530000  1.13500000   \n",
              "2025-02-26         0.61200000  ...  0.00002310  0.29330000  1.12700000   \n",
              "\n",
              "Ticker                XRPUSDT     XTZUSDT        YFIUSDT      ZECUSDT  \\\n",
              "Open Time (Y-M-D)                                                       \n",
              "2019-09-23         0.27311000         NaN            NaN          NaN   \n",
              "2019-09-24         0.23264000         NaN            NaN          NaN   \n",
              "2019-09-25         0.24603000         NaN            NaN          NaN   \n",
              "2019-09-26         0.24301000         NaN            NaN          NaN   \n",
              "2019-09-27         0.24092000         NaN            NaN          NaN   \n",
              "...                       ...         ...            ...          ...   \n",
              "2025-02-22         2.57580000  0.88400000  5909.00000000  36.53000000   \n",
              "2025-02-23         2.57040000  0.87300000  6299.00000000  35.75000000   \n",
              "2025-02-24         2.27430000  0.76700000  5500.00000000  33.23000000   \n",
              "2025-02-25         2.32890000  0.77200000  5265.00000000  33.66000000   \n",
              "2025-02-26         2.29500000  0.77200000  5265.00000000  33.14000000   \n",
              "\n",
              "Ticker                 ZENUSDT     ZILUSDT     ZRXUSDT  \n",
              "Open Time (Y-M-D)                                       \n",
              "2019-09-23                 NaN         NaN         NaN  \n",
              "2019-09-24                 NaN         NaN         NaN  \n",
              "2019-09-25                 NaN         NaN  0.21020000  \n",
              "2019-09-26                 NaN         NaN  0.21820000  \n",
              "2019-09-27                 NaN         NaN  0.21320000  \n",
              "...                        ...         ...         ...  \n",
              "2025-02-22         13.62000000  0.01462000  0.32030000  \n",
              "2025-02-23         13.48000000  0.01469000  0.31500000  \n",
              "2025-02-24         11.76000000  0.01310000  0.28640000  \n",
              "2025-02-25         12.21000000  0.01305000  0.29520000  \n",
              "2025-02-26         12.23000000  0.01335000  0.28700000  \n",
              "\n",
              "[1984 rows x 162 columns]"
            ],
            "text/html": [
              "\n",
              "  <div id=\"df-5b56dfd3-360a-44f2-accb-f1204d7d4e3e\" class=\"colab-df-container\">\n",
              "    <div>\n",
              "<style scoped>\n",
              "    .dataframe tbody tr th:only-of-type {\n",
              "        vertical-align: middle;\n",
              "    }\n",
              "\n",
              "    .dataframe tbody tr th {\n",
              "        vertical-align: top;\n",
              "    }\n",
              "\n",
              "    .dataframe thead th {\n",
              "        text-align: right;\n",
              "    }\n",
              "</style>\n",
              "<table border=\"1\" class=\"dataframe\">\n",
              "  <thead>\n",
              "    <tr style=\"text-align: right;\">\n",
              "      <th>Ticker</th>\n",
              "      <th>1INCHUSDT</th>\n",
              "      <th>AAVEUSDT</th>\n",
              "      <th>ACHUSDT</th>\n",
              "      <th>ADAUSDT</th>\n",
              "      <th>ADXUSDT</th>\n",
              "      <th>ALGOUSDT</th>\n",
              "      <th>ALICEUSDT</th>\n",
              "      <th>ALPINEUSDT</th>\n",
              "      <th>ANKRUSDT</th>\n",
              "      <th>APEUSDT</th>\n",
              "      <th>...</th>\n",
              "      <th>XECUSDT</th>\n",
              "      <th>XLMUSDT</th>\n",
              "      <th>XNOUSDT</th>\n",
              "      <th>XRPUSDT</th>\n",
              "      <th>XTZUSDT</th>\n",
              "      <th>YFIUSDT</th>\n",
              "      <th>ZECUSDT</th>\n",
              "      <th>ZENUSDT</th>\n",
              "      <th>ZILUSDT</th>\n",
              "      <th>ZRXUSDT</th>\n",
              "    </tr>\n",
              "    <tr>\n",
              "      <th>Open Time (Y-M-D)</th>\n",
              "      <th></th>\n",
              "      <th></th>\n",
              "      <th></th>\n",
              "      <th></th>\n",
              "      <th></th>\n",
              "      <th></th>\n",
              "      <th></th>\n",
              "      <th></th>\n",
              "      <th></th>\n",
              "      <th></th>\n",
              "      <th></th>\n",
              "      <th></th>\n",
              "      <th></th>\n",
              "      <th></th>\n",
              "      <th></th>\n",
              "      <th></th>\n",
              "      <th></th>\n",
              "      <th></th>\n",
              "      <th></th>\n",
              "      <th></th>\n",
              "      <th></th>\n",
              "    </tr>\n",
              "  </thead>\n",
              "  <tbody>\n",
              "    <tr>\n",
              "      <th>2019-09-23</th>\n",
              "      <td>NaN</td>\n",
              "      <td>NaN</td>\n",
              "      <td>NaN</td>\n",
              "      <td>NaN</td>\n",
              "      <td>NaN</td>\n",
              "      <td>NaN</td>\n",
              "      <td>NaN</td>\n",
              "      <td>NaN</td>\n",
              "      <td>NaN</td>\n",
              "      <td>NaN</td>\n",
              "      <td>...</td>\n",
              "      <td>NaN</td>\n",
              "      <td>NaN</td>\n",
              "      <td>NaN</td>\n",
              "      <td>0.27311000</td>\n",
              "      <td>NaN</td>\n",
              "      <td>NaN</td>\n",
              "      <td>NaN</td>\n",
              "      <td>NaN</td>\n",
              "      <td>NaN</td>\n",
              "      <td>NaN</td>\n",
              "    </tr>\n",
              "    <tr>\n",
              "      <th>2019-09-24</th>\n",
              "      <td>NaN</td>\n",
              "      <td>NaN</td>\n",
              "      <td>NaN</td>\n",
              "      <td>NaN</td>\n",
              "      <td>NaN</td>\n",
              "      <td>NaN</td>\n",
              "      <td>NaN</td>\n",
              "      <td>NaN</td>\n",
              "      <td>NaN</td>\n",
              "      <td>NaN</td>\n",
              "      <td>...</td>\n",
              "      <td>NaN</td>\n",
              "      <td>NaN</td>\n",
              "      <td>NaN</td>\n",
              "      <td>0.23264000</td>\n",
              "      <td>NaN</td>\n",
              "      <td>NaN</td>\n",
              "      <td>NaN</td>\n",
              "      <td>NaN</td>\n",
              "      <td>NaN</td>\n",
              "      <td>NaN</td>\n",
              "    </tr>\n",
              "    <tr>\n",
              "      <th>2019-09-25</th>\n",
              "      <td>NaN</td>\n",
              "      <td>NaN</td>\n",
              "      <td>NaN</td>\n",
              "      <td>0.03900000</td>\n",
              "      <td>NaN</td>\n",
              "      <td>NaN</td>\n",
              "      <td>NaN</td>\n",
              "      <td>NaN</td>\n",
              "      <td>NaN</td>\n",
              "      <td>NaN</td>\n",
              "      <td>...</td>\n",
              "      <td>NaN</td>\n",
              "      <td>0.05727000</td>\n",
              "      <td>NaN</td>\n",
              "      <td>0.24603000</td>\n",
              "      <td>NaN</td>\n",
              "      <td>NaN</td>\n",
              "      <td>NaN</td>\n",
              "      <td>NaN</td>\n",
              "      <td>NaN</td>\n",
              "      <td>0.21020000</td>\n",
              "    </tr>\n",
              "    <tr>\n",
              "      <th>2019-09-26</th>\n",
              "      <td>NaN</td>\n",
              "      <td>NaN</td>\n",
              "      <td>NaN</td>\n",
              "      <td>0.03789000</td>\n",
              "      <td>NaN</td>\n",
              "      <td>NaN</td>\n",
              "      <td>NaN</td>\n",
              "      <td>NaN</td>\n",
              "      <td>NaN</td>\n",
              "      <td>NaN</td>\n",
              "      <td>...</td>\n",
              "      <td>NaN</td>\n",
              "      <td>0.05861000</td>\n",
              "      <td>NaN</td>\n",
              "      <td>0.24301000</td>\n",
              "      <td>NaN</td>\n",
              "      <td>NaN</td>\n",
              "      <td>NaN</td>\n",
              "      <td>NaN</td>\n",
              "      <td>NaN</td>\n",
              "      <td>0.21820000</td>\n",
              "    </tr>\n",
              "    <tr>\n",
              "      <th>2019-09-27</th>\n",
              "      <td>NaN</td>\n",
              "      <td>NaN</td>\n",
              "      <td>NaN</td>\n",
              "      <td>0.03914000</td>\n",
              "      <td>NaN</td>\n",
              "      <td>NaN</td>\n",
              "      <td>NaN</td>\n",
              "      <td>NaN</td>\n",
              "      <td>NaN</td>\n",
              "      <td>NaN</td>\n",
              "      <td>...</td>\n",
              "      <td>NaN</td>\n",
              "      <td>0.05729000</td>\n",
              "      <td>NaN</td>\n",
              "      <td>0.24092000</td>\n",
              "      <td>NaN</td>\n",
              "      <td>NaN</td>\n",
              "      <td>NaN</td>\n",
              "      <td>NaN</td>\n",
              "      <td>NaN</td>\n",
              "      <td>0.21320000</td>\n",
              "    </tr>\n",
              "    <tr>\n",
              "      <th>...</th>\n",
              "      <td>...</td>\n",
              "      <td>...</td>\n",
              "      <td>...</td>\n",
              "      <td>...</td>\n",
              "      <td>...</td>\n",
              "      <td>...</td>\n",
              "      <td>...</td>\n",
              "      <td>...</td>\n",
              "      <td>...</td>\n",
              "      <td>...</td>\n",
              "      <td>...</td>\n",
              "      <td>...</td>\n",
              "      <td>...</td>\n",
              "      <td>...</td>\n",
              "      <td>...</td>\n",
              "      <td>...</td>\n",
              "      <td>...</td>\n",
              "      <td>...</td>\n",
              "      <td>...</td>\n",
              "      <td>...</td>\n",
              "      <td>...</td>\n",
              "    </tr>\n",
              "    <tr>\n",
              "      <th>2025-02-22</th>\n",
              "      <td>0.27150000</td>\n",
              "      <td>248.39000000</td>\n",
              "      <td>0.03336000</td>\n",
              "      <td>0.77380000</td>\n",
              "      <td>0.13920000</td>\n",
              "      <td>0.26610000</td>\n",
              "      <td>0.69100000</td>\n",
              "      <td>1.12500000</td>\n",
              "      <td>0.02422000</td>\n",
              "      <td>0.73000000</td>\n",
              "      <td>...</td>\n",
              "      <td>0.00002634</td>\n",
              "      <td>0.33440000</td>\n",
              "      <td>1.25900000</td>\n",
              "      <td>2.57580000</td>\n",
              "      <td>0.88400000</td>\n",
              "      <td>5909.00000000</td>\n",
              "      <td>36.53000000</td>\n",
              "      <td>13.62000000</td>\n",
              "      <td>0.01462000</td>\n",
              "      <td>0.32030000</td>\n",
              "    </tr>\n",
              "    <tr>\n",
              "      <th>2025-02-23</th>\n",
              "      <td>0.26040000</td>\n",
              "      <td>246.44000000</td>\n",
              "      <td>0.03150000</td>\n",
              "      <td>0.77130000</td>\n",
              "      <td>0.14080000</td>\n",
              "      <td>0.25950000</td>\n",
              "      <td>0.77300000</td>\n",
              "      <td>1.12500000</td>\n",
              "      <td>0.02376000</td>\n",
              "      <td>0.70100000</td>\n",
              "      <td>...</td>\n",
              "      <td>0.00002643</td>\n",
              "      <td>0.33390000</td>\n",
              "      <td>1.19200000</td>\n",
              "      <td>2.57040000</td>\n",
              "      <td>0.87300000</td>\n",
              "      <td>6299.00000000</td>\n",
              "      <td>35.75000000</td>\n",
              "      <td>13.48000000</td>\n",
              "      <td>0.01469000</td>\n",
              "      <td>0.31500000</td>\n",
              "    </tr>\n",
              "    <tr>\n",
              "      <th>2025-02-24</th>\n",
              "      <td>0.24070000</td>\n",
              "      <td>210.08000000</td>\n",
              "      <td>0.02830000</td>\n",
              "      <td>0.68120000</td>\n",
              "      <td>0.14080000</td>\n",
              "      <td>0.22860000</td>\n",
              "      <td>0.64100000</td>\n",
              "      <td>1.12500000</td>\n",
              "      <td>0.02060000</td>\n",
              "      <td>0.58700000</td>\n",
              "      <td>...</td>\n",
              "      <td>0.00002382</td>\n",
              "      <td>0.29850000</td>\n",
              "      <td>1.05700000</td>\n",
              "      <td>2.27430000</td>\n",
              "      <td>0.76700000</td>\n",
              "      <td>5500.00000000</td>\n",
              "      <td>33.23000000</td>\n",
              "      <td>11.76000000</td>\n",
              "      <td>0.01310000</td>\n",
              "      <td>0.28640000</td>\n",
              "    </tr>\n",
              "    <tr>\n",
              "      <th>2025-02-25</th>\n",
              "      <td>0.25070000</td>\n",
              "      <td>205.20000000</td>\n",
              "      <td>0.03087000</td>\n",
              "      <td>0.68240000</td>\n",
              "      <td>0.12380000</td>\n",
              "      <td>0.23180000</td>\n",
              "      <td>0.60000000</td>\n",
              "      <td>1.07200000</td>\n",
              "      <td>0.01912000</td>\n",
              "      <td>0.61900000</td>\n",
              "      <td>...</td>\n",
              "      <td>0.00002342</td>\n",
              "      <td>0.29530000</td>\n",
              "      <td>1.13500000</td>\n",
              "      <td>2.32890000</td>\n",
              "      <td>0.77200000</td>\n",
              "      <td>5265.00000000</td>\n",
              "      <td>33.66000000</td>\n",
              "      <td>12.21000000</td>\n",
              "      <td>0.01305000</td>\n",
              "      <td>0.29520000</td>\n",
              "    </tr>\n",
              "    <tr>\n",
              "      <th>2025-02-26</th>\n",
              "      <td>0.25070000</td>\n",
              "      <td>202.38000000</td>\n",
              "      <td>0.03004000</td>\n",
              "      <td>0.67820000</td>\n",
              "      <td>0.11570000</td>\n",
              "      <td>0.22990000</td>\n",
              "      <td>0.60000000</td>\n",
              "      <td>1.07200000</td>\n",
              "      <td>0.02079000</td>\n",
              "      <td>0.61200000</td>\n",
              "      <td>...</td>\n",
              "      <td>0.00002310</td>\n",
              "      <td>0.29330000</td>\n",
              "      <td>1.12700000</td>\n",
              "      <td>2.29500000</td>\n",
              "      <td>0.77200000</td>\n",
              "      <td>5265.00000000</td>\n",
              "      <td>33.14000000</td>\n",
              "      <td>12.23000000</td>\n",
              "      <td>0.01335000</td>\n",
              "      <td>0.28700000</td>\n",
              "    </tr>\n",
              "  </tbody>\n",
              "</table>\n",
              "<p>1984 rows × 162 columns</p>\n",
              "</div>\n",
              "    <div class=\"colab-df-buttons\">\n",
              "\n",
              "  <div class=\"colab-df-container\">\n",
              "    <button class=\"colab-df-convert\" onclick=\"convertToInteractive('df-5b56dfd3-360a-44f2-accb-f1204d7d4e3e')\"\n",
              "            title=\"Convert this dataframe to an interactive table.\"\n",
              "            style=\"display:none;\">\n",
              "\n",
              "  <svg xmlns=\"http://www.w3.org/2000/svg\" height=\"24px\" viewBox=\"0 -960 960 960\">\n",
              "    <path d=\"M120-120v-720h720v720H120Zm60-500h600v-160H180v160Zm220 220h160v-160H400v160Zm0 220h160v-160H400v160ZM180-400h160v-160H180v160Zm440 0h160v-160H620v160ZM180-180h160v-160H180v160Zm440 0h160v-160H620v160Z\"/>\n",
              "  </svg>\n",
              "    </button>\n",
              "\n",
              "  <style>\n",
              "    .colab-df-container {\n",
              "      display:flex;\n",
              "      gap: 12px;\n",
              "    }\n",
              "\n",
              "    .colab-df-convert {\n",
              "      background-color: #E8F0FE;\n",
              "      border: none;\n",
              "      border-radius: 50%;\n",
              "      cursor: pointer;\n",
              "      display: none;\n",
              "      fill: #1967D2;\n",
              "      height: 32px;\n",
              "      padding: 0 0 0 0;\n",
              "      width: 32px;\n",
              "    }\n",
              "\n",
              "    .colab-df-convert:hover {\n",
              "      background-color: #E2EBFA;\n",
              "      box-shadow: 0px 1px 2px rgba(60, 64, 67, 0.3), 0px 1px 3px 1px rgba(60, 64, 67, 0.15);\n",
              "      fill: #174EA6;\n",
              "    }\n",
              "\n",
              "    .colab-df-buttons div {\n",
              "      margin-bottom: 4px;\n",
              "    }\n",
              "\n",
              "    [theme=dark] .colab-df-convert {\n",
              "      background-color: #3B4455;\n",
              "      fill: #D2E3FC;\n",
              "    }\n",
              "\n",
              "    [theme=dark] .colab-df-convert:hover {\n",
              "      background-color: #434B5C;\n",
              "      box-shadow: 0px 1px 3px 1px rgba(0, 0, 0, 0.15);\n",
              "      filter: drop-shadow(0px 1px 2px rgba(0, 0, 0, 0.3));\n",
              "      fill: #FFFFFF;\n",
              "    }\n",
              "  </style>\n",
              "\n",
              "    <script>\n",
              "      const buttonEl =\n",
              "        document.querySelector('#df-5b56dfd3-360a-44f2-accb-f1204d7d4e3e button.colab-df-convert');\n",
              "      buttonEl.style.display =\n",
              "        google.colab.kernel.accessAllowed ? 'block' : 'none';\n",
              "\n",
              "      async function convertToInteractive(key) {\n",
              "        const element = document.querySelector('#df-5b56dfd3-360a-44f2-accb-f1204d7d4e3e');\n",
              "        const dataTable =\n",
              "          await google.colab.kernel.invokeFunction('convertToInteractive',\n",
              "                                                    [key], {});\n",
              "        if (!dataTable) return;\n",
              "\n",
              "        const docLinkHtml = 'Like what you see? Visit the ' +\n",
              "          '<a target=\"_blank\" href=https://colab.research.google.com/notebooks/data_table.ipynb>data table notebook</a>'\n",
              "          + ' to learn more about interactive tables.';\n",
              "        element.innerHTML = '';\n",
              "        dataTable['output_type'] = 'display_data';\n",
              "        await google.colab.output.renderOutput(dataTable, element);\n",
              "        const docLink = document.createElement('div');\n",
              "        docLink.innerHTML = docLinkHtml;\n",
              "        element.appendChild(docLink);\n",
              "      }\n",
              "    </script>\n",
              "  </div>\n",
              "\n",
              "\n",
              "<div id=\"df-4874e2c1-ec38-4110-bc59-df2c36d9ce74\">\n",
              "  <button class=\"colab-df-quickchart\" onclick=\"quickchart('df-4874e2c1-ec38-4110-bc59-df2c36d9ce74')\"\n",
              "            title=\"Suggest charts\"\n",
              "            style=\"display:none;\">\n",
              "\n",
              "<svg xmlns=\"http://www.w3.org/2000/svg\" height=\"24px\"viewBox=\"0 0 24 24\"\n",
              "     width=\"24px\">\n",
              "    <g>\n",
              "        <path d=\"M19 3H5c-1.1 0-2 .9-2 2v14c0 1.1.9 2 2 2h14c1.1 0 2-.9 2-2V5c0-1.1-.9-2-2-2zM9 17H7v-7h2v7zm4 0h-2V7h2v10zm4 0h-2v-4h2v4z\"/>\n",
              "    </g>\n",
              "</svg>\n",
              "  </button>\n",
              "\n",
              "<style>\n",
              "  .colab-df-quickchart {\n",
              "      --bg-color: #E8F0FE;\n",
              "      --fill-color: #1967D2;\n",
              "      --hover-bg-color: #E2EBFA;\n",
              "      --hover-fill-color: #174EA6;\n",
              "      --disabled-fill-color: #AAA;\n",
              "      --disabled-bg-color: #DDD;\n",
              "  }\n",
              "\n",
              "  [theme=dark] .colab-df-quickchart {\n",
              "      --bg-color: #3B4455;\n",
              "      --fill-color: #D2E3FC;\n",
              "      --hover-bg-color: #434B5C;\n",
              "      --hover-fill-color: #FFFFFF;\n",
              "      --disabled-bg-color: #3B4455;\n",
              "      --disabled-fill-color: #666;\n",
              "  }\n",
              "\n",
              "  .colab-df-quickchart {\n",
              "    background-color: var(--bg-color);\n",
              "    border: none;\n",
              "    border-radius: 50%;\n",
              "    cursor: pointer;\n",
              "    display: none;\n",
              "    fill: var(--fill-color);\n",
              "    height: 32px;\n",
              "    padding: 0;\n",
              "    width: 32px;\n",
              "  }\n",
              "\n",
              "  .colab-df-quickchart:hover {\n",
              "    background-color: var(--hover-bg-color);\n",
              "    box-shadow: 0 1px 2px rgba(60, 64, 67, 0.3), 0 1px 3px 1px rgba(60, 64, 67, 0.15);\n",
              "    fill: var(--button-hover-fill-color);\n",
              "  }\n",
              "\n",
              "  .colab-df-quickchart-complete:disabled,\n",
              "  .colab-df-quickchart-complete:disabled:hover {\n",
              "    background-color: var(--disabled-bg-color);\n",
              "    fill: var(--disabled-fill-color);\n",
              "    box-shadow: none;\n",
              "  }\n",
              "\n",
              "  .colab-df-spinner {\n",
              "    border: 2px solid var(--fill-color);\n",
              "    border-color: transparent;\n",
              "    border-bottom-color: var(--fill-color);\n",
              "    animation:\n",
              "      spin 1s steps(1) infinite;\n",
              "  }\n",
              "\n",
              "  @keyframes spin {\n",
              "    0% {\n",
              "      border-color: transparent;\n",
              "      border-bottom-color: var(--fill-color);\n",
              "      border-left-color: var(--fill-color);\n",
              "    }\n",
              "    20% {\n",
              "      border-color: transparent;\n",
              "      border-left-color: var(--fill-color);\n",
              "      border-top-color: var(--fill-color);\n",
              "    }\n",
              "    30% {\n",
              "      border-color: transparent;\n",
              "      border-left-color: var(--fill-color);\n",
              "      border-top-color: var(--fill-color);\n",
              "      border-right-color: var(--fill-color);\n",
              "    }\n",
              "    40% {\n",
              "      border-color: transparent;\n",
              "      border-right-color: var(--fill-color);\n",
              "      border-top-color: var(--fill-color);\n",
              "    }\n",
              "    60% {\n",
              "      border-color: transparent;\n",
              "      border-right-color: var(--fill-color);\n",
              "    }\n",
              "    80% {\n",
              "      border-color: transparent;\n",
              "      border-right-color: var(--fill-color);\n",
              "      border-bottom-color: var(--fill-color);\n",
              "    }\n",
              "    90% {\n",
              "      border-color: transparent;\n",
              "      border-bottom-color: var(--fill-color);\n",
              "    }\n",
              "  }\n",
              "</style>\n",
              "\n",
              "  <script>\n",
              "    async function quickchart(key) {\n",
              "      const quickchartButtonEl =\n",
              "        document.querySelector('#' + key + ' button');\n",
              "      quickchartButtonEl.disabled = true;  // To prevent multiple clicks.\n",
              "      quickchartButtonEl.classList.add('colab-df-spinner');\n",
              "      try {\n",
              "        const charts = await google.colab.kernel.invokeFunction(\n",
              "            'suggestCharts', [key], {});\n",
              "      } catch (error) {\n",
              "        console.error('Error during call to suggestCharts:', error);\n",
              "      }\n",
              "      quickchartButtonEl.classList.remove('colab-df-spinner');\n",
              "      quickchartButtonEl.classList.add('colab-df-quickchart-complete');\n",
              "    }\n",
              "    (() => {\n",
              "      let quickchartButtonEl =\n",
              "        document.querySelector('#df-4874e2c1-ec38-4110-bc59-df2c36d9ce74 button');\n",
              "      quickchartButtonEl.style.display =\n",
              "        google.colab.kernel.accessAllowed ? 'block' : 'none';\n",
              "    })();\n",
              "  </script>\n",
              "</div>\n",
              "\n",
              "  <div id=\"id_4840d846-0089-4d07-bf7b-f6f59159a897\">\n",
              "    <style>\n",
              "      .colab-df-generate {\n",
              "        background-color: #E8F0FE;\n",
              "        border: none;\n",
              "        border-radius: 50%;\n",
              "        cursor: pointer;\n",
              "        display: none;\n",
              "        fill: #1967D2;\n",
              "        height: 32px;\n",
              "        padding: 0 0 0 0;\n",
              "        width: 32px;\n",
              "      }\n",
              "\n",
              "      .colab-df-generate:hover {\n",
              "        background-color: #E2EBFA;\n",
              "        box-shadow: 0px 1px 2px rgba(60, 64, 67, 0.3), 0px 1px 3px 1px rgba(60, 64, 67, 0.15);\n",
              "        fill: #174EA6;\n",
              "      }\n",
              "\n",
              "      [theme=dark] .colab-df-generate {\n",
              "        background-color: #3B4455;\n",
              "        fill: #D2E3FC;\n",
              "      }\n",
              "\n",
              "      [theme=dark] .colab-df-generate:hover {\n",
              "        background-color: #434B5C;\n",
              "        box-shadow: 0px 1px 3px 1px rgba(0, 0, 0, 0.15);\n",
              "        filter: drop-shadow(0px 1px 2px rgba(0, 0, 0, 0.3));\n",
              "        fill: #FFFFFF;\n",
              "      }\n",
              "    </style>\n",
              "    <button class=\"colab-df-generate\" onclick=\"generateWithVariable('pivot')\"\n",
              "            title=\"Generate code using this dataframe.\"\n",
              "            style=\"display:none;\">\n",
              "\n",
              "  <svg xmlns=\"http://www.w3.org/2000/svg\" height=\"24px\"viewBox=\"0 0 24 24\"\n",
              "       width=\"24px\">\n",
              "    <path d=\"M7,19H8.4L18.45,9,17,7.55,7,17.6ZM5,21V16.75L18.45,3.32a2,2,0,0,1,2.83,0l1.4,1.43a1.91,1.91,0,0,1,.58,1.4,1.91,1.91,0,0,1-.58,1.4L9.25,21ZM18.45,9,17,7.55Zm-12,3A5.31,5.31,0,0,0,4.9,8.1,5.31,5.31,0,0,0,1,6.5,5.31,5.31,0,0,0,4.9,4.9,5.31,5.31,0,0,0,6.5,1,5.31,5.31,0,0,0,8.1,4.9,5.31,5.31,0,0,0,12,6.5,5.46,5.46,0,0,0,6.5,12Z\"/>\n",
              "  </svg>\n",
              "    </button>\n",
              "    <script>\n",
              "      (() => {\n",
              "      const buttonEl =\n",
              "        document.querySelector('#id_4840d846-0089-4d07-bf7b-f6f59159a897 button.colab-df-generate');\n",
              "      buttonEl.style.display =\n",
              "        google.colab.kernel.accessAllowed ? 'block' : 'none';\n",
              "\n",
              "      buttonEl.onclick = () => {\n",
              "        google.colab.notebook.generateWithVariable('pivot');\n",
              "      }\n",
              "      })();\n",
              "    </script>\n",
              "  </div>\n",
              "\n",
              "    </div>\n",
              "  </div>\n"
            ],
            "application/vnd.google.colaboratory.intrinsic+json": {
              "type": "dataframe",
              "variable_name": "pivot"
            }
          },
          "metadata": {},
          "execution_count": 11
        }
      ]
    },
    {
      "cell_type": "code",
      "source": [
        "for index in pivot.index:\n",
        "    if not pivot.loc[index].isnull().any():\n",
        "        print(f\"The first index with no NaN values is: {index}\")\n",
        "        break\n",
        "else:\n",
        "    print(\"No index found without NaN values.\")\n"
      ],
      "metadata": {
        "colab": {
          "base_uri": "https://localhost:8080/"
        },
        "id": "WdJ2Do0D7eL9",
        "outputId": "fd784d83-4744-42e7-fadd-5cc5f8c5545f"
      },
      "execution_count": 12,
      "outputs": [
        {
          "output_type": "stream",
          "name": "stdout",
          "text": [
            "The first index with no NaN values is: 2025-02-13\n"
          ]
        }
      ]
    }
  ],
  "metadata": {
    "kernelspec": {
      "display_name": "finm",
      "language": "python",
      "name": "python3"
    },
    "language_info": {
      "codemirror_mode": {
        "name": "ipython",
        "version": 3
      },
      "file_extension": ".py",
      "mimetype": "text/x-python",
      "name": "python",
      "nbconvert_exporter": "python",
      "pygments_lexer": "ipython3",
      "version": "3.12.4"
    },
    "colab": {
      "provenance": [],
      "toc_visible": true
    }
  },
  "nbformat": 4,
  "nbformat_minor": 0
}