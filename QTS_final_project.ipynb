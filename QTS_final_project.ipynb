{
  "cells": [
    {
      "cell_type": "markdown",
      "source": [
        "# Data Pull"
      ],
      "metadata": {
        "id": "XR42JRn0Wopa"
      }
    },
    {
      "cell_type": "code",
      "source": [
        "pip install ccxt"
      ],
      "metadata": {
        "colab": {
          "base_uri": "https://localhost:8080/"
        },
        "id": "oJkq6PkqaiEg",
        "outputId": "15cb7cf9-7ce8-4329-dadc-186437cb0a25"
      },
      "execution_count": 9,
      "outputs": [
        {
          "output_type": "stream",
          "name": "stdout",
          "text": [
            "Requirement already satisfied: ccxt in /usr/local/lib/python3.11/dist-packages (4.4.62)\n",
            "Requirement already satisfied: setuptools>=60.9.0 in /usr/local/lib/python3.11/dist-packages (from ccxt) (75.1.0)\n",
            "Requirement already satisfied: certifi>=2018.1.18 in /usr/local/lib/python3.11/dist-packages (from ccxt) (2025.1.31)\n",
            "Requirement already satisfied: requests>=2.18.4 in /usr/local/lib/python3.11/dist-packages (from ccxt) (2.32.3)\n",
            "Requirement already satisfied: cryptography>=2.6.1 in /usr/local/lib/python3.11/dist-packages (from ccxt) (43.0.3)\n",
            "Requirement already satisfied: typing-extensions>=4.4.0 in /usr/local/lib/python3.11/dist-packages (from ccxt) (4.12.2)\n",
            "Requirement already satisfied: aiohttp<=3.10.11 in /usr/local/lib/python3.11/dist-packages (from ccxt) (3.10.11)\n",
            "Requirement already satisfied: aiodns>=1.1.1 in /usr/local/lib/python3.11/dist-packages (from ccxt) (3.2.0)\n",
            "Requirement already satisfied: yarl>=1.7.2 in /usr/local/lib/python3.11/dist-packages (from ccxt) (1.18.3)\n",
            "Requirement already satisfied: pycares>=4.0.0 in /usr/local/lib/python3.11/dist-packages (from aiodns>=1.1.1->ccxt) (4.5.0)\n",
            "Requirement already satisfied: aiohappyeyeballs>=2.3.0 in /usr/local/lib/python3.11/dist-packages (from aiohttp<=3.10.11->ccxt) (2.4.6)\n",
            "Requirement already satisfied: aiosignal>=1.1.2 in /usr/local/lib/python3.11/dist-packages (from aiohttp<=3.10.11->ccxt) (1.3.2)\n",
            "Requirement already satisfied: attrs>=17.3.0 in /usr/local/lib/python3.11/dist-packages (from aiohttp<=3.10.11->ccxt) (25.1.0)\n",
            "Requirement already satisfied: frozenlist>=1.1.1 in /usr/local/lib/python3.11/dist-packages (from aiohttp<=3.10.11->ccxt) (1.5.0)\n",
            "Requirement already satisfied: multidict<7.0,>=4.5 in /usr/local/lib/python3.11/dist-packages (from aiohttp<=3.10.11->ccxt) (6.1.0)\n",
            "Requirement already satisfied: cffi>=1.12 in /usr/local/lib/python3.11/dist-packages (from cryptography>=2.6.1->ccxt) (1.17.1)\n",
            "Requirement already satisfied: charset-normalizer<4,>=2 in /usr/local/lib/python3.11/dist-packages (from requests>=2.18.4->ccxt) (3.4.1)\n",
            "Requirement already satisfied: idna<4,>=2.5 in /usr/local/lib/python3.11/dist-packages (from requests>=2.18.4->ccxt) (3.10)\n",
            "Requirement already satisfied: urllib3<3,>=1.21.1 in /usr/local/lib/python3.11/dist-packages (from requests>=2.18.4->ccxt) (2.3.0)\n",
            "Requirement already satisfied: propcache>=0.2.0 in /usr/local/lib/python3.11/dist-packages (from yarl>=1.7.2->ccxt) (0.2.1)\n",
            "Requirement already satisfied: pycparser in /usr/local/lib/python3.11/dist-packages (from cffi>=1.12->cryptography>=2.6.1->ccxt) (2.22)\n"
          ]
        }
      ]
    },
    {
      "cell_type": "code",
      "execution_count": 10,
      "metadata": {
        "id": "PIXGzk7BWk9G"
      },
      "outputs": [],
      "source": [
        "import ccxt\n",
        "import time\n",
        "import pandas as pd\n",
        "from datetime import datetime, timezone\n",
        "from tqdm import tqdm\n",
        "import os"
      ]
    },
    {
      "cell_type": "markdown",
      "source": [
        "## Coin Universe"
      ],
      "metadata": {
        "id": "yOenDdyhcbO-"
      }
    },
    {
      "cell_type": "code",
      "execution_count": 18,
      "metadata": {
        "colab": {
          "base_uri": "https://localhost:8080/"
        },
        "id": "Sv0i6USoWk9I",
        "outputId": "1f911018-e1b4-48a1-da42-ca962171a13d"
      },
      "outputs": [
        {
          "output_type": "execute_result",
          "data": {
            "text/plain": [
              "162"
            ]
          },
          "metadata": {},
          "execution_count": 18
        }
      ],
      "source": [
        "SPOT_COLUMNS = ['Open time', 'Open', 'High', 'Low', 'Close', 'Volume', 'Close time', 'Quote asset volume',\n",
        "                'Number of trades', 'Taker buy base asset volume', 'Taker buy quote asset volume', 'Ignore']\n",
        "\n",
        "binance_exchange = ccxt.binanceus({\n",
        "    'timeout': 15000,\n",
        "    'enableRateLimit': True\n",
        "    # 'options': {'defaultType': 'future'}\n",
        "})\n",
        "markets = binance_exchange.load_markets()\n",
        "all_tickers = list(markets.keys())\n",
        "usdt_tickers = [ticker for ticker in all_tickers if ticker.endswith('USDT')]\n",
        "active_usdt_tickers = [\n",
        "    ticker for ticker in usdt_tickers if markets[ticker]['active']\n",
        "]\n",
        "len(active_usdt_tickers)"
      ]
    },
    {
      "cell_type": "code",
      "execution_count": 19,
      "metadata": {
        "id": "pD-PNmLHWk9J"
      },
      "outputs": [],
      "source": [
        "def get_spot(exchange, symbol, interval = '1d',\n",
        "                    startTime = None,\n",
        "                    endTime = None,\n",
        "                    limit = 1000):\n",
        "\n",
        "    if (startTime == None and endTime == None):\n",
        "        return exchange.publicGetKlines({'symbol': symbol,\n",
        "                                        'interval': interval,\n",
        "                                        'limit': limit})\n",
        "    elif (startTime == None and endTime != None):\n",
        "        return exchange.publicGetKlines({'symbol': symbol,\n",
        "                                        'interval': interval,\n",
        "                                        'endTime': endTime,\n",
        "                                        'limit': limit})\n",
        "    elif (startTime != None and endTime == None):\n",
        "        return exchange.publicGetKlines({'symbol': symbol,\n",
        "                                        'interval': interval,\n",
        "                                        'startTime': startTime,\n",
        "                                        'limit': limit})\n",
        "    else:\n",
        "        return exchange.publicGetKlines({'symbol': symbol,\n",
        "                                        'interval': interval,\n",
        "                                        'startTime': startTime,\n",
        "                                        'endTime': endTime,\n",
        "                                        'limit': limit})\n",
        "\n",
        "def convert_to_seconds(time_input):\n",
        "    number = int(time_input[:-1])\n",
        "    unit = time_input[-1]\n",
        "\n",
        "    if unit == 's':\n",
        "        return number\n",
        "    elif unit == 'm':\n",
        "        return number * 60\n",
        "    elif unit == 'h':\n",
        "        return number * 3600\n",
        "    elif unit == 'd':\n",
        "        return number * 86400\n",
        "    else:\n",
        "        raise ValueError(\"Unsupported time unit\")\n",
        "\n",
        "def transform_timestamp(timestamp_integer):\n",
        "    '''\n",
        "    As data points involved milliseconds, we need to transform them by constant 1000.\n",
        "    '''\n",
        "\n",
        "    return pd.to_datetime(int(timestamp_integer / 1000), utc=True, unit='s')\n",
        "\n",
        "def transform_to_timestamp_integer(datetime_object):\n",
        "    '''\n",
        "    As data points involved milliseconds, we need to transform them by constant 1000.\n",
        "    '''\n",
        "\n",
        "    return int(datetime_object.timestamp() * 1000)\n",
        "\n",
        "def obtain_full_spotdata(start_timestamp,\n",
        "                         end_timestamp,\n",
        "                         exchange, symbol, interval = '1h',\n",
        "                         limit = 1000):\n",
        "\n",
        "    time_difference = int(convert_to_seconds(interval) * limit * 1000)\n",
        "\n",
        "    full_data_list = []\n",
        "\n",
        "    curr_time = start_timestamp + time_difference\n",
        "    while (curr_time + time_difference < end_timestamp):\n",
        "        data_list = get_spot(exchange = exchange, symbol = symbol, interval = interval,\n",
        "                             endTime = curr_time,\n",
        "                             limit = limit)\n",
        "        full_data_list = full_data_list + data_list\n",
        "\n",
        "        time.sleep(0.2)\n",
        "        curr_time += time_difference\n",
        "\n",
        "    data_list = get_spot(exchange = exchange, symbol = symbol, interval = interval,\n",
        "                        startTime = curr_time,\n",
        "                        endTime = end_timestamp,\n",
        "                        limit = limit)\n",
        "\n",
        "    full_data_list = full_data_list + data_list\n",
        "\n",
        "    return full_data_list"
      ]
    },
    {
      "cell_type": "code",
      "execution_count": 20,
      "metadata": {
        "id": "i2HyV3tUWk9K"
      },
      "outputs": [],
      "source": [
        "start_date = \"2016-01-01\"\n",
        "end_date = \"2025-02-24\"\n",
        "interval = \"1d\""
      ]
    },
    {
      "cell_type": "code",
      "execution_count": 21,
      "metadata": {
        "id": "x3251fOBWk9L"
      },
      "outputs": [],
      "source": [
        "def fetch_data(ticker_symbol, start_date, end_date, interval):\n",
        "    # Convert dates to timestamps in milliseconds\n",
        "    start_timestamp = int(((pd.to_datetime(start_date)).tz_localize('UTC')).timestamp() * 1000)\n",
        "    end_timestamp = int(((pd.to_datetime(end_date)).tz_localize('UTC')).timestamp() * 1000)\n",
        "\n",
        "    # Obtain raw data from Binance US\n",
        "    full_data_list = obtain_full_spotdata(start_timestamp, end_timestamp, binance_exchange, ticker_symbol, interval=interval)\n",
        "\n",
        "    # Create a DataFrame with the correct column names\n",
        "    data = pd.DataFrame(full_data_list, columns=SPOT_COLUMNS)\n",
        "    data['Open time'] = data['Open time'].apply(lambda x: transform_timestamp(int(x)))\n",
        "\n",
        "    # Remove any duplicate entries based on 'Open time'\n",
        "    data.drop_duplicates('Open time', keep='first', inplace=True)\n",
        "\n",
        "    # Add a column to identify the ticker\n",
        "    data['Ticker'] = ticker_symbol\n",
        "    return data"
      ]
    },
    {
      "cell_type": "code",
      "execution_count": 22,
      "metadata": {
        "colab": {
          "base_uri": "https://localhost:8080/"
        },
        "id": "lTvDMrfLWk9L",
        "outputId": "9fcbc5fa-4163-40ee-b421-608c094d34f5"
      },
      "outputs": [
        {
          "output_type": "stream",
          "name": "stderr",
          "text": [
            "Fetching crypto data:   1%|          | 1/162 [00:00<02:25,  1.11it/s]"
          ]
        },
        {
          "output_type": "stream",
          "name": "stdout",
          "text": [
            "Data for BTCUSDT fetched successfully.\n"
          ]
        },
        {
          "output_type": "stream",
          "name": "stderr",
          "text": [
            "\rFetching crypto data:   1%|          | 2/162 [00:01<02:13,  1.20it/s]"
          ]
        },
        {
          "output_type": "stream",
          "name": "stdout",
          "text": [
            "Data for ETHUSDT fetched successfully.\n"
          ]
        },
        {
          "output_type": "stream",
          "name": "stderr",
          "text": [
            "\rFetching crypto data:   2%|▏         | 3/162 [00:02<02:07,  1.25it/s]"
          ]
        },
        {
          "output_type": "stream",
          "name": "stdout",
          "text": [
            "Data for XRPUSDT fetched successfully.\n"
          ]
        },
        {
          "output_type": "stream",
          "name": "stderr",
          "text": [
            "\rFetching crypto data:   2%|▏         | 4/162 [00:03<02:06,  1.25it/s]"
          ]
        },
        {
          "output_type": "stream",
          "name": "stdout",
          "text": [
            "Data for BCHUSDT fetched successfully.\n"
          ]
        },
        {
          "output_type": "stream",
          "name": "stderr",
          "text": [
            "\rFetching crypto data:   3%|▎         | 5/162 [00:04<02:06,  1.24it/s]"
          ]
        },
        {
          "output_type": "stream",
          "name": "stdout",
          "text": [
            "Data for LTCUSDT fetched successfully.\n"
          ]
        },
        {
          "output_type": "stream",
          "name": "stderr",
          "text": [
            "\rFetching crypto data:   4%|▎         | 6/162 [00:04<02:05,  1.24it/s]"
          ]
        },
        {
          "output_type": "stream",
          "name": "stdout",
          "text": [
            "Data for BNBUSDT fetched successfully.\n"
          ]
        },
        {
          "output_type": "stream",
          "name": "stderr",
          "text": [
            "\rFetching crypto data:   4%|▍         | 7/162 [00:05<02:03,  1.26it/s]"
          ]
        },
        {
          "output_type": "stream",
          "name": "stdout",
          "text": [
            "Data for ADAUSDT fetched successfully.\n"
          ]
        },
        {
          "output_type": "stream",
          "name": "stderr",
          "text": [
            "\rFetching crypto data:   5%|▍         | 8/162 [00:06<02:00,  1.28it/s]"
          ]
        },
        {
          "output_type": "stream",
          "name": "stdout",
          "text": [
            "Data for BATUSDT fetched successfully.\n"
          ]
        },
        {
          "output_type": "stream",
          "name": "stderr",
          "text": [
            "\rFetching crypto data:   6%|▌         | 9/162 [00:07<01:59,  1.28it/s]"
          ]
        },
        {
          "output_type": "stream",
          "name": "stdout",
          "text": [
            "Data for ETCUSDT fetched successfully.\n"
          ]
        },
        {
          "output_type": "stream",
          "name": "stderr",
          "text": [
            "\rFetching crypto data:   6%|▌         | 10/162 [00:07<01:58,  1.28it/s]"
          ]
        },
        {
          "output_type": "stream",
          "name": "stdout",
          "text": [
            "Data for XLMUSDT fetched successfully.\n"
          ]
        },
        {
          "output_type": "stream",
          "name": "stderr",
          "text": [
            "\rFetching crypto data:   7%|▋         | 11/162 [00:08<01:59,  1.26it/s]"
          ]
        },
        {
          "output_type": "stream",
          "name": "stdout",
          "text": [
            "Data for ZRXUSDT fetched successfully.\n"
          ]
        },
        {
          "output_type": "stream",
          "name": "stderr",
          "text": [
            "\rFetching crypto data:   7%|▋         | 12/162 [00:09<01:58,  1.26it/s]"
          ]
        },
        {
          "output_type": "stream",
          "name": "stdout",
          "text": [
            "Data for DOGEUSDT fetched successfully.\n"
          ]
        },
        {
          "output_type": "stream",
          "name": "stderr",
          "text": [
            "\rFetching crypto data:   8%|▊         | 13/162 [00:10<01:56,  1.28it/s]"
          ]
        },
        {
          "output_type": "stream",
          "name": "stdout",
          "text": [
            "Data for ATOMUSDT fetched successfully.\n"
          ]
        },
        {
          "output_type": "stream",
          "name": "stderr",
          "text": [
            "\rFetching crypto data:   9%|▊         | 14/162 [00:11<01:55,  1.28it/s]"
          ]
        },
        {
          "output_type": "stream",
          "name": "stdout",
          "text": [
            "Data for NEOUSDT fetched successfully.\n"
          ]
        },
        {
          "output_type": "stream",
          "name": "stderr",
          "text": [
            "\rFetching crypto data:   9%|▉         | 15/162 [00:11<01:56,  1.26it/s]"
          ]
        },
        {
          "output_type": "stream",
          "name": "stdout",
          "text": [
            "Data for VETUSDT fetched successfully.\n"
          ]
        },
        {
          "output_type": "stream",
          "name": "stderr",
          "text": [
            "\rFetching crypto data:  10%|▉         | 16/162 [00:12<01:54,  1.27it/s]"
          ]
        },
        {
          "output_type": "stream",
          "name": "stdout",
          "text": [
            "Data for QTUMUSDT fetched successfully.\n"
          ]
        },
        {
          "output_type": "stream",
          "name": "stderr",
          "text": [
            "\rFetching crypto data:  10%|█         | 17/162 [00:13<01:53,  1.28it/s]"
          ]
        },
        {
          "output_type": "stream",
          "name": "stdout",
          "text": [
            "Data for ONTUSDT fetched successfully.\n"
          ]
        },
        {
          "output_type": "stream",
          "name": "stderr",
          "text": [
            "\rFetching crypto data:  11%|█         | 18/162 [00:14<01:51,  1.29it/s]"
          ]
        },
        {
          "output_type": "stream",
          "name": "stdout",
          "text": [
            "Data for KNCUSDT fetched successfully.\n"
          ]
        },
        {
          "output_type": "stream",
          "name": "stderr",
          "text": [
            "\rFetching crypto data:  12%|█▏        | 19/162 [00:14<01:50,  1.29it/s]"
          ]
        },
        {
          "output_type": "stream",
          "name": "stdout",
          "text": [
            "Data for VTHOUSDT fetched successfully.\n"
          ]
        },
        {
          "output_type": "stream",
          "name": "stderr",
          "text": [
            "\rFetching crypto data:  12%|█▏        | 20/162 [00:15<01:50,  1.29it/s]"
          ]
        },
        {
          "output_type": "stream",
          "name": "stdout",
          "text": [
            "Data for COMPUSDT fetched successfully.\n"
          ]
        },
        {
          "output_type": "stream",
          "name": "stderr",
          "text": [
            "\rFetching crypto data:  13%|█▎        | 21/162 [00:16<01:48,  1.30it/s]"
          ]
        },
        {
          "output_type": "stream",
          "name": "stdout",
          "text": [
            "Data for MKRUSDT fetched successfully.\n"
          ]
        },
        {
          "output_type": "stream",
          "name": "stderr",
          "text": [
            "\rFetching crypto data:  14%|█▎        | 22/162 [00:17<01:46,  1.32it/s]"
          ]
        },
        {
          "output_type": "stream",
          "name": "stdout",
          "text": [
            "Data for ONEUSDT fetched successfully.\n"
          ]
        },
        {
          "output_type": "stream",
          "name": "stderr",
          "text": [
            "\rFetching crypto data:  14%|█▍        | 23/162 [00:17<01:44,  1.34it/s]"
          ]
        },
        {
          "output_type": "stream",
          "name": "stdout",
          "text": [
            "Data for BANDUSDT fetched successfully.\n"
          ]
        },
        {
          "output_type": "stream",
          "name": "stderr",
          "text": [
            "\rFetching crypto data:  15%|█▍        | 24/162 [00:18<01:42,  1.34it/s]"
          ]
        },
        {
          "output_type": "stream",
          "name": "stdout",
          "text": [
            "Data for STORJUSDT fetched successfully.\n"
          ]
        },
        {
          "output_type": "stream",
          "name": "stderr",
          "text": [
            "\rFetching crypto data:  15%|█▌        | 25/162 [00:19<01:41,  1.35it/s]"
          ]
        },
        {
          "output_type": "stream",
          "name": "stdout",
          "text": [
            "Data for UNIUSDT fetched successfully.\n"
          ]
        },
        {
          "output_type": "stream",
          "name": "stderr",
          "text": [
            "\rFetching crypto data:  16%|█▌        | 26/162 [00:20<01:39,  1.36it/s]"
          ]
        },
        {
          "output_type": "stream",
          "name": "stdout",
          "text": [
            "Data for SOLUSDT fetched successfully.\n"
          ]
        },
        {
          "output_type": "stream",
          "name": "stderr",
          "text": [
            "\rFetching crypto data:  17%|█▋        | 27/162 [00:20<01:38,  1.37it/s]"
          ]
        },
        {
          "output_type": "stream",
          "name": "stdout",
          "text": [
            "Data for EGLDUSDT fetched successfully.\n"
          ]
        },
        {
          "output_type": "stream",
          "name": "stderr",
          "text": [
            "\rFetching crypto data:  17%|█▋        | 28/162 [00:21<01:37,  1.37it/s]"
          ]
        },
        {
          "output_type": "stream",
          "name": "stdout",
          "text": [
            "Data for PAXGUSDT fetched successfully.\n"
          ]
        },
        {
          "output_type": "stream",
          "name": "stderr",
          "text": [
            "\rFetching crypto data:  18%|█▊        | 29/162 [00:22<01:37,  1.37it/s]"
          ]
        },
        {
          "output_type": "stream",
          "name": "stdout",
          "text": [
            "Data for OXTUSDT fetched successfully.\n"
          ]
        },
        {
          "output_type": "stream",
          "name": "stderr",
          "text": [
            "\rFetching crypto data:  19%|█▊        | 30/162 [00:23<01:35,  1.38it/s]"
          ]
        },
        {
          "output_type": "stream",
          "name": "stdout",
          "text": [
            "Data for ZENUSDT fetched successfully.\n"
          ]
        },
        {
          "output_type": "stream",
          "name": "stderr",
          "text": [
            "\rFetching crypto data:  19%|█▉        | 31/162 [00:23<01:33,  1.39it/s]"
          ]
        },
        {
          "output_type": "stream",
          "name": "stdout",
          "text": [
            "Data for FILUSDT fetched successfully.\n"
          ]
        },
        {
          "output_type": "stream",
          "name": "stderr",
          "text": [
            "\rFetching crypto data:  20%|█▉        | 32/162 [00:24<01:31,  1.41it/s]"
          ]
        },
        {
          "output_type": "stream",
          "name": "stdout",
          "text": [
            "Data for AAVEUSDT fetched successfully.\n"
          ]
        },
        {
          "output_type": "stream",
          "name": "stderr",
          "text": [
            "\rFetching crypto data:  20%|██        | 33/162 [00:25<01:30,  1.43it/s]"
          ]
        },
        {
          "output_type": "stream",
          "name": "stdout",
          "text": [
            "Data for GRTUSDT fetched successfully.\n"
          ]
        },
        {
          "output_type": "stream",
          "name": "stderr",
          "text": [
            "\rFetching crypto data:  21%|██        | 34/162 [00:25<01:29,  1.43it/s]"
          ]
        },
        {
          "output_type": "stream",
          "name": "stdout",
          "text": [
            "Data for SHIBUSDT fetched successfully.\n"
          ]
        },
        {
          "output_type": "stream",
          "name": "stderr",
          "text": [
            "\rFetching crypto data:  22%|██▏       | 35/162 [00:26<01:29,  1.42it/s]"
          ]
        },
        {
          "output_type": "stream",
          "name": "stdout",
          "text": [
            "Data for CRVUSDT fetched successfully.\n"
          ]
        },
        {
          "output_type": "stream",
          "name": "stderr",
          "text": [
            "\rFetching crypto data:  22%|██▏       | 36/162 [00:27<01:28,  1.42it/s]"
          ]
        },
        {
          "output_type": "stream",
          "name": "stdout",
          "text": [
            "Data for AXSUSDT fetched successfully.\n"
          ]
        },
        {
          "output_type": "stream",
          "name": "stderr",
          "text": [
            "\rFetching crypto data:  23%|██▎       | 37/162 [00:27<01:27,  1.43it/s]"
          ]
        },
        {
          "output_type": "stream",
          "name": "stdout",
          "text": [
            "Data for AVAXUSDT fetched successfully.\n"
          ]
        },
        {
          "output_type": "stream",
          "name": "stderr",
          "text": [
            "\rFetching crypto data:  23%|██▎       | 38/162 [00:28<01:26,  1.43it/s]"
          ]
        },
        {
          "output_type": "stream",
          "name": "stdout",
          "text": [
            "Data for CTSIUSDT fetched successfully.\n"
          ]
        },
        {
          "output_type": "stream",
          "name": "stderr",
          "text": [
            "\rFetching crypto data:  24%|██▍       | 39/162 [00:29<01:25,  1.44it/s]"
          ]
        },
        {
          "output_type": "stream",
          "name": "stdout",
          "text": [
            "Data for DOTUSDT fetched successfully.\n"
          ]
        },
        {
          "output_type": "stream",
          "name": "stderr",
          "text": [
            "\rFetching crypto data:  25%|██▍       | 40/162 [00:30<01:25,  1.43it/s]"
          ]
        },
        {
          "output_type": "stream",
          "name": "stdout",
          "text": [
            "Data for YFIUSDT fetched successfully.\n"
          ]
        },
        {
          "output_type": "stream",
          "name": "stderr",
          "text": [
            "\rFetching crypto data:  25%|██▌       | 41/162 [00:30<01:24,  1.43it/s]"
          ]
        },
        {
          "output_type": "stream",
          "name": "stdout",
          "text": [
            "Data for 1INCHUSDT fetched successfully.\n"
          ]
        },
        {
          "output_type": "stream",
          "name": "stderr",
          "text": [
            "\rFetching crypto data:  26%|██▌       | 42/162 [00:31<01:23,  1.43it/s]"
          ]
        },
        {
          "output_type": "stream",
          "name": "stdout",
          "text": [
            "Data for FTMUSDT fetched successfully.\n"
          ]
        },
        {
          "output_type": "stream",
          "name": "stderr",
          "text": [
            "\rFetching crypto data:  27%|██▋       | 43/162 [00:32<01:23,  1.42it/s]"
          ]
        },
        {
          "output_type": "stream",
          "name": "stdout",
          "text": [
            "Data for USDCUSDT fetched successfully.\n"
          ]
        },
        {
          "output_type": "stream",
          "name": "stderr",
          "text": [
            "\rFetching crypto data:  27%|██▋       | 44/162 [00:32<01:22,  1.42it/s]"
          ]
        },
        {
          "output_type": "stream",
          "name": "stdout",
          "text": [
            "Data for MANAUSDT fetched successfully.\n"
          ]
        },
        {
          "output_type": "stream",
          "name": "stderr",
          "text": [
            "\rFetching crypto data:  28%|██▊       | 45/162 [00:33<01:22,  1.42it/s]"
          ]
        },
        {
          "output_type": "stream",
          "name": "stdout",
          "text": [
            "Data for ALGOUSDT fetched successfully.\n"
          ]
        },
        {
          "output_type": "stream",
          "name": "stderr",
          "text": [
            "\rFetching crypto data:  28%|██▊       | 46/162 [00:34<01:21,  1.42it/s]"
          ]
        },
        {
          "output_type": "stream",
          "name": "stdout",
          "text": [
            "Data for LINKUSDT fetched successfully.\n"
          ]
        },
        {
          "output_type": "stream",
          "name": "stderr",
          "text": [
            "\rFetching crypto data:  29%|██▉       | 47/162 [00:34<01:20,  1.43it/s]"
          ]
        },
        {
          "output_type": "stream",
          "name": "stdout",
          "text": [
            "Data for EOSUSDT fetched successfully.\n"
          ]
        },
        {
          "output_type": "stream",
          "name": "stderr",
          "text": [
            "\rFetching crypto data:  30%|██▉       | 48/162 [00:35<01:19,  1.43it/s]"
          ]
        },
        {
          "output_type": "stream",
          "name": "stdout",
          "text": [
            "Data for ZECUSDT fetched successfully.\n"
          ]
        },
        {
          "output_type": "stream",
          "name": "stderr",
          "text": [
            "\rFetching crypto data:  30%|███       | 49/162 [00:36<01:18,  1.44it/s]"
          ]
        },
        {
          "output_type": "stream",
          "name": "stdout",
          "text": [
            "Data for ENJUSDT fetched successfully.\n"
          ]
        },
        {
          "output_type": "stream",
          "name": "stderr",
          "text": [
            "\rFetching crypto data:  31%|███       | 50/162 [00:37<01:17,  1.44it/s]"
          ]
        },
        {
          "output_type": "stream",
          "name": "stdout",
          "text": [
            "Data for NEARUSDT fetched successfully.\n"
          ]
        },
        {
          "output_type": "stream",
          "name": "stderr",
          "text": [
            "\rFetching crypto data:  31%|███▏      | 51/162 [00:37<01:17,  1.44it/s]"
          ]
        },
        {
          "output_type": "stream",
          "name": "stdout",
          "text": [
            "Data for SUSHIUSDT fetched successfully.\n"
          ]
        },
        {
          "output_type": "stream",
          "name": "stderr",
          "text": [
            "\rFetching crypto data:  32%|███▏      | 52/162 [00:38<01:17,  1.43it/s]"
          ]
        },
        {
          "output_type": "stream",
          "name": "stdout",
          "text": [
            "Data for LRCUSDT fetched successfully.\n"
          ]
        },
        {
          "output_type": "stream",
          "name": "stderr",
          "text": [
            "\rFetching crypto data:  33%|███▎      | 53/162 [00:39<01:16,  1.42it/s]"
          ]
        },
        {
          "output_type": "stream",
          "name": "stdout",
          "text": [
            "Data for LPTUSDT fetched successfully.\n"
          ]
        },
        {
          "output_type": "stream",
          "name": "stderr",
          "text": [
            "\rFetching crypto data:  33%|███▎      | 54/162 [00:39<01:15,  1.43it/s]"
          ]
        },
        {
          "output_type": "stream",
          "name": "stdout",
          "text": [
            "Data for NMRUSDT fetched successfully.\n"
          ]
        },
        {
          "output_type": "stream",
          "name": "stderr",
          "text": [
            "\rFetching crypto data:  34%|███▍      | 55/162 [00:40<01:14,  1.43it/s]"
          ]
        },
        {
          "output_type": "stream",
          "name": "stdout",
          "text": [
            "Data for SLPUSDT fetched successfully.\n"
          ]
        },
        {
          "output_type": "stream",
          "name": "stderr",
          "text": [
            "\rFetching crypto data:  35%|███▍      | 56/162 [00:41<01:13,  1.43it/s]"
          ]
        },
        {
          "output_type": "stream",
          "name": "stdout",
          "text": [
            "Data for CHZUSDT fetched successfully.\n"
          ]
        },
        {
          "output_type": "stream",
          "name": "stderr",
          "text": [
            "\rFetching crypto data:  35%|███▌      | 57/162 [00:41<01:12,  1.44it/s]"
          ]
        },
        {
          "output_type": "stream",
          "name": "stdout",
          "text": [
            "Data for OGNUSDT fetched successfully.\n"
          ]
        },
        {
          "output_type": "stream",
          "name": "stderr",
          "text": [
            "\rFetching crypto data:  36%|███▌      | 58/162 [00:42<01:12,  1.44it/s]"
          ]
        },
        {
          "output_type": "stream",
          "name": "stdout",
          "text": [
            "Data for GALAUSDT fetched successfully.\n"
          ]
        },
        {
          "output_type": "stream",
          "name": "stderr",
          "text": [
            "\rFetching crypto data:  36%|███▋      | 59/162 [00:43<01:11,  1.44it/s]"
          ]
        },
        {
          "output_type": "stream",
          "name": "stdout",
          "text": [
            "Data for TLMUSDT fetched successfully.\n"
          ]
        },
        {
          "output_type": "stream",
          "name": "stderr",
          "text": [
            "\rFetching crypto data:  37%|███▋      | 60/162 [00:43<01:11,  1.43it/s]"
          ]
        },
        {
          "output_type": "stream",
          "name": "stdout",
          "text": [
            "Data for SNXUSDT fetched successfully.\n"
          ]
        },
        {
          "output_type": "stream",
          "name": "stderr",
          "text": [
            "\rFetching crypto data:  38%|███▊      | 61/162 [00:44<01:10,  1.43it/s]"
          ]
        },
        {
          "output_type": "stream",
          "name": "stdout",
          "text": [
            "Data for AUDIOUSDT fetched successfully.\n"
          ]
        },
        {
          "output_type": "stream",
          "name": "stderr",
          "text": [
            "\rFetching crypto data:  38%|███▊      | 62/162 [00:45<01:09,  1.43it/s]"
          ]
        },
        {
          "output_type": "stream",
          "name": "stdout",
          "text": [
            "Data for ENSUSDT fetched successfully.\n"
          ]
        },
        {
          "output_type": "stream",
          "name": "stderr",
          "text": [
            "\rFetching crypto data:  39%|███▉      | 63/162 [00:46<01:08,  1.44it/s]"
          ]
        },
        {
          "output_type": "stream",
          "name": "stdout",
          "text": [
            "Data for REQUSDT fetched successfully.\n"
          ]
        },
        {
          "output_type": "stream",
          "name": "stderr",
          "text": [
            "\rFetching crypto data:  40%|███▉      | 64/162 [00:46<01:07,  1.44it/s]"
          ]
        },
        {
          "output_type": "stream",
          "name": "stdout",
          "text": [
            "Data for APEUSDT fetched successfully.\n"
          ]
        },
        {
          "output_type": "stream",
          "name": "stderr",
          "text": [
            "\rFetching crypto data:  40%|████      | 65/162 [00:47<01:07,  1.45it/s]"
          ]
        },
        {
          "output_type": "stream",
          "name": "stdout",
          "text": [
            "Data for FLUXUSDT fetched successfully.\n"
          ]
        },
        {
          "output_type": "stream",
          "name": "stderr",
          "text": [
            "\rFetching crypto data:  41%|████      | 66/162 [00:48<01:06,  1.45it/s]"
          ]
        },
        {
          "output_type": "stream",
          "name": "stdout",
          "text": [
            "Data for COTIUSDT fetched successfully.\n"
          ]
        },
        {
          "output_type": "stream",
          "name": "stderr",
          "text": [
            "\rFetching crypto data:  41%|████▏     | 67/162 [00:48<01:05,  1.45it/s]"
          ]
        },
        {
          "output_type": "stream",
          "name": "stdout",
          "text": [
            "Data for VOXELUSDT fetched successfully.\n"
          ]
        },
        {
          "output_type": "stream",
          "name": "stderr",
          "text": [
            "\rFetching crypto data:  42%|████▏     | 68/162 [00:49<01:05,  1.43it/s]"
          ]
        },
        {
          "output_type": "stream",
          "name": "stdout",
          "text": [
            "Data for RLCUSDT fetched successfully.\n"
          ]
        },
        {
          "output_type": "stream",
          "name": "stderr",
          "text": [
            "\rFetching crypto data:  43%|████▎     | 69/162 [00:50<01:05,  1.43it/s]"
          ]
        },
        {
          "output_type": "stream",
          "name": "stdout",
          "text": [
            "Data for BICOUSDT fetched successfully.\n"
          ]
        },
        {
          "output_type": "stream",
          "name": "stderr",
          "text": [
            "\rFetching crypto data:  43%|████▎     | 70/162 [00:50<01:04,  1.42it/s]"
          ]
        },
        {
          "output_type": "stream",
          "name": "stdout",
          "text": [
            "Data for API3USDT fetched successfully.\n"
          ]
        },
        {
          "output_type": "stream",
          "name": "stderr",
          "text": [
            "\rFetching crypto data:  44%|████▍     | 71/162 [00:51<01:03,  1.43it/s]"
          ]
        },
        {
          "output_type": "stream",
          "name": "stdout",
          "text": [
            "Data for BNTUSDT fetched successfully.\n"
          ]
        },
        {
          "output_type": "stream",
          "name": "stderr",
          "text": [
            "\rFetching crypto data:  44%|████▍     | 72/162 [00:52<01:02,  1.44it/s]"
          ]
        },
        {
          "output_type": "stream",
          "name": "stdout",
          "text": [
            "Data for IMXUSDT fetched successfully.\n"
          ]
        },
        {
          "output_type": "stream",
          "name": "stderr",
          "text": [
            "\rFetching crypto data:  45%|████▌     | 73/162 [00:53<01:02,  1.43it/s]"
          ]
        },
        {
          "output_type": "stream",
          "name": "stdout",
          "text": [
            "Data for FLOWUSDT fetched successfully.\n"
          ]
        },
        {
          "output_type": "stream",
          "name": "stderr",
          "text": [
            "\rFetching crypto data:  46%|████▌     | 74/162 [00:53<01:01,  1.42it/s]"
          ]
        },
        {
          "output_type": "stream",
          "name": "stdout",
          "text": [
            "Data for GTCUSDT fetched successfully.\n"
          ]
        },
        {
          "output_type": "stream",
          "name": "stderr",
          "text": [
            "\rFetching crypto data:  46%|████▋     | 75/162 [00:54<01:00,  1.43it/s]"
          ]
        },
        {
          "output_type": "stream",
          "name": "stdout",
          "text": [
            "Data for THETAUSDT fetched successfully.\n"
          ]
        },
        {
          "output_type": "stream",
          "name": "stderr",
          "text": [
            "\rFetching crypto data:  47%|████▋     | 76/162 [00:55<01:00,  1.43it/s]"
          ]
        },
        {
          "output_type": "stream",
          "name": "stdout",
          "text": [
            "Data for TFUELUSDT fetched successfully.\n"
          ]
        },
        {
          "output_type": "stream",
          "name": "stderr",
          "text": [
            "\rFetching crypto data:  48%|████▊     | 77/162 [00:55<00:59,  1.43it/s]"
          ]
        },
        {
          "output_type": "stream",
          "name": "stdout",
          "text": [
            "Data for OCEANUSDT fetched successfully.\n"
          ]
        },
        {
          "output_type": "stream",
          "name": "stderr",
          "text": [
            "\rFetching crypto data:  48%|████▊     | 78/162 [00:56<00:58,  1.44it/s]"
          ]
        },
        {
          "output_type": "stream",
          "name": "stdout",
          "text": [
            "Data for LAZIOUSDT fetched successfully.\n"
          ]
        },
        {
          "output_type": "stream",
          "name": "stderr",
          "text": [
            "\rFetching crypto data:  49%|████▉     | 79/162 [00:57<00:57,  1.45it/s]"
          ]
        },
        {
          "output_type": "stream",
          "name": "stdout",
          "text": [
            "Data for SANTOSUSDT fetched successfully.\n"
          ]
        },
        {
          "output_type": "stream",
          "name": "stderr",
          "text": [
            "\rFetching crypto data:  49%|████▉     | 80/162 [00:58<00:59,  1.37it/s]"
          ]
        },
        {
          "output_type": "stream",
          "name": "stdout",
          "text": [
            "Data for ALPINEUSDT fetched successfully.\n"
          ]
        },
        {
          "output_type": "stream",
          "name": "stderr",
          "text": [
            "\rFetching crypto data:  50%|█████     | 81/162 [00:58<00:58,  1.39it/s]"
          ]
        },
        {
          "output_type": "stream",
          "name": "stdout",
          "text": [
            "Data for PORTOUSDT fetched successfully.\n"
          ]
        },
        {
          "output_type": "stream",
          "name": "stderr",
          "text": [
            "\rFetching crypto data:  51%|█████     | 82/162 [00:59<00:56,  1.41it/s]"
          ]
        },
        {
          "output_type": "stream",
          "name": "stdout",
          "text": [
            "Data for RENUSDT fetched successfully.\n"
          ]
        },
        {
          "output_type": "stream",
          "name": "stderr",
          "text": [
            "\rFetching crypto data:  51%|█████     | 83/162 [01:00<00:55,  1.42it/s]"
          ]
        },
        {
          "output_type": "stream",
          "name": "stdout",
          "text": [
            "Data for CELRUSDT fetched successfully.\n"
          ]
        },
        {
          "output_type": "stream",
          "name": "stderr",
          "text": [
            "\rFetching crypto data:  52%|█████▏    | 84/162 [01:00<00:54,  1.42it/s]"
          ]
        },
        {
          "output_type": "stream",
          "name": "stdout",
          "text": [
            "Data for SKLUSDT fetched successfully.\n"
          ]
        },
        {
          "output_type": "stream",
          "name": "stderr",
          "text": [
            "\rFetching crypto data:  52%|█████▏    | 85/162 [01:01<00:54,  1.42it/s]"
          ]
        },
        {
          "output_type": "stream",
          "name": "stdout",
          "text": [
            "Data for VITEUSDT fetched successfully.\n"
          ]
        },
        {
          "output_type": "stream",
          "name": "stderr",
          "text": [
            "\rFetching crypto data:  53%|█████▎    | 86/162 [01:02<00:53,  1.42it/s]"
          ]
        },
        {
          "output_type": "stream",
          "name": "stdout",
          "text": [
            "Data for WAXPUSDT fetched successfully.\n"
          ]
        },
        {
          "output_type": "stream",
          "name": "stderr",
          "text": [
            "\rFetching crypto data:  54%|█████▎    | 87/162 [01:02<00:53,  1.41it/s]"
          ]
        },
        {
          "output_type": "stream",
          "name": "stdout",
          "text": [
            "Data for LTOUSDT fetched successfully.\n"
          ]
        },
        {
          "output_type": "stream",
          "name": "stderr",
          "text": [
            "\rFetching crypto data:  54%|█████▍    | 88/162 [01:03<00:52,  1.42it/s]"
          ]
        },
        {
          "output_type": "stream",
          "name": "stdout",
          "text": [
            "Data for FETUSDT fetched successfully.\n"
          ]
        },
        {
          "output_type": "stream",
          "name": "stderr",
          "text": [
            "\rFetching crypto data:  55%|█████▍    | 89/162 [01:04<00:51,  1.43it/s]"
          ]
        },
        {
          "output_type": "stream",
          "name": "stdout",
          "text": [
            "Data for LOKAUSDT fetched successfully.\n"
          ]
        },
        {
          "output_type": "stream",
          "name": "stderr",
          "text": [
            "\rFetching crypto data:  56%|█████▌    | 90/162 [01:05<00:50,  1.42it/s]"
          ]
        },
        {
          "output_type": "stream",
          "name": "stdout",
          "text": [
            "Data for ICPUSDT fetched successfully.\n"
          ]
        },
        {
          "output_type": "stream",
          "name": "stderr",
          "text": [
            "\rFetching crypto data:  56%|█████▌    | 91/162 [01:05<00:49,  1.43it/s]"
          ]
        },
        {
          "output_type": "stream",
          "name": "stdout",
          "text": [
            "Data for TUSDT fetched successfully.\n"
          ]
        },
        {
          "output_type": "stream",
          "name": "stderr",
          "text": [
            "\rFetching crypto data:  57%|█████▋    | 92/162 [01:06<00:48,  1.43it/s]"
          ]
        },
        {
          "output_type": "stream",
          "name": "stdout",
          "text": [
            "Data for OPUSDT fetched successfully.\n"
          ]
        },
        {
          "output_type": "stream",
          "name": "stderr",
          "text": [
            "\rFetching crypto data:  57%|█████▋    | 93/162 [01:07<00:48,  1.42it/s]"
          ]
        },
        {
          "output_type": "stream",
          "name": "stdout",
          "text": [
            "Data for ROSEUSDT fetched successfully.\n"
          ]
        },
        {
          "output_type": "stream",
          "name": "stderr",
          "text": [
            "\rFetching crypto data:  58%|█████▊    | 94/162 [01:07<00:47,  1.43it/s]"
          ]
        },
        {
          "output_type": "stream",
          "name": "stdout",
          "text": [
            "Data for CELOUSDT fetched successfully.\n"
          ]
        },
        {
          "output_type": "stream",
          "name": "stderr",
          "text": [
            "\rFetching crypto data:  59%|█████▊    | 95/162 [01:08<00:47,  1.42it/s]"
          ]
        },
        {
          "output_type": "stream",
          "name": "stdout",
          "text": [
            "Data for KDAUSDT fetched successfully.\n"
          ]
        },
        {
          "output_type": "stream",
          "name": "stderr",
          "text": [
            "\rFetching crypto data:  59%|█████▉    | 96/162 [01:09<00:46,  1.42it/s]"
          ]
        },
        {
          "output_type": "stream",
          "name": "stdout",
          "text": [
            "Data for KSMUSDT fetched successfully.\n"
          ]
        },
        {
          "output_type": "stream",
          "name": "stderr",
          "text": [
            "\rFetching crypto data:  60%|█████▉    | 97/162 [01:09<00:45,  1.43it/s]"
          ]
        },
        {
          "output_type": "stream",
          "name": "stdout",
          "text": [
            "Data for ACHUSDT fetched successfully.\n"
          ]
        },
        {
          "output_type": "stream",
          "name": "stderr",
          "text": [
            "\rFetching crypto data:  60%|██████    | 98/162 [01:10<00:44,  1.43it/s]"
          ]
        },
        {
          "output_type": "stream",
          "name": "stdout",
          "text": [
            "Data for DARUSDT fetched successfully.\n"
          ]
        },
        {
          "output_type": "stream",
          "name": "stderr",
          "text": [
            "\rFetching crypto data:  61%|██████    | 99/162 [01:11<00:43,  1.44it/s]"
          ]
        },
        {
          "output_type": "stream",
          "name": "stdout",
          "text": [
            "Data for SYSUSDT fetched successfully.\n"
          ]
        },
        {
          "output_type": "stream",
          "name": "stderr",
          "text": [
            "\rFetching crypto data:  62%|██████▏   | 100/162 [01:12<00:43,  1.44it/s]"
          ]
        },
        {
          "output_type": "stream",
          "name": "stdout",
          "text": [
            "Data for RADUSDT fetched successfully.\n"
          ]
        },
        {
          "output_type": "stream",
          "name": "stderr",
          "text": [
            "\rFetching crypto data:  62%|██████▏   | 101/162 [01:12<00:42,  1.44it/s]"
          ]
        },
        {
          "output_type": "stream",
          "name": "stdout",
          "text": [
            "Data for ILVUSDT fetched successfully.\n"
          ]
        },
        {
          "output_type": "stream",
          "name": "stderr",
          "text": [
            "\rFetching crypto data:  63%|██████▎   | 102/162 [01:13<00:41,  1.43it/s]"
          ]
        },
        {
          "output_type": "stream",
          "name": "stdout",
          "text": [
            "Data for LDOUSDT fetched successfully.\n"
          ]
        },
        {
          "output_type": "stream",
          "name": "stderr",
          "text": [
            "\rFetching crypto data:  64%|██████▎   | 103/162 [01:14<00:41,  1.42it/s]"
          ]
        },
        {
          "output_type": "stream",
          "name": "stdout",
          "text": [
            "Data for RAREUSDT fetched successfully.\n"
          ]
        },
        {
          "output_type": "stream",
          "name": "stderr",
          "text": [
            "\rFetching crypto data:  64%|██████▍   | 104/162 [01:14<00:40,  1.42it/s]"
          ]
        },
        {
          "output_type": "stream",
          "name": "stdout",
          "text": [
            "Data for LSKUSDT fetched successfully.\n"
          ]
        },
        {
          "output_type": "stream",
          "name": "stderr",
          "text": [
            "\rFetching crypto data:  65%|██████▍   | 105/162 [01:15<00:39,  1.43it/s]"
          ]
        },
        {
          "output_type": "stream",
          "name": "stdout",
          "text": [
            "Data for DGBUSDT fetched successfully.\n"
          ]
        },
        {
          "output_type": "stream",
          "name": "stderr",
          "text": [
            "\rFetching crypto data:  65%|██████▌   | 106/162 [01:16<00:41,  1.36it/s]"
          ]
        },
        {
          "output_type": "stream",
          "name": "stdout",
          "text": [
            "Data for REEFUSDT fetched successfully.\n"
          ]
        },
        {
          "output_type": "stream",
          "name": "stderr",
          "text": [
            "\rFetching crypto data:  66%|██████▌   | 107/162 [01:17<00:39,  1.39it/s]"
          ]
        },
        {
          "output_type": "stream",
          "name": "stdout",
          "text": [
            "Data for ALICEUSDT fetched successfully.\n"
          ]
        },
        {
          "output_type": "stream",
          "name": "stderr",
          "text": [
            "\rFetching crypto data:  67%|██████▋   | 108/162 [01:17<00:38,  1.40it/s]"
          ]
        },
        {
          "output_type": "stream",
          "name": "stdout",
          "text": [
            "Data for FORTHUSDT fetched successfully.\n"
          ]
        },
        {
          "output_type": "stream",
          "name": "stderr",
          "text": [
            "\rFetching crypto data:  67%|██████▋   | 109/162 [01:18<00:37,  1.42it/s]"
          ]
        },
        {
          "output_type": "stream",
          "name": "stdout",
          "text": [
            "Data for ASTRUSDT fetched successfully.\n"
          ]
        },
        {
          "output_type": "stream",
          "name": "stderr",
          "text": [
            "\rFetching crypto data:  68%|██████▊   | 110/162 [01:19<00:36,  1.43it/s]"
          ]
        },
        {
          "output_type": "stream",
          "name": "stdout",
          "text": [
            "Data for BTRSTUSDT fetched successfully.\n"
          ]
        },
        {
          "output_type": "stream",
          "name": "stderr",
          "text": [
            "\rFetching crypto data:  69%|██████▊   | 111/162 [01:19<00:35,  1.43it/s]"
          ]
        },
        {
          "output_type": "stream",
          "name": "stdout",
          "text": [
            "Data for SANDUSDT fetched successfully.\n"
          ]
        },
        {
          "output_type": "stream",
          "name": "stderr",
          "text": [
            "\rFetching crypto data:  69%|██████▉   | 112/162 [01:20<00:34,  1.43it/s]"
          ]
        },
        {
          "output_type": "stream",
          "name": "stdout",
          "text": [
            "Data for BALUSDT fetched successfully.\n"
          ]
        },
        {
          "output_type": "stream",
          "name": "stderr",
          "text": [
            "\rFetching crypto data:  70%|██████▉   | 113/162 [01:21<00:34,  1.42it/s]"
          ]
        },
        {
          "output_type": "stream",
          "name": "stdout",
          "text": [
            "Data for GLMUSDT fetched successfully.\n"
          ]
        },
        {
          "output_type": "stream",
          "name": "stderr",
          "text": [
            "\rFetching crypto data:  70%|███████   | 114/162 [01:21<00:33,  1.42it/s]"
          ]
        },
        {
          "output_type": "stream",
          "name": "stdout",
          "text": [
            "Data for CLVUSDT fetched successfully.\n"
          ]
        },
        {
          "output_type": "stream",
          "name": "stderr",
          "text": [
            "\rFetching crypto data:  71%|███████   | 115/162 [01:22<00:32,  1.43it/s]"
          ]
        },
        {
          "output_type": "stream",
          "name": "stdout",
          "text": [
            "Data for QNTUSDT fetched successfully.\n"
          ]
        },
        {
          "output_type": "stream",
          "name": "stderr",
          "text": [
            "\rFetching crypto data:  72%|███████▏  | 116/162 [01:23<00:32,  1.44it/s]"
          ]
        },
        {
          "output_type": "stream",
          "name": "stdout",
          "text": [
            "Data for STGUSDT fetched successfully.\n"
          ]
        },
        {
          "output_type": "stream",
          "name": "stderr",
          "text": [
            "\rFetching crypto data:  72%|███████▏  | 117/162 [01:23<00:31,  1.44it/s]"
          ]
        },
        {
          "output_type": "stream",
          "name": "stdout",
          "text": [
            "Data for AXLUSDT fetched successfully.\n"
          ]
        },
        {
          "output_type": "stream",
          "name": "stderr",
          "text": [
            "\rFetching crypto data:  73%|███████▎  | 118/162 [01:24<00:30,  1.43it/s]"
          ]
        },
        {
          "output_type": "stream",
          "name": "stdout",
          "text": [
            "Data for KAVAUSDT fetched successfully.\n"
          ]
        },
        {
          "output_type": "stream",
          "name": "stderr",
          "text": [
            "\rFetching crypto data:  73%|███████▎  | 119/162 [01:25<00:30,  1.42it/s]"
          ]
        },
        {
          "output_type": "stream",
          "name": "stdout",
          "text": [
            "Data for APTUSDT fetched successfully.\n"
          ]
        },
        {
          "output_type": "stream",
          "name": "stderr",
          "text": [
            "\rFetching crypto data:  74%|███████▍  | 120/162 [01:26<00:29,  1.41it/s]"
          ]
        },
        {
          "output_type": "stream",
          "name": "stdout",
          "text": [
            "Data for MASKUSDT fetched successfully.\n"
          ]
        },
        {
          "output_type": "stream",
          "name": "stderr",
          "text": [
            "\rFetching crypto data:  75%|███████▍  | 121/162 [01:26<00:28,  1.42it/s]"
          ]
        },
        {
          "output_type": "stream",
          "name": "stdout",
          "text": [
            "Data for BOSONUSDT fetched successfully.\n"
          ]
        },
        {
          "output_type": "stream",
          "name": "stderr",
          "text": [
            "\rFetching crypto data:  75%|███████▌  | 122/162 [01:27<00:27,  1.44it/s]"
          ]
        },
        {
          "output_type": "stream",
          "name": "stdout",
          "text": [
            "Data for PONDUSDT fetched successfully.\n"
          ]
        },
        {
          "output_type": "stream",
          "name": "stderr",
          "text": [
            "\rFetching crypto data:  76%|███████▌  | 123/162 [01:28<00:27,  1.44it/s]"
          ]
        },
        {
          "output_type": "stream",
          "name": "stdout",
          "text": [
            "Data for MXCUSDT fetched successfully.\n"
          ]
        },
        {
          "output_type": "stream",
          "name": "stderr",
          "text": [
            "\rFetching crypto data:  77%|███████▋  | 124/162 [01:28<00:26,  1.45it/s]"
          ]
        },
        {
          "output_type": "stream",
          "name": "stdout",
          "text": [
            "Data for JAMUSDT fetched successfully.\n"
          ]
        },
        {
          "output_type": "stream",
          "name": "stderr",
          "text": [
            "\rFetching crypto data:  77%|███████▋  | 125/162 [01:29<00:25,  1.45it/s]"
          ]
        },
        {
          "output_type": "stream",
          "name": "stdout",
          "text": [
            "Data for TRACUSDT fetched successfully.\n"
          ]
        },
        {
          "output_type": "stream",
          "name": "stderr",
          "text": [
            "\rFetching crypto data:  78%|███████▊  | 126/162 [01:30<00:24,  1.45it/s]"
          ]
        },
        {
          "output_type": "stream",
          "name": "stdout",
          "text": [
            "Data for PROMUSDT fetched successfully.\n"
          ]
        },
        {
          "output_type": "stream",
          "name": "stderr",
          "text": [
            "\rFetching crypto data:  78%|███████▊  | 127/162 [01:30<00:24,  1.43it/s]"
          ]
        },
        {
          "output_type": "stream",
          "name": "stdout",
          "text": [
            "Data for DIAUSDT fetched successfully.\n"
          ]
        },
        {
          "output_type": "stream",
          "name": "stderr",
          "text": [
            "\rFetching crypto data:  79%|███████▉  | 128/162 [01:31<00:23,  1.44it/s]"
          ]
        },
        {
          "output_type": "stream",
          "name": "stdout",
          "text": [
            "Data for LOOMUSDT fetched successfully.\n"
          ]
        },
        {
          "output_type": "stream",
          "name": "stderr",
          "text": [
            "\rFetching crypto data:  80%|███████▉  | 129/162 [01:32<00:22,  1.44it/s]"
          ]
        },
        {
          "output_type": "stream",
          "name": "stdout",
          "text": [
            "Data for STMXUSDT fetched successfully.\n"
          ]
        },
        {
          "output_type": "stream",
          "name": "stderr",
          "text": [
            "\rFetching crypto data:  80%|████████  | 130/162 [01:33<00:22,  1.44it/s]"
          ]
        },
        {
          "output_type": "stream",
          "name": "stdout",
          "text": [
            "Data for POLYXUSDT fetched successfully.\n"
          ]
        },
        {
          "output_type": "stream",
          "name": "stderr",
          "text": [
            "\rFetching crypto data:  81%|████████  | 131/162 [01:33<00:21,  1.44it/s]"
          ]
        },
        {
          "output_type": "stream",
          "name": "stdout",
          "text": [
            "Data for IOSTUSDT fetched successfully.\n"
          ]
        },
        {
          "output_type": "stream",
          "name": "stderr",
          "text": [
            "\rFetching crypto data:  81%|████████▏ | 132/162 [01:34<00:20,  1.44it/s]"
          ]
        },
        {
          "output_type": "stream",
          "name": "stdout",
          "text": [
            "Data for ARBUSDT fetched successfully.\n"
          ]
        },
        {
          "output_type": "stream",
          "name": "stderr",
          "text": [
            "\rFetching crypto data:  82%|████████▏ | 133/162 [01:35<00:20,  1.44it/s]"
          ]
        },
        {
          "output_type": "stream",
          "name": "stdout",
          "text": [
            "Data for FLOKIUSDT fetched successfully.\n"
          ]
        },
        {
          "output_type": "stream",
          "name": "stderr",
          "text": [
            "\rFetching crypto data:  83%|████████▎ | 134/162 [01:35<00:19,  1.44it/s]"
          ]
        },
        {
          "output_type": "stream",
          "name": "stdout",
          "text": [
            "Data for XECUSDT fetched successfully.\n"
          ]
        },
        {
          "output_type": "stream",
          "name": "stderr",
          "text": [
            "\rFetching crypto data:  83%|████████▎ | 135/162 [01:36<00:18,  1.43it/s]"
          ]
        },
        {
          "output_type": "stream",
          "name": "stdout",
          "text": [
            "Data for BLURUSDT fetched successfully.\n"
          ]
        },
        {
          "output_type": "stream",
          "name": "stderr",
          "text": [
            "\rFetching crypto data:  84%|████████▍ | 136/162 [01:37<00:18,  1.43it/s]"
          ]
        },
        {
          "output_type": "stream",
          "name": "stdout",
          "text": [
            "Data for ANKRUSDT fetched successfully.\n"
          ]
        },
        {
          "output_type": "stream",
          "name": "stderr",
          "text": [
            "\rFetching crypto data:  85%|████████▍ | 137/162 [01:37<00:17,  1.41it/s]"
          ]
        },
        {
          "output_type": "stream",
          "name": "stdout",
          "text": [
            "Data for DAIUSDT fetched successfully.\n"
          ]
        },
        {
          "output_type": "stream",
          "name": "stderr",
          "text": [
            "\rFetching crypto data:  85%|████████▌ | 138/162 [01:38<00:16,  1.42it/s]"
          ]
        },
        {
          "output_type": "stream",
          "name": "stdout",
          "text": [
            "Data for DASHUSDT fetched successfully.\n"
          ]
        },
        {
          "output_type": "stream",
          "name": "stderr",
          "text": [
            "\rFetching crypto data:  86%|████████▌ | 139/162 [01:39<00:16,  1.43it/s]"
          ]
        },
        {
          "output_type": "stream",
          "name": "stdout",
          "text": [
            "Data for HBARUSDT fetched successfully.\n"
          ]
        },
        {
          "output_type": "stream",
          "name": "stderr",
          "text": [
            "\rFetching crypto data:  86%|████████▋ | 140/162 [01:40<00:15,  1.43it/s]"
          ]
        },
        {
          "output_type": "stream",
          "name": "stdout",
          "text": [
            "Data for ICXUSDT fetched successfully.\n"
          ]
        },
        {
          "output_type": "stream",
          "name": "stderr",
          "text": [
            "\rFetching crypto data:  87%|████████▋ | 141/162 [01:40<00:14,  1.43it/s]"
          ]
        },
        {
          "output_type": "stream",
          "name": "stdout",
          "text": [
            "Data for IOTAUSDT fetched successfully.\n"
          ]
        },
        {
          "output_type": "stream",
          "name": "stderr",
          "text": [
            "\rFetching crypto data:  88%|████████▊ | 142/162 [01:41<00:13,  1.44it/s]"
          ]
        },
        {
          "output_type": "stream",
          "name": "stdout",
          "text": [
            "Data for RVNUSDT fetched successfully.\n"
          ]
        },
        {
          "output_type": "stream",
          "name": "stderr",
          "text": [
            "\rFetching crypto data:  88%|████████▊ | 143/162 [01:42<00:13,  1.45it/s]"
          ]
        },
        {
          "output_type": "stream",
          "name": "stdout",
          "text": [
            "Data for XNOUSDT fetched successfully.\n"
          ]
        },
        {
          "output_type": "stream",
          "name": "stderr",
          "text": [
            "\rFetching crypto data:  89%|████████▉ | 144/162 [01:42<00:12,  1.44it/s]"
          ]
        },
        {
          "output_type": "stream",
          "name": "stdout",
          "text": [
            "Data for XTZUSDT fetched successfully.\n"
          ]
        },
        {
          "output_type": "stream",
          "name": "stderr",
          "text": [
            "\rFetching crypto data:  90%|████████▉ | 145/162 [01:43<00:11,  1.45it/s]"
          ]
        },
        {
          "output_type": "stream",
          "name": "stdout",
          "text": [
            "Data for ZILUSDT fetched successfully.\n"
          ]
        },
        {
          "output_type": "stream",
          "name": "stderr",
          "text": [
            "\rFetching crypto data:  90%|█████████ | 146/162 [01:44<00:11,  1.45it/s]"
          ]
        },
        {
          "output_type": "stream",
          "name": "stdout",
          "text": [
            "Data for ORBSUSDT fetched successfully.\n"
          ]
        },
        {
          "output_type": "stream",
          "name": "stderr",
          "text": [
            "\rFetching crypto data:  91%|█████████ | 147/162 [01:44<00:10,  1.45it/s]"
          ]
        },
        {
          "output_type": "stream",
          "name": "stdout",
          "text": [
            "Data for ADXUSDT fetched successfully.\n"
          ]
        },
        {
          "output_type": "stream",
          "name": "stderr",
          "text": [
            "\rFetching crypto data:  91%|█████████▏| 148/162 [01:45<00:09,  1.46it/s]"
          ]
        },
        {
          "output_type": "stream",
          "name": "stdout",
          "text": [
            "Data for FORTUSDT fetched successfully.\n"
          ]
        },
        {
          "output_type": "stream",
          "name": "stderr",
          "text": [
            "\rFetching crypto data:  92%|█████████▏| 149/162 [01:46<00:08,  1.45it/s]"
          ]
        },
        {
          "output_type": "stream",
          "name": "stdout",
          "text": [
            "Data for SUIUSDT fetched successfully.\n"
          ]
        },
        {
          "output_type": "stream",
          "name": "stderr",
          "text": [
            "\rFetching crypto data:  93%|█████████▎| 150/162 [01:46<00:08,  1.44it/s]"
          ]
        },
        {
          "output_type": "stream",
          "name": "stdout",
          "text": [
            "Data for ONGUSDT fetched successfully.\n"
          ]
        },
        {
          "output_type": "stream",
          "name": "stderr",
          "text": [
            "\rFetching crypto data:  93%|█████████▎| 151/162 [01:47<00:07,  1.46it/s]"
          ]
        },
        {
          "output_type": "stream",
          "name": "stdout",
          "text": [
            "Data for GUSDT fetched successfully.\n"
          ]
        },
        {
          "output_type": "stream",
          "name": "stderr",
          "text": [
            "\rFetching crypto data:  94%|█████████▍| 152/162 [01:48<00:06,  1.46it/s]"
          ]
        },
        {
          "output_type": "stream",
          "name": "stdout",
          "text": [
            "Data for RENDERUSDT fetched successfully.\n"
          ]
        },
        {
          "output_type": "stream",
          "name": "stderr",
          "text": [
            "\rFetching crypto data:  94%|█████████▍| 153/162 [01:48<00:06,  1.46it/s]"
          ]
        },
        {
          "output_type": "stream",
          "name": "stdout",
          "text": [
            "Data for BONKUSDT fetched successfully.\n"
          ]
        },
        {
          "output_type": "stream",
          "name": "stderr",
          "text": [
            "\rFetching crypto data:  95%|█████████▌| 154/162 [01:49<00:05,  1.47it/s]"
          ]
        },
        {
          "output_type": "stream",
          "name": "stdout",
          "text": [
            "Data for MAGICUSDT fetched successfully.\n"
          ]
        },
        {
          "output_type": "stream",
          "name": "stderr",
          "text": [
            "\rFetching crypto data:  96%|█████████▌| 155/162 [01:50<00:04,  1.49it/s]"
          ]
        },
        {
          "output_type": "stream",
          "name": "stdout",
          "text": [
            "Data for PEPEUSDT fetched successfully.\n"
          ]
        },
        {
          "output_type": "stream",
          "name": "stderr",
          "text": [
            "\rFetching crypto data:  96%|█████████▋| 156/162 [01:50<00:04,  1.50it/s]"
          ]
        },
        {
          "output_type": "stream",
          "name": "stdout",
          "text": [
            "Data for WIFUSDT fetched successfully.\n"
          ]
        },
        {
          "output_type": "stream",
          "name": "stderr",
          "text": [
            "\rFetching crypto data:  97%|█████████▋| 157/162 [01:51<00:03,  1.51it/s]"
          ]
        },
        {
          "output_type": "stream",
          "name": "stdout",
          "text": [
            "Data for IOTXUSDT fetched successfully.\n"
          ]
        },
        {
          "output_type": "stream",
          "name": "stderr",
          "text": [
            "\rFetching crypto data:  98%|█████████▊| 158/162 [01:52<00:02,  1.51it/s]"
          ]
        },
        {
          "output_type": "stream",
          "name": "stdout",
          "text": [
            "Data for PNUTUSDT fetched successfully.\n"
          ]
        },
        {
          "output_type": "stream",
          "name": "stderr",
          "text": [
            "\rFetching crypto data:  98%|█████████▊| 159/162 [01:52<00:01,  1.52it/s]"
          ]
        },
        {
          "output_type": "stream",
          "name": "stdout",
          "text": [
            "Data for PENGUUSDT fetched successfully.\n"
          ]
        },
        {
          "output_type": "stream",
          "name": "stderr",
          "text": [
            "\rFetching crypto data:  99%|█████████▉| 160/162 [01:53<00:01,  1.52it/s]"
          ]
        },
        {
          "output_type": "stream",
          "name": "stdout",
          "text": [
            "Data for POLUSDT fetched successfully.\n"
          ]
        },
        {
          "output_type": "stream",
          "name": "stderr",
          "text": [
            "\rFetching crypto data:  99%|█████████▉| 161/162 [01:54<00:00,  1.53it/s]"
          ]
        },
        {
          "output_type": "stream",
          "name": "stdout",
          "text": [
            "Data for TRUMPUSDT fetched successfully.\n"
          ]
        },
        {
          "output_type": "stream",
          "name": "stderr",
          "text": [
            "Fetching crypto data: 100%|██████████| 162/162 [01:54<00:00,  1.41it/s]"
          ]
        },
        {
          "output_type": "stream",
          "name": "stdout",
          "text": [
            "Data for NEIROUSDT fetched successfully.\n"
          ]
        },
        {
          "output_type": "stream",
          "name": "stderr",
          "text": [
            "\n"
          ]
        },
        {
          "output_type": "stream",
          "name": "stdout",
          "text": [
            "Master parquet file saved as 'master_crypto_data.parquet'\n"
          ]
        }
      ],
      "source": [
        "all_data = []\n",
        "for ticker in tqdm(active_usdt_tickers, desc=\"Fetching crypto data\"):\n",
        "    try:\n",
        "        cleaned_ticker = ticker.replace('/', '')\n",
        "        df = fetch_data(cleaned_ticker, start_date, end_date, interval)\n",
        "        all_data.append(df)\n",
        "        print(f\"Data for {cleaned_ticker} fetched successfully.\")\n",
        "    except Exception as e:\n",
        "        print(f\"Error fetching data for {ticker}: {e}\")\n",
        "\n",
        "# Concatenate all the DataFrames into one master DataFrame\n",
        "master_data = pd.concat(all_data, ignore_index=True)\n",
        "\n",
        "# Save the master DataFrame to a Parquet file\n",
        "master_data.to_parquet(\"master_crypto_data.parquet\", index=False)\n",
        "print(\"Master parquet file saved as 'master_crypto_data.parquet'\")"
      ]
    },
    {
      "cell_type": "code",
      "source": [],
      "metadata": {
        "id": "4mu73s_OtXMO"
      },
      "execution_count": null,
      "outputs": []
    }
  ],
  "metadata": {
    "kernelspec": {
      "display_name": "finm",
      "language": "python",
      "name": "python3"
    },
    "language_info": {
      "codemirror_mode": {
        "name": "ipython",
        "version": 3
      },
      "file_extension": ".py",
      "mimetype": "text/x-python",
      "name": "python",
      "nbconvert_exporter": "python",
      "pygments_lexer": "ipython3",
      "version": "3.12.4"
    },
    "colab": {
      "provenance": []
    }
  },
  "nbformat": 4,
  "nbformat_minor": 0
}