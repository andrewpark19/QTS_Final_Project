{
  "cells": [
    {
      "cell_type": "markdown",
      "metadata": {
        "id": "XR42JRn0Wopa"
      },
      "source": [
        "# Data Pull"
      ]
    },
    {
      "cell_type": "code",
      "execution_count": 7,
      "metadata": {
        "colab": {
          "base_uri": "https://localhost:8080/"
        },
        "id": "oJkq6PkqaiEg",
        "outputId": "15cb7cf9-7ce8-4329-dadc-186437cb0a25"
      },
      "outputs": [
        {
          "name": "stdout",
          "output_type": "stream",
          "text": [
            "Requirement already satisfied: ccxt in /opt/anaconda3/lib/python3.12/site-packages (4.4.62)\n",
            "Requirement already satisfied: setuptools>=60.9.0 in /opt/anaconda3/lib/python3.12/site-packages (from ccxt) (69.5.1)\n",
            "Requirement already satisfied: certifi>=2018.1.18 in /opt/anaconda3/lib/python3.12/site-packages (from ccxt) (2024.12.14)\n",
            "Requirement already satisfied: requests>=2.18.4 in /opt/anaconda3/lib/python3.12/site-packages (from ccxt) (2.32.2)\n",
            "Requirement already satisfied: cryptography>=2.6.1 in /opt/anaconda3/lib/python3.12/site-packages (from ccxt) (42.0.5)\n",
            "Requirement already satisfied: typing-extensions>=4.4.0 in /opt/anaconda3/lib/python3.12/site-packages (from ccxt) (4.11.0)\n",
            "Requirement already satisfied: aiohttp<=3.10.11 in /opt/anaconda3/lib/python3.12/site-packages (from ccxt) (3.9.5)\n",
            "Requirement already satisfied: aiodns>=1.1.1 in /opt/anaconda3/lib/python3.12/site-packages (from ccxt) (3.2.0)\n",
            "Requirement already satisfied: yarl>=1.7.2 in /opt/anaconda3/lib/python3.12/site-packages (from ccxt) (1.9.3)\n",
            "Requirement already satisfied: pycares>=4.0.0 in /opt/anaconda3/lib/python3.12/site-packages (from aiodns>=1.1.1->ccxt) (4.5.0)\n",
            "Requirement already satisfied: aiosignal>=1.1.2 in /opt/anaconda3/lib/python3.12/site-packages (from aiohttp<=3.10.11->ccxt) (1.2.0)\n",
            "Requirement already satisfied: attrs>=17.3.0 in /opt/anaconda3/lib/python3.12/site-packages (from aiohttp<=3.10.11->ccxt) (23.1.0)\n",
            "Requirement already satisfied: frozenlist>=1.1.1 in /opt/anaconda3/lib/python3.12/site-packages (from aiohttp<=3.10.11->ccxt) (1.4.0)\n",
            "Requirement already satisfied: multidict<7.0,>=4.5 in /opt/anaconda3/lib/python3.12/site-packages (from aiohttp<=3.10.11->ccxt) (6.0.4)\n",
            "Requirement already satisfied: cffi>=1.12 in /opt/anaconda3/lib/python3.12/site-packages (from cryptography>=2.6.1->ccxt) (1.16.0)\n",
            "Requirement already satisfied: charset-normalizer<4,>=2 in /opt/anaconda3/lib/python3.12/site-packages (from requests>=2.18.4->ccxt) (2.0.4)\n",
            "Requirement already satisfied: idna<4,>=2.5 in /opt/anaconda3/lib/python3.12/site-packages (from requests>=2.18.4->ccxt) (3.7)\n",
            "Requirement already satisfied: urllib3<3,>=1.21.1 in /opt/anaconda3/lib/python3.12/site-packages (from requests>=2.18.4->ccxt) (2.2.2)\n",
            "Requirement already satisfied: pycparser in /opt/anaconda3/lib/python3.12/site-packages (from cffi>=1.12->cryptography>=2.6.1->ccxt) (2.21)\n",
            "Note: you may need to restart the kernel to use updated packages.\n"
          ]
        }
      ],
      "source": [
        "pip install ccxt"
      ]
    },
    {
      "cell_type": "code",
      "execution_count": 1,
      "metadata": {
        "id": "PIXGzk7BWk9G"
      },
      "outputs": [],
      "source": [
        "import ccxt\n",
        "import time\n",
        "import pandas as pd\n",
        "from datetime import datetime, timezone\n",
        "from tqdm import tqdm\n",
        "import os"
      ]
    },
    {
      "cell_type": "markdown",
      "metadata": {
        "id": "yOenDdyhcbO-"
      },
      "source": [
        "## Coin Universe"
      ]
    },
    {
      "cell_type": "code",
      "execution_count": 2,
      "metadata": {
        "colab": {
          "base_uri": "https://localhost:8080/"
        },
        "id": "Sv0i6USoWk9I",
        "outputId": "1f911018-e1b4-48a1-da42-ca962171a13d"
      },
      "outputs": [
        {
          "data": {
            "text/plain": [
              "162"
            ]
          },
          "execution_count": 2,
          "metadata": {},
          "output_type": "execute_result"
        }
      ],
      "source": [
        "SPOT_COLUMNS = ['Open time', 'Open', 'High', 'Low', 'Close', 'Volume', 'Close time', 'Quote asset volume',\n",
        "                'Number of trades', 'Taker buy base asset volume', 'Taker buy quote asset volume', 'Ignore']\n",
        "\n",
        "binance_exchange = ccxt.binanceus({\n",
        "    'timeout': 15000,\n",
        "    'enableRateLimit': True\n",
        "    # 'options': {'defaultType': 'future'}\n",
        "})\n",
        "markets = binance_exchange.load_markets()\n",
        "all_tickers = list(markets.keys())\n",
        "usdt_tickers = [ticker for ticker in all_tickers if ticker.endswith('USDT')]\n",
        "active_usdt_tickers = [\n",
        "    ticker for ticker in usdt_tickers if markets[ticker]['active']\n",
        "]\n",
        "len(active_usdt_tickers)"
      ]
    },
    {
      "cell_type": "code",
      "execution_count": 3,
      "metadata": {
        "id": "pD-PNmLHWk9J"
      },
      "outputs": [],
      "source": [
        "def get_spot(exchange, symbol, interval = '1d',\n",
        "                    startTime = None,\n",
        "                    endTime = None,\n",
        "                    limit = 1000):\n",
        "\n",
        "    if (startTime == None and endTime == None):\n",
        "        return exchange.publicGetKlines({'symbol': symbol,\n",
        "                                        'interval': interval,\n",
        "                                        'limit': limit})\n",
        "    elif (startTime == None and endTime != None):\n",
        "        return exchange.publicGetKlines({'symbol': symbol,\n",
        "                                        'interval': interval,\n",
        "                                        'endTime': endTime,\n",
        "                                        'limit': limit})\n",
        "    elif (startTime != None and endTime == None):\n",
        "        return exchange.publicGetKlines({'symbol': symbol,\n",
        "                                        'interval': interval,\n",
        "                                        'startTime': startTime,\n",
        "                                        'limit': limit})\n",
        "    else:\n",
        "        return exchange.publicGetKlines({'symbol': symbol,\n",
        "                                        'interval': interval,\n",
        "                                        'startTime': startTime,\n",
        "                                        'endTime': endTime,\n",
        "                                        'limit': limit})\n",
        "\n",
        "def convert_to_seconds(time_input):\n",
        "    number = int(time_input[:-1])\n",
        "    unit = time_input[-1]\n",
        "\n",
        "    if unit == 's':\n",
        "        return number\n",
        "    elif unit == 'm':\n",
        "        return number * 60\n",
        "    elif unit == 'h':\n",
        "        return number * 3600\n",
        "    elif unit == 'd':\n",
        "        return number * 86400\n",
        "    else:\n",
        "        raise ValueError(\"Unsupported time unit\")\n",
        "\n",
        "def transform_timestamp(timestamp_integer):\n",
        "    '''\n",
        "    As data points involved milliseconds, we need to transform them by constant 1000.\n",
        "    '''\n",
        "\n",
        "    return pd.to_datetime(int(timestamp_integer / 1000), utc=True, unit='s')\n",
        "\n",
        "def transform_to_timestamp_integer(datetime_object):\n",
        "    '''\n",
        "    As data points involved milliseconds, we need to transform them by constant 1000.\n",
        "    '''\n",
        "\n",
        "    return int(datetime_object.timestamp() * 1000)\n",
        "\n",
        "def obtain_full_spotdata(start_timestamp,\n",
        "                         end_timestamp,\n",
        "                         exchange, symbol, interval = '1h',\n",
        "                         limit = 1000):\n",
        "\n",
        "    time_difference = int(convert_to_seconds(interval) * limit * 1000)\n",
        "\n",
        "    full_data_list = []\n",
        "\n",
        "    curr_time = start_timestamp + time_difference\n",
        "    while (curr_time + time_difference < end_timestamp):\n",
        "        data_list = get_spot(exchange = exchange, symbol = symbol, interval = interval,\n",
        "                             endTime = curr_time,\n",
        "                             limit = limit)\n",
        "        full_data_list = full_data_list + data_list\n",
        "\n",
        "        time.sleep(0.2)\n",
        "        curr_time += time_difference\n",
        "\n",
        "    data_list = get_spot(exchange = exchange, symbol = symbol, interval = interval,\n",
        "                        startTime = curr_time,\n",
        "                        endTime = end_timestamp,\n",
        "                        limit = limit)\n",
        "\n",
        "    full_data_list = full_data_list + data_list\n",
        "\n",
        "    return full_data_list"
      ]
    },
    {
      "cell_type": "code",
      "execution_count": 4,
      "metadata": {
        "id": "i2HyV3tUWk9K"
      },
      "outputs": [],
      "source": [
        "start_date = \"2016-01-01\"\n",
        "end_date = \"2025-02-24\"\n",
        "interval = \"1d\""
      ]
    },
    {
      "cell_type": "code",
      "execution_count": 5,
      "metadata": {
        "id": "x3251fOBWk9L"
      },
      "outputs": [],
      "source": [
        "def fetch_data(ticker_symbol, start_date, end_date, interval):\n",
        "    # Convert dates to timestamps in milliseconds\n",
        "    start_timestamp = int(((pd.to_datetime(start_date)).tz_localize('UTC')).timestamp() * 1000)\n",
        "    end_timestamp = int(((pd.to_datetime(end_date)).tz_localize('UTC')).timestamp() * 1000)\n",
        "\n",
        "    # Obtain raw data from Binance US\n",
        "    full_data_list = obtain_full_spotdata(start_timestamp, end_timestamp, binance_exchange, ticker_symbol, interval=interval)\n",
        "\n",
        "    # Create a DataFrame with the correct column names\n",
        "    data = pd.DataFrame(full_data_list, columns=SPOT_COLUMNS)\n",
        "    data['Open time'] = data['Open time'].apply(lambda x: transform_timestamp(int(x)))\n",
        "\n",
        "    # Remove any duplicate entries based on 'Open time'\n",
        "    data.drop_duplicates('Open time', keep='first', inplace=True)\n",
        "\n",
        "    # Add a column to identify the ticker\n",
        "    data['Ticker'] = ticker_symbol\n",
        "    return data"
      ]
    },
    {
      "cell_type": "code",
      "execution_count": 6,
      "metadata": {
        "colab": {
          "base_uri": "https://localhost:8080/"
        },
        "id": "lTvDMrfLWk9L",
        "outputId": "9fcbc5fa-4163-40ee-b421-608c094d34f5"
      },
      "outputs": [
        {
          "name": "stderr",
          "output_type": "stream",
          "text": [
            "Fetching crypto data:   1%|          | 1/162 [00:00<01:43,  1.56it/s]"
          ]
        },
        {
          "name": "stdout",
          "output_type": "stream",
          "text": [
            "Data for BTCUSDT fetched successfully.\n"
          ]
        },
        {
          "name": "stderr",
          "output_type": "stream",
          "text": [
            "Fetching crypto data:   1%|          | 2/162 [00:01<01:36,  1.65it/s]"
          ]
        },
        {
          "name": "stdout",
          "output_type": "stream",
          "text": [
            "Data for ETHUSDT fetched successfully.\n"
          ]
        },
        {
          "name": "stderr",
          "output_type": "stream",
          "text": [
            "Fetching crypto data:   2%|▏         | 3/162 [00:01<01:32,  1.71it/s]"
          ]
        },
        {
          "name": "stdout",
          "output_type": "stream",
          "text": [
            "Data for XRPUSDT fetched successfully.\n"
          ]
        },
        {
          "name": "stderr",
          "output_type": "stream",
          "text": [
            "Fetching crypto data:   2%|▏         | 4/162 [00:02<01:32,  1.72it/s]"
          ]
        },
        {
          "name": "stdout",
          "output_type": "stream",
          "text": [
            "Data for BCHUSDT fetched successfully.\n"
          ]
        },
        {
          "name": "stderr",
          "output_type": "stream",
          "text": [
            "Fetching crypto data:   3%|▎         | 5/162 [00:02<01:33,  1.69it/s]"
          ]
        },
        {
          "name": "stdout",
          "output_type": "stream",
          "text": [
            "Data for LTCUSDT fetched successfully.\n"
          ]
        },
        {
          "name": "stderr",
          "output_type": "stream",
          "text": [
            "Fetching crypto data:   4%|▎         | 6/162 [00:03<01:31,  1.70it/s]"
          ]
        },
        {
          "name": "stdout",
          "output_type": "stream",
          "text": [
            "Data for BNBUSDT fetched successfully.\n"
          ]
        },
        {
          "name": "stderr",
          "output_type": "stream",
          "text": [
            "Fetching crypto data:   4%|▍         | 7/162 [00:04<01:30,  1.71it/s]"
          ]
        },
        {
          "name": "stdout",
          "output_type": "stream",
          "text": [
            "Data for ADAUSDT fetched successfully.\n"
          ]
        },
        {
          "name": "stderr",
          "output_type": "stream",
          "text": [
            "Fetching crypto data:   5%|▍         | 8/162 [00:04<01:29,  1.71it/s]"
          ]
        },
        {
          "name": "stdout",
          "output_type": "stream",
          "text": [
            "Data for BATUSDT fetched successfully.\n"
          ]
        },
        {
          "name": "stderr",
          "output_type": "stream",
          "text": [
            "Fetching crypto data:   6%|▌         | 9/162 [00:05<01:29,  1.71it/s]"
          ]
        },
        {
          "name": "stdout",
          "output_type": "stream",
          "text": [
            "Data for ETCUSDT fetched successfully.\n"
          ]
        },
        {
          "name": "stderr",
          "output_type": "stream",
          "text": [
            "Fetching crypto data:   6%|▌         | 10/162 [00:05<01:28,  1.72it/s]"
          ]
        },
        {
          "name": "stdout",
          "output_type": "stream",
          "text": [
            "Data for XLMUSDT fetched successfully.\n"
          ]
        },
        {
          "name": "stderr",
          "output_type": "stream",
          "text": [
            "Fetching crypto data:   7%|▋         | 11/162 [00:06<01:27,  1.73it/s]"
          ]
        },
        {
          "name": "stdout",
          "output_type": "stream",
          "text": [
            "Data for ZRXUSDT fetched successfully.\n"
          ]
        },
        {
          "name": "stderr",
          "output_type": "stream",
          "text": [
            "Fetching crypto data:   7%|▋         | 12/162 [00:07<01:26,  1.73it/s]"
          ]
        },
        {
          "name": "stdout",
          "output_type": "stream",
          "text": [
            "Data for DOGEUSDT fetched successfully.\n"
          ]
        },
        {
          "name": "stderr",
          "output_type": "stream",
          "text": [
            "Fetching crypto data:   8%|▊         | 13/162 [00:07<01:25,  1.74it/s]"
          ]
        },
        {
          "name": "stdout",
          "output_type": "stream",
          "text": [
            "Data for ATOMUSDT fetched successfully.\n"
          ]
        },
        {
          "name": "stderr",
          "output_type": "stream",
          "text": [
            "Fetching crypto data:   9%|▊         | 14/162 [00:08<01:25,  1.73it/s]"
          ]
        },
        {
          "name": "stdout",
          "output_type": "stream",
          "text": [
            "Data for NEOUSDT fetched successfully.\n"
          ]
        },
        {
          "name": "stderr",
          "output_type": "stream",
          "text": [
            "Fetching crypto data:   9%|▉         | 15/162 [00:08<01:24,  1.73it/s]"
          ]
        },
        {
          "name": "stdout",
          "output_type": "stream",
          "text": [
            "Data for VETUSDT fetched successfully.\n"
          ]
        },
        {
          "name": "stderr",
          "output_type": "stream",
          "text": [
            "Fetching crypto data:  10%|▉         | 16/162 [00:09<01:24,  1.73it/s]"
          ]
        },
        {
          "name": "stdout",
          "output_type": "stream",
          "text": [
            "Data for QTUMUSDT fetched successfully.\n"
          ]
        },
        {
          "name": "stderr",
          "output_type": "stream",
          "text": [
            "Fetching crypto data:  10%|█         | 17/162 [00:09<01:23,  1.73it/s]"
          ]
        },
        {
          "name": "stdout",
          "output_type": "stream",
          "text": [
            "Data for ONTUSDT fetched successfully.\n"
          ]
        },
        {
          "name": "stderr",
          "output_type": "stream",
          "text": [
            "Fetching crypto data:  11%|█         | 18/162 [00:10<01:23,  1.73it/s]"
          ]
        },
        {
          "name": "stdout",
          "output_type": "stream",
          "text": [
            "Data for KNCUSDT fetched successfully.\n"
          ]
        },
        {
          "name": "stderr",
          "output_type": "stream",
          "text": [
            "Fetching crypto data:  12%|█▏        | 19/162 [00:11<01:22,  1.73it/s]"
          ]
        },
        {
          "name": "stdout",
          "output_type": "stream",
          "text": [
            "Data for VTHOUSDT fetched successfully.\n"
          ]
        },
        {
          "name": "stderr",
          "output_type": "stream",
          "text": [
            "Fetching crypto data:  12%|█▏        | 20/162 [00:11<01:21,  1.74it/s]"
          ]
        },
        {
          "name": "stdout",
          "output_type": "stream",
          "text": [
            "Data for COMPUSDT fetched successfully.\n"
          ]
        },
        {
          "name": "stderr",
          "output_type": "stream",
          "text": [
            "Fetching crypto data:  13%|█▎        | 21/162 [00:12<01:20,  1.74it/s]"
          ]
        },
        {
          "name": "stdout",
          "output_type": "stream",
          "text": [
            "Data for MKRUSDT fetched successfully.\n"
          ]
        },
        {
          "name": "stderr",
          "output_type": "stream",
          "text": [
            "Fetching crypto data:  14%|█▎        | 22/162 [00:12<01:20,  1.74it/s]"
          ]
        },
        {
          "name": "stdout",
          "output_type": "stream",
          "text": [
            "Data for ONEUSDT fetched successfully.\n"
          ]
        },
        {
          "name": "stderr",
          "output_type": "stream",
          "text": [
            "Fetching crypto data:  14%|█▍        | 23/162 [00:13<01:19,  1.74it/s]"
          ]
        },
        {
          "name": "stdout",
          "output_type": "stream",
          "text": [
            "Data for BANDUSDT fetched successfully.\n"
          ]
        },
        {
          "name": "stderr",
          "output_type": "stream",
          "text": [
            "Fetching crypto data:  15%|█▍        | 24/162 [00:13<01:19,  1.74it/s]"
          ]
        },
        {
          "name": "stdout",
          "output_type": "stream",
          "text": [
            "Data for STORJUSDT fetched successfully.\n"
          ]
        },
        {
          "name": "stderr",
          "output_type": "stream",
          "text": [
            "Fetching crypto data:  15%|█▌        | 25/162 [00:14<01:18,  1.74it/s]"
          ]
        },
        {
          "name": "stdout",
          "output_type": "stream",
          "text": [
            "Data for UNIUSDT fetched successfully.\n"
          ]
        },
        {
          "name": "stderr",
          "output_type": "stream",
          "text": [
            "Fetching crypto data:  16%|█▌        | 26/162 [00:15<01:18,  1.74it/s]"
          ]
        },
        {
          "name": "stdout",
          "output_type": "stream",
          "text": [
            "Data for SOLUSDT fetched successfully.\n"
          ]
        },
        {
          "name": "stderr",
          "output_type": "stream",
          "text": [
            "Fetching crypto data:  17%|█▋        | 27/162 [00:15<01:17,  1.75it/s]"
          ]
        },
        {
          "name": "stdout",
          "output_type": "stream",
          "text": [
            "Data for EGLDUSDT fetched successfully.\n"
          ]
        },
        {
          "name": "stderr",
          "output_type": "stream",
          "text": [
            "Fetching crypto data:  17%|█▋        | 28/162 [00:16<01:17,  1.74it/s]"
          ]
        },
        {
          "name": "stdout",
          "output_type": "stream",
          "text": [
            "Data for PAXGUSDT fetched successfully.\n"
          ]
        },
        {
          "name": "stderr",
          "output_type": "stream",
          "text": [
            "Fetching crypto data:  18%|█▊        | 29/162 [00:16<01:16,  1.75it/s]"
          ]
        },
        {
          "name": "stdout",
          "output_type": "stream",
          "text": [
            "Data for OXTUSDT fetched successfully.\n"
          ]
        },
        {
          "name": "stderr",
          "output_type": "stream",
          "text": [
            "Fetching crypto data:  19%|█▊        | 30/162 [00:17<01:15,  1.75it/s]"
          ]
        },
        {
          "name": "stdout",
          "output_type": "stream",
          "text": [
            "Data for ZENUSDT fetched successfully.\n"
          ]
        },
        {
          "name": "stderr",
          "output_type": "stream",
          "text": [
            "Fetching crypto data:  19%|█▉        | 31/162 [00:17<01:13,  1.77it/s]"
          ]
        },
        {
          "name": "stdout",
          "output_type": "stream",
          "text": [
            "Data for FILUSDT fetched successfully.\n"
          ]
        },
        {
          "name": "stderr",
          "output_type": "stream",
          "text": [
            "Fetching crypto data:  20%|█▉        | 32/162 [00:18<01:12,  1.79it/s]"
          ]
        },
        {
          "name": "stdout",
          "output_type": "stream",
          "text": [
            "Data for AAVEUSDT fetched successfully.\n"
          ]
        },
        {
          "name": "stderr",
          "output_type": "stream",
          "text": [
            "Fetching crypto data:  20%|██        | 33/162 [00:19<01:11,  1.80it/s]"
          ]
        },
        {
          "name": "stdout",
          "output_type": "stream",
          "text": [
            "Data for GRTUSDT fetched successfully.\n"
          ]
        },
        {
          "name": "stderr",
          "output_type": "stream",
          "text": [
            "Fetching crypto data:  21%|██        | 34/162 [00:19<01:11,  1.80it/s]"
          ]
        },
        {
          "name": "stdout",
          "output_type": "stream",
          "text": [
            "Data for SHIBUSDT fetched successfully.\n"
          ]
        },
        {
          "name": "stderr",
          "output_type": "stream",
          "text": [
            "Fetching crypto data:  22%|██▏       | 35/162 [00:20<01:10,  1.80it/s]"
          ]
        },
        {
          "name": "stdout",
          "output_type": "stream",
          "text": [
            "Data for CRVUSDT fetched successfully.\n"
          ]
        },
        {
          "name": "stderr",
          "output_type": "stream",
          "text": [
            "Fetching crypto data:  22%|██▏       | 36/162 [00:20<01:10,  1.80it/s]"
          ]
        },
        {
          "name": "stdout",
          "output_type": "stream",
          "text": [
            "Data for AXSUSDT fetched successfully.\n"
          ]
        },
        {
          "name": "stderr",
          "output_type": "stream",
          "text": [
            "Fetching crypto data:  23%|██▎       | 37/162 [00:21<01:08,  1.81it/s]"
          ]
        },
        {
          "name": "stdout",
          "output_type": "stream",
          "text": [
            "Data for AVAXUSDT fetched successfully.\n"
          ]
        },
        {
          "name": "stderr",
          "output_type": "stream",
          "text": [
            "Fetching crypto data:  23%|██▎       | 38/162 [00:21<01:08,  1.82it/s]"
          ]
        },
        {
          "name": "stdout",
          "output_type": "stream",
          "text": [
            "Data for CTSIUSDT fetched successfully.\n"
          ]
        },
        {
          "name": "stderr",
          "output_type": "stream",
          "text": [
            "Fetching crypto data:  24%|██▍       | 39/162 [00:22<01:07,  1.82it/s]"
          ]
        },
        {
          "name": "stdout",
          "output_type": "stream",
          "text": [
            "Data for DOTUSDT fetched successfully.\n"
          ]
        },
        {
          "name": "stderr",
          "output_type": "stream",
          "text": [
            "Fetching crypto data:  25%|██▍       | 40/162 [00:22<01:07,  1.81it/s]"
          ]
        },
        {
          "name": "stdout",
          "output_type": "stream",
          "text": [
            "Data for YFIUSDT fetched successfully.\n"
          ]
        },
        {
          "name": "stderr",
          "output_type": "stream",
          "text": [
            "Fetching crypto data:  25%|██▌       | 41/162 [00:23<01:06,  1.82it/s]"
          ]
        },
        {
          "name": "stdout",
          "output_type": "stream",
          "text": [
            "Data for 1INCHUSDT fetched successfully.\n"
          ]
        },
        {
          "name": "stderr",
          "output_type": "stream",
          "text": [
            "Fetching crypto data:  26%|██▌       | 42/162 [00:23<01:05,  1.83it/s]"
          ]
        },
        {
          "name": "stdout",
          "output_type": "stream",
          "text": [
            "Data for FTMUSDT fetched successfully.\n"
          ]
        },
        {
          "name": "stderr",
          "output_type": "stream",
          "text": [
            "Fetching crypto data:  27%|██▋       | 43/162 [00:24<01:05,  1.83it/s]"
          ]
        },
        {
          "name": "stdout",
          "output_type": "stream",
          "text": [
            "Data for USDCUSDT fetched successfully.\n"
          ]
        },
        {
          "name": "stderr",
          "output_type": "stream",
          "text": [
            "Fetching crypto data:  27%|██▋       | 44/162 [00:25<01:04,  1.83it/s]"
          ]
        },
        {
          "name": "stdout",
          "output_type": "stream",
          "text": [
            "Data for MANAUSDT fetched successfully.\n"
          ]
        },
        {
          "name": "stderr",
          "output_type": "stream",
          "text": [
            "Fetching crypto data:  28%|██▊       | 45/162 [00:25<01:04,  1.83it/s]"
          ]
        },
        {
          "name": "stdout",
          "output_type": "stream",
          "text": [
            "Data for ALGOUSDT fetched successfully.\n"
          ]
        },
        {
          "name": "stderr",
          "output_type": "stream",
          "text": [
            "Fetching crypto data:  28%|██▊       | 46/162 [00:26<01:03,  1.83it/s]"
          ]
        },
        {
          "name": "stdout",
          "output_type": "stream",
          "text": [
            "Data for LINKUSDT fetched successfully.\n"
          ]
        },
        {
          "name": "stderr",
          "output_type": "stream",
          "text": [
            "Fetching crypto data:  29%|██▉       | 47/162 [00:26<01:02,  1.83it/s]"
          ]
        },
        {
          "name": "stdout",
          "output_type": "stream",
          "text": [
            "Data for EOSUSDT fetched successfully.\n"
          ]
        },
        {
          "name": "stderr",
          "output_type": "stream",
          "text": [
            "Fetching crypto data:  30%|██▉       | 48/162 [00:27<01:01,  1.84it/s]"
          ]
        },
        {
          "name": "stdout",
          "output_type": "stream",
          "text": [
            "Data for ZECUSDT fetched successfully.\n"
          ]
        },
        {
          "name": "stderr",
          "output_type": "stream",
          "text": [
            "Fetching crypto data:  30%|███       | 49/162 [00:27<01:01,  1.85it/s]"
          ]
        },
        {
          "name": "stdout",
          "output_type": "stream",
          "text": [
            "Data for ENJUSDT fetched successfully.\n"
          ]
        },
        {
          "name": "stderr",
          "output_type": "stream",
          "text": [
            "Fetching crypto data:  31%|███       | 50/162 [00:28<01:00,  1.84it/s]"
          ]
        },
        {
          "name": "stdout",
          "output_type": "stream",
          "text": [
            "Data for NEARUSDT fetched successfully.\n"
          ]
        },
        {
          "name": "stderr",
          "output_type": "stream",
          "text": [
            "Fetching crypto data:  31%|███▏      | 51/162 [00:28<01:00,  1.84it/s]"
          ]
        },
        {
          "name": "stdout",
          "output_type": "stream",
          "text": [
            "Data for SUSHIUSDT fetched successfully.\n"
          ]
        },
        {
          "name": "stderr",
          "output_type": "stream",
          "text": [
            "Fetching crypto data:  32%|███▏      | 52/162 [00:29<00:59,  1.85it/s]"
          ]
        },
        {
          "name": "stdout",
          "output_type": "stream",
          "text": [
            "Data for LRCUSDT fetched successfully.\n"
          ]
        },
        {
          "name": "stderr",
          "output_type": "stream",
          "text": [
            "Fetching crypto data:  33%|███▎      | 53/162 [00:29<00:59,  1.83it/s]"
          ]
        },
        {
          "name": "stdout",
          "output_type": "stream",
          "text": [
            "Data for LPTUSDT fetched successfully.\n"
          ]
        },
        {
          "name": "stderr",
          "output_type": "stream",
          "text": [
            "Fetching crypto data:  33%|███▎      | 54/162 [00:30<00:58,  1.83it/s]"
          ]
        },
        {
          "name": "stdout",
          "output_type": "stream",
          "text": [
            "Data for NMRUSDT fetched successfully.\n"
          ]
        },
        {
          "name": "stderr",
          "output_type": "stream",
          "text": [
            "Fetching crypto data:  34%|███▍      | 55/162 [00:31<00:58,  1.83it/s]"
          ]
        },
        {
          "name": "stdout",
          "output_type": "stream",
          "text": [
            "Data for SLPUSDT fetched successfully.\n"
          ]
        },
        {
          "name": "stderr",
          "output_type": "stream",
          "text": [
            "Fetching crypto data:  35%|███▍      | 56/162 [00:31<00:57,  1.83it/s]"
          ]
        },
        {
          "name": "stdout",
          "output_type": "stream",
          "text": [
            "Data for CHZUSDT fetched successfully.\n"
          ]
        },
        {
          "name": "stderr",
          "output_type": "stream",
          "text": [
            "Fetching crypto data:  35%|███▌      | 57/162 [00:32<00:57,  1.84it/s]"
          ]
        },
        {
          "name": "stdout",
          "output_type": "stream",
          "text": [
            "Data for OGNUSDT fetched successfully.\n"
          ]
        },
        {
          "name": "stderr",
          "output_type": "stream",
          "text": [
            "Fetching crypto data:  36%|███▌      | 58/162 [00:32<00:56,  1.83it/s]"
          ]
        },
        {
          "name": "stdout",
          "output_type": "stream",
          "text": [
            "Data for GALAUSDT fetched successfully.\n"
          ]
        },
        {
          "name": "stderr",
          "output_type": "stream",
          "text": [
            "Fetching crypto data:  36%|███▋      | 59/162 [00:33<00:56,  1.83it/s]"
          ]
        },
        {
          "name": "stdout",
          "output_type": "stream",
          "text": [
            "Data for TLMUSDT fetched successfully.\n"
          ]
        },
        {
          "name": "stderr",
          "output_type": "stream",
          "text": [
            "Fetching crypto data:  37%|███▋      | 60/162 [00:33<00:56,  1.81it/s]"
          ]
        },
        {
          "name": "stdout",
          "output_type": "stream",
          "text": [
            "Data for SNXUSDT fetched successfully.\n"
          ]
        },
        {
          "name": "stderr",
          "output_type": "stream",
          "text": [
            "Fetching crypto data:  38%|███▊      | 61/162 [00:34<00:56,  1.80it/s]"
          ]
        },
        {
          "name": "stdout",
          "output_type": "stream",
          "text": [
            "Data for AUDIOUSDT fetched successfully.\n"
          ]
        },
        {
          "name": "stderr",
          "output_type": "stream",
          "text": [
            "Fetching crypto data:  38%|███▊      | 62/162 [00:34<00:55,  1.79it/s]"
          ]
        },
        {
          "name": "stdout",
          "output_type": "stream",
          "text": [
            "Data for ENSUSDT fetched successfully.\n"
          ]
        },
        {
          "name": "stderr",
          "output_type": "stream",
          "text": [
            "Fetching crypto data:  39%|███▉      | 63/162 [00:35<00:55,  1.80it/s]"
          ]
        },
        {
          "name": "stdout",
          "output_type": "stream",
          "text": [
            "Data for REQUSDT fetched successfully.\n"
          ]
        },
        {
          "name": "stderr",
          "output_type": "stream",
          "text": [
            "Fetching crypto data:  40%|███▉      | 64/162 [00:36<00:56,  1.73it/s]"
          ]
        },
        {
          "name": "stdout",
          "output_type": "stream",
          "text": [
            "Data for APEUSDT fetched successfully.\n"
          ]
        },
        {
          "name": "stderr",
          "output_type": "stream",
          "text": [
            "Fetching crypto data:  40%|████      | 65/162 [00:36<00:55,  1.75it/s]"
          ]
        },
        {
          "name": "stdout",
          "output_type": "stream",
          "text": [
            "Data for FLUXUSDT fetched successfully.\n"
          ]
        },
        {
          "name": "stderr",
          "output_type": "stream",
          "text": [
            "Fetching crypto data:  41%|████      | 66/162 [00:37<00:54,  1.77it/s]"
          ]
        },
        {
          "name": "stdout",
          "output_type": "stream",
          "text": [
            "Data for COTIUSDT fetched successfully.\n"
          ]
        },
        {
          "name": "stderr",
          "output_type": "stream",
          "text": [
            "Fetching crypto data:  41%|████▏     | 67/162 [00:37<00:53,  1.79it/s]"
          ]
        },
        {
          "name": "stdout",
          "output_type": "stream",
          "text": [
            "Data for VOXELUSDT fetched successfully.\n"
          ]
        },
        {
          "name": "stderr",
          "output_type": "stream",
          "text": [
            "Fetching crypto data:  42%|████▏     | 68/162 [00:38<00:52,  1.79it/s]"
          ]
        },
        {
          "name": "stdout",
          "output_type": "stream",
          "text": [
            "Data for RLCUSDT fetched successfully.\n"
          ]
        },
        {
          "name": "stderr",
          "output_type": "stream",
          "text": [
            "Fetching crypto data:  43%|████▎     | 69/162 [00:38<00:51,  1.80it/s]"
          ]
        },
        {
          "name": "stdout",
          "output_type": "stream",
          "text": [
            "Data for BICOUSDT fetched successfully.\n"
          ]
        },
        {
          "name": "stderr",
          "output_type": "stream",
          "text": [
            "Fetching crypto data:  43%|████▎     | 70/162 [00:39<00:51,  1.80it/s]"
          ]
        },
        {
          "name": "stdout",
          "output_type": "stream",
          "text": [
            "Data for API3USDT fetched successfully.\n"
          ]
        },
        {
          "name": "stderr",
          "output_type": "stream",
          "text": [
            "Fetching crypto data:  44%|████▍     | 71/162 [00:39<00:50,  1.80it/s]"
          ]
        },
        {
          "name": "stdout",
          "output_type": "stream",
          "text": [
            "Data for BNTUSDT fetched successfully.\n"
          ]
        },
        {
          "name": "stderr",
          "output_type": "stream",
          "text": [
            "Fetching crypto data:  44%|████▍     | 72/162 [00:40<00:50,  1.80it/s]"
          ]
        },
        {
          "name": "stdout",
          "output_type": "stream",
          "text": [
            "Data for IMXUSDT fetched successfully.\n"
          ]
        },
        {
          "name": "stderr",
          "output_type": "stream",
          "text": [
            "Fetching crypto data:  45%|████▌     | 73/162 [00:41<00:49,  1.80it/s]"
          ]
        },
        {
          "name": "stdout",
          "output_type": "stream",
          "text": [
            "Data for FLOWUSDT fetched successfully.\n"
          ]
        },
        {
          "name": "stderr",
          "output_type": "stream",
          "text": [
            "Fetching crypto data:  46%|████▌     | 74/162 [00:41<00:48,  1.80it/s]"
          ]
        },
        {
          "name": "stdout",
          "output_type": "stream",
          "text": [
            "Data for GTCUSDT fetched successfully.\n"
          ]
        },
        {
          "name": "stderr",
          "output_type": "stream",
          "text": [
            "Fetching crypto data:  46%|████▋     | 75/162 [00:42<00:48,  1.80it/s]"
          ]
        },
        {
          "name": "stdout",
          "output_type": "stream",
          "text": [
            "Data for THETAUSDT fetched successfully.\n"
          ]
        },
        {
          "name": "stderr",
          "output_type": "stream",
          "text": [
            "Fetching crypto data:  47%|████▋     | 76/162 [00:42<00:47,  1.81it/s]"
          ]
        },
        {
          "name": "stdout",
          "output_type": "stream",
          "text": [
            "Data for TFUELUSDT fetched successfully.\n"
          ]
        },
        {
          "name": "stderr",
          "output_type": "stream",
          "text": [
            "Fetching crypto data:  48%|████▊     | 77/162 [00:43<00:46,  1.81it/s]"
          ]
        },
        {
          "name": "stdout",
          "output_type": "stream",
          "text": [
            "Data for OCEANUSDT fetched successfully.\n"
          ]
        },
        {
          "name": "stderr",
          "output_type": "stream",
          "text": [
            "Fetching crypto data:  48%|████▊     | 78/162 [00:43<00:46,  1.81it/s]"
          ]
        },
        {
          "name": "stdout",
          "output_type": "stream",
          "text": [
            "Data for LAZIOUSDT fetched successfully.\n"
          ]
        },
        {
          "name": "stderr",
          "output_type": "stream",
          "text": [
            "Fetching crypto data:  49%|████▉     | 79/162 [00:44<00:45,  1.81it/s]"
          ]
        },
        {
          "name": "stdout",
          "output_type": "stream",
          "text": [
            "Data for SANTOSUSDT fetched successfully.\n"
          ]
        },
        {
          "name": "stderr",
          "output_type": "stream",
          "text": [
            "Fetching crypto data:  49%|████▉     | 80/162 [00:44<00:45,  1.81it/s]"
          ]
        },
        {
          "name": "stdout",
          "output_type": "stream",
          "text": [
            "Data for ALPINEUSDT fetched successfully.\n"
          ]
        },
        {
          "name": "stderr",
          "output_type": "stream",
          "text": [
            "Fetching crypto data:  50%|█████     | 81/162 [00:45<00:44,  1.81it/s]"
          ]
        },
        {
          "name": "stdout",
          "output_type": "stream",
          "text": [
            "Data for PORTOUSDT fetched successfully.\n"
          ]
        },
        {
          "name": "stderr",
          "output_type": "stream",
          "text": [
            "Fetching crypto data:  51%|█████     | 82/162 [00:46<00:46,  1.73it/s]"
          ]
        },
        {
          "name": "stdout",
          "output_type": "stream",
          "text": [
            "Data for RENUSDT fetched successfully.\n"
          ]
        },
        {
          "name": "stderr",
          "output_type": "stream",
          "text": [
            "Fetching crypto data:  51%|█████     | 83/162 [00:46<00:45,  1.75it/s]"
          ]
        },
        {
          "name": "stdout",
          "output_type": "stream",
          "text": [
            "Data for CELRUSDT fetched successfully.\n"
          ]
        },
        {
          "name": "stderr",
          "output_type": "stream",
          "text": [
            "Fetching crypto data:  52%|█████▏    | 84/162 [00:47<00:44,  1.77it/s]"
          ]
        },
        {
          "name": "stdout",
          "output_type": "stream",
          "text": [
            "Data for SKLUSDT fetched successfully.\n"
          ]
        },
        {
          "name": "stderr",
          "output_type": "stream",
          "text": [
            "Fetching crypto data:  52%|█████▏    | 85/162 [00:47<00:43,  1.79it/s]"
          ]
        },
        {
          "name": "stdout",
          "output_type": "stream",
          "text": [
            "Data for VITEUSDT fetched successfully.\n"
          ]
        },
        {
          "name": "stderr",
          "output_type": "stream",
          "text": [
            "Fetching crypto data:  53%|█████▎    | 86/162 [00:48<00:42,  1.80it/s]"
          ]
        },
        {
          "name": "stdout",
          "output_type": "stream",
          "text": [
            "Data for WAXPUSDT fetched successfully.\n"
          ]
        },
        {
          "name": "stderr",
          "output_type": "stream",
          "text": [
            "Fetching crypto data:  54%|█████▎    | 87/162 [00:48<00:41,  1.80it/s]"
          ]
        },
        {
          "name": "stdout",
          "output_type": "stream",
          "text": [
            "Data for LTOUSDT fetched successfully.\n"
          ]
        },
        {
          "name": "stderr",
          "output_type": "stream",
          "text": [
            "Fetching crypto data:  54%|█████▍    | 88/162 [00:49<00:41,  1.80it/s]"
          ]
        },
        {
          "name": "stdout",
          "output_type": "stream",
          "text": [
            "Data for FETUSDT fetched successfully.\n"
          ]
        },
        {
          "name": "stderr",
          "output_type": "stream",
          "text": [
            "Fetching crypto data:  55%|█████▍    | 89/162 [00:49<00:40,  1.81it/s]"
          ]
        },
        {
          "name": "stdout",
          "output_type": "stream",
          "text": [
            "Data for LOKAUSDT fetched successfully.\n"
          ]
        },
        {
          "name": "stderr",
          "output_type": "stream",
          "text": [
            "Fetching crypto data:  56%|█████▌    | 90/162 [00:50<00:39,  1.81it/s]"
          ]
        },
        {
          "name": "stdout",
          "output_type": "stream",
          "text": [
            "Data for ICPUSDT fetched successfully.\n"
          ]
        },
        {
          "name": "stderr",
          "output_type": "stream",
          "text": [
            "Fetching crypto data:  56%|█████▌    | 91/162 [00:51<00:39,  1.80it/s]"
          ]
        },
        {
          "name": "stdout",
          "output_type": "stream",
          "text": [
            "Data for TUSDT fetched successfully.\n"
          ]
        },
        {
          "name": "stderr",
          "output_type": "stream",
          "text": [
            "Fetching crypto data:  57%|█████▋    | 92/162 [00:51<00:38,  1.81it/s]"
          ]
        },
        {
          "name": "stdout",
          "output_type": "stream",
          "text": [
            "Data for OPUSDT fetched successfully.\n"
          ]
        },
        {
          "name": "stderr",
          "output_type": "stream",
          "text": [
            "Fetching crypto data:  57%|█████▋    | 93/162 [00:52<00:37,  1.82it/s]"
          ]
        },
        {
          "name": "stdout",
          "output_type": "stream",
          "text": [
            "Data for ROSEUSDT fetched successfully.\n"
          ]
        },
        {
          "name": "stderr",
          "output_type": "stream",
          "text": [
            "Fetching crypto data:  58%|█████▊    | 94/162 [00:52<00:37,  1.82it/s]"
          ]
        },
        {
          "name": "stdout",
          "output_type": "stream",
          "text": [
            "Data for CELOUSDT fetched successfully.\n"
          ]
        },
        {
          "name": "stderr",
          "output_type": "stream",
          "text": [
            "Fetching crypto data:  59%|█████▊    | 95/162 [00:53<00:36,  1.81it/s]"
          ]
        },
        {
          "name": "stdout",
          "output_type": "stream",
          "text": [
            "Data for KDAUSDT fetched successfully.\n"
          ]
        },
        {
          "name": "stderr",
          "output_type": "stream",
          "text": [
            "Fetching crypto data:  59%|█████▉    | 96/162 [00:53<00:36,  1.82it/s]"
          ]
        },
        {
          "name": "stdout",
          "output_type": "stream",
          "text": [
            "Data for KSMUSDT fetched successfully.\n"
          ]
        },
        {
          "name": "stderr",
          "output_type": "stream",
          "text": [
            "Fetching crypto data:  60%|█████▉    | 97/162 [00:54<00:35,  1.82it/s]"
          ]
        },
        {
          "name": "stdout",
          "output_type": "stream",
          "text": [
            "Data for ACHUSDT fetched successfully.\n"
          ]
        },
        {
          "name": "stderr",
          "output_type": "stream",
          "text": [
            "Fetching crypto data:  60%|██████    | 98/162 [00:54<00:35,  1.82it/s]"
          ]
        },
        {
          "name": "stdout",
          "output_type": "stream",
          "text": [
            "Data for DARUSDT fetched successfully.\n"
          ]
        },
        {
          "name": "stderr",
          "output_type": "stream",
          "text": [
            "Fetching crypto data:  61%|██████    | 99/162 [00:55<00:34,  1.81it/s]"
          ]
        },
        {
          "name": "stdout",
          "output_type": "stream",
          "text": [
            "Data for SYSUSDT fetched successfully.\n"
          ]
        },
        {
          "name": "stderr",
          "output_type": "stream",
          "text": [
            "Fetching crypto data:  62%|██████▏   | 100/162 [00:56<00:35,  1.73it/s]"
          ]
        },
        {
          "name": "stdout",
          "output_type": "stream",
          "text": [
            "Data for RADUSDT fetched successfully.\n"
          ]
        },
        {
          "name": "stderr",
          "output_type": "stream",
          "text": [
            "Fetching crypto data:  62%|██████▏   | 101/162 [00:56<00:34,  1.74it/s]"
          ]
        },
        {
          "name": "stdout",
          "output_type": "stream",
          "text": [
            "Data for ILVUSDT fetched successfully.\n"
          ]
        },
        {
          "name": "stderr",
          "output_type": "stream",
          "text": [
            "Fetching crypto data:  63%|██████▎   | 102/162 [00:57<00:34,  1.76it/s]"
          ]
        },
        {
          "name": "stdout",
          "output_type": "stream",
          "text": [
            "Data for LDOUSDT fetched successfully.\n"
          ]
        },
        {
          "name": "stderr",
          "output_type": "stream",
          "text": [
            "Fetching crypto data:  64%|██████▎   | 103/162 [00:57<00:33,  1.77it/s]"
          ]
        },
        {
          "name": "stdout",
          "output_type": "stream",
          "text": [
            "Data for RAREUSDT fetched successfully.\n"
          ]
        },
        {
          "name": "stderr",
          "output_type": "stream",
          "text": [
            "Fetching crypto data:  64%|██████▍   | 104/162 [00:58<00:32,  1.79it/s]"
          ]
        },
        {
          "name": "stdout",
          "output_type": "stream",
          "text": [
            "Data for LSKUSDT fetched successfully.\n"
          ]
        },
        {
          "name": "stderr",
          "output_type": "stream",
          "text": [
            "Fetching crypto data:  65%|██████▍   | 105/162 [00:58<00:31,  1.79it/s]"
          ]
        },
        {
          "name": "stdout",
          "output_type": "stream",
          "text": [
            "Data for DGBUSDT fetched successfully.\n"
          ]
        },
        {
          "name": "stderr",
          "output_type": "stream",
          "text": [
            "Fetching crypto data:  65%|██████▌   | 106/162 [00:59<00:31,  1.80it/s]"
          ]
        },
        {
          "name": "stdout",
          "output_type": "stream",
          "text": [
            "Data for REEFUSDT fetched successfully.\n"
          ]
        },
        {
          "name": "stderr",
          "output_type": "stream",
          "text": [
            "Fetching crypto data:  66%|██████▌   | 107/162 [01:00<00:30,  1.80it/s]"
          ]
        },
        {
          "name": "stdout",
          "output_type": "stream",
          "text": [
            "Data for ALICEUSDT fetched successfully.\n"
          ]
        },
        {
          "name": "stderr",
          "output_type": "stream",
          "text": [
            "Fetching crypto data:  67%|██████▋   | 108/162 [01:00<00:29,  1.81it/s]"
          ]
        },
        {
          "name": "stdout",
          "output_type": "stream",
          "text": [
            "Data for FORTHUSDT fetched successfully.\n"
          ]
        },
        {
          "name": "stderr",
          "output_type": "stream",
          "text": [
            "Fetching crypto data:  67%|██████▋   | 109/162 [01:01<00:29,  1.81it/s]"
          ]
        },
        {
          "name": "stdout",
          "output_type": "stream",
          "text": [
            "Data for ASTRUSDT fetched successfully.\n"
          ]
        },
        {
          "name": "stderr",
          "output_type": "stream",
          "text": [
            "Fetching crypto data:  68%|██████▊   | 110/162 [01:01<00:28,  1.81it/s]"
          ]
        },
        {
          "name": "stdout",
          "output_type": "stream",
          "text": [
            "Data for BTRSTUSDT fetched successfully.\n"
          ]
        },
        {
          "name": "stderr",
          "output_type": "stream",
          "text": [
            "Fetching crypto data:  69%|██████▊   | 111/162 [01:02<00:28,  1.80it/s]"
          ]
        },
        {
          "name": "stdout",
          "output_type": "stream",
          "text": [
            "Data for SANDUSDT fetched successfully.\n"
          ]
        },
        {
          "name": "stderr",
          "output_type": "stream",
          "text": [
            "Fetching crypto data:  69%|██████▉   | 112/162 [01:02<00:27,  1.81it/s]"
          ]
        },
        {
          "name": "stdout",
          "output_type": "stream",
          "text": [
            "Data for BALUSDT fetched successfully.\n"
          ]
        },
        {
          "name": "stderr",
          "output_type": "stream",
          "text": [
            "Fetching crypto data:  70%|██████▉   | 113/162 [01:03<00:26,  1.82it/s]"
          ]
        },
        {
          "name": "stdout",
          "output_type": "stream",
          "text": [
            "Data for GLMUSDT fetched successfully.\n"
          ]
        },
        {
          "name": "stderr",
          "output_type": "stream",
          "text": [
            "Fetching crypto data:  70%|███████   | 114/162 [01:03<00:26,  1.80it/s]"
          ]
        },
        {
          "name": "stdout",
          "output_type": "stream",
          "text": [
            "Data for CLVUSDT fetched successfully.\n"
          ]
        },
        {
          "name": "stderr",
          "output_type": "stream",
          "text": [
            "Fetching crypto data:  71%|███████   | 115/162 [01:04<00:27,  1.70it/s]"
          ]
        },
        {
          "name": "stdout",
          "output_type": "stream",
          "text": [
            "Data for QNTUSDT fetched successfully.\n"
          ]
        },
        {
          "name": "stderr",
          "output_type": "stream",
          "text": [
            "Fetching crypto data:  72%|███████▏  | 116/162 [01:05<00:31,  1.47it/s]"
          ]
        },
        {
          "name": "stdout",
          "output_type": "stream",
          "text": [
            "Data for STGUSDT fetched successfully.\n"
          ]
        },
        {
          "name": "stderr",
          "output_type": "stream",
          "text": [
            "Fetching crypto data:  72%|███████▏  | 117/162 [01:06<00:33,  1.33it/s]"
          ]
        },
        {
          "name": "stdout",
          "output_type": "stream",
          "text": [
            "Data for AXLUSDT fetched successfully.\n"
          ]
        },
        {
          "name": "stderr",
          "output_type": "stream",
          "text": [
            "Fetching crypto data:  73%|███████▎  | 118/162 [01:07<00:37,  1.17it/s]"
          ]
        },
        {
          "name": "stdout",
          "output_type": "stream",
          "text": [
            "Data for KAVAUSDT fetched successfully.\n"
          ]
        },
        {
          "name": "stderr",
          "output_type": "stream",
          "text": [
            "Fetching crypto data:  73%|███████▎  | 119/162 [01:08<00:35,  1.23it/s]"
          ]
        },
        {
          "name": "stdout",
          "output_type": "stream",
          "text": [
            "Data for APTUSDT fetched successfully.\n"
          ]
        },
        {
          "name": "stderr",
          "output_type": "stream",
          "text": [
            "Fetching crypto data:  74%|███████▍  | 120/162 [01:08<00:31,  1.35it/s]"
          ]
        },
        {
          "name": "stdout",
          "output_type": "stream",
          "text": [
            "Data for MASKUSDT fetched successfully.\n"
          ]
        },
        {
          "name": "stderr",
          "output_type": "stream",
          "text": [
            "Fetching crypto data:  75%|███████▍  | 121/162 [01:09<00:28,  1.46it/s]"
          ]
        },
        {
          "name": "stdout",
          "output_type": "stream",
          "text": [
            "Data for BOSONUSDT fetched successfully.\n"
          ]
        },
        {
          "name": "stderr",
          "output_type": "stream",
          "text": [
            "Fetching crypto data:  75%|███████▌  | 122/162 [01:09<00:25,  1.55it/s]"
          ]
        },
        {
          "name": "stdout",
          "output_type": "stream",
          "text": [
            "Data for PONDUSDT fetched successfully.\n"
          ]
        },
        {
          "name": "stderr",
          "output_type": "stream",
          "text": [
            "Fetching crypto data:  76%|███████▌  | 123/162 [01:10<00:24,  1.61it/s]"
          ]
        },
        {
          "name": "stdout",
          "output_type": "stream",
          "text": [
            "Data for MXCUSDT fetched successfully.\n"
          ]
        },
        {
          "name": "stderr",
          "output_type": "stream",
          "text": [
            "Fetching crypto data:  77%|███████▋  | 124/162 [01:10<00:22,  1.66it/s]"
          ]
        },
        {
          "name": "stdout",
          "output_type": "stream",
          "text": [
            "Data for JAMUSDT fetched successfully.\n"
          ]
        },
        {
          "name": "stderr",
          "output_type": "stream",
          "text": [
            "Fetching crypto data:  77%|███████▋  | 125/162 [01:11<00:21,  1.70it/s]"
          ]
        },
        {
          "name": "stdout",
          "output_type": "stream",
          "text": [
            "Data for TRACUSDT fetched successfully.\n"
          ]
        },
        {
          "name": "stderr",
          "output_type": "stream",
          "text": [
            "Fetching crypto data:  78%|███████▊  | 126/162 [01:12<00:20,  1.73it/s]"
          ]
        },
        {
          "name": "stdout",
          "output_type": "stream",
          "text": [
            "Data for PROMUSDT fetched successfully.\n"
          ]
        },
        {
          "name": "stderr",
          "output_type": "stream",
          "text": [
            "Fetching crypto data:  78%|███████▊  | 127/162 [01:12<00:19,  1.75it/s]"
          ]
        },
        {
          "name": "stdout",
          "output_type": "stream",
          "text": [
            "Data for DIAUSDT fetched successfully.\n"
          ]
        },
        {
          "name": "stderr",
          "output_type": "stream",
          "text": [
            "Fetching crypto data:  79%|███████▉  | 128/162 [01:13<00:19,  1.76it/s]"
          ]
        },
        {
          "name": "stdout",
          "output_type": "stream",
          "text": [
            "Data for LOOMUSDT fetched successfully.\n"
          ]
        },
        {
          "name": "stderr",
          "output_type": "stream",
          "text": [
            "Fetching crypto data:  80%|███████▉  | 129/162 [01:13<00:18,  1.77it/s]"
          ]
        },
        {
          "name": "stdout",
          "output_type": "stream",
          "text": [
            "Data for STMXUSDT fetched successfully.\n"
          ]
        },
        {
          "name": "stderr",
          "output_type": "stream",
          "text": [
            "Fetching crypto data:  80%|████████  | 130/162 [01:14<00:18,  1.77it/s]"
          ]
        },
        {
          "name": "stdout",
          "output_type": "stream",
          "text": [
            "Data for POLYXUSDT fetched successfully.\n"
          ]
        },
        {
          "name": "stderr",
          "output_type": "stream",
          "text": [
            "Fetching crypto data:  81%|████████  | 131/162 [01:14<00:17,  1.79it/s]"
          ]
        },
        {
          "name": "stdout",
          "output_type": "stream",
          "text": [
            "Data for IOSTUSDT fetched successfully.\n"
          ]
        },
        {
          "name": "stderr",
          "output_type": "stream",
          "text": [
            "Fetching crypto data:  81%|████████▏ | 132/162 [01:15<00:16,  1.78it/s]"
          ]
        },
        {
          "name": "stdout",
          "output_type": "stream",
          "text": [
            "Data for ARBUSDT fetched successfully.\n"
          ]
        },
        {
          "name": "stderr",
          "output_type": "stream",
          "text": [
            "Fetching crypto data:  82%|████████▏ | 133/162 [01:15<00:16,  1.79it/s]"
          ]
        },
        {
          "name": "stdout",
          "output_type": "stream",
          "text": [
            "Data for FLOKIUSDT fetched successfully.\n"
          ]
        },
        {
          "name": "stderr",
          "output_type": "stream",
          "text": [
            "Fetching crypto data:  83%|████████▎ | 134/162 [01:16<00:16,  1.73it/s]"
          ]
        },
        {
          "name": "stdout",
          "output_type": "stream",
          "text": [
            "Data for XECUSDT fetched successfully.\n"
          ]
        },
        {
          "name": "stderr",
          "output_type": "stream",
          "text": [
            "Fetching crypto data:  83%|████████▎ | 135/162 [01:17<00:15,  1.76it/s]"
          ]
        },
        {
          "name": "stdout",
          "output_type": "stream",
          "text": [
            "Data for BLURUSDT fetched successfully.\n"
          ]
        },
        {
          "name": "stderr",
          "output_type": "stream",
          "text": [
            "Fetching crypto data:  84%|████████▍ | 136/162 [01:17<00:14,  1.78it/s]"
          ]
        },
        {
          "name": "stdout",
          "output_type": "stream",
          "text": [
            "Data for ANKRUSDT fetched successfully.\n"
          ]
        },
        {
          "name": "stderr",
          "output_type": "stream",
          "text": [
            "Fetching crypto data:  85%|████████▍ | 137/162 [01:18<00:14,  1.78it/s]"
          ]
        },
        {
          "name": "stdout",
          "output_type": "stream",
          "text": [
            "Data for DAIUSDT fetched successfully.\n"
          ]
        },
        {
          "name": "stderr",
          "output_type": "stream",
          "text": [
            "Fetching crypto data:  85%|████████▌ | 138/162 [01:18<00:13,  1.78it/s]"
          ]
        },
        {
          "name": "stdout",
          "output_type": "stream",
          "text": [
            "Data for DASHUSDT fetched successfully.\n"
          ]
        },
        {
          "name": "stderr",
          "output_type": "stream",
          "text": [
            "Fetching crypto data:  86%|████████▌ | 139/162 [01:19<00:12,  1.79it/s]"
          ]
        },
        {
          "name": "stdout",
          "output_type": "stream",
          "text": [
            "Data for HBARUSDT fetched successfully.\n"
          ]
        },
        {
          "name": "stderr",
          "output_type": "stream",
          "text": [
            "Fetching crypto data:  86%|████████▋ | 140/162 [01:19<00:12,  1.80it/s]"
          ]
        },
        {
          "name": "stdout",
          "output_type": "stream",
          "text": [
            "Data for ICXUSDT fetched successfully.\n"
          ]
        },
        {
          "name": "stderr",
          "output_type": "stream",
          "text": [
            "Fetching crypto data:  87%|████████▋ | 141/162 [01:20<00:11,  1.80it/s]"
          ]
        },
        {
          "name": "stdout",
          "output_type": "stream",
          "text": [
            "Data for IOTAUSDT fetched successfully.\n"
          ]
        },
        {
          "name": "stderr",
          "output_type": "stream",
          "text": [
            "Fetching crypto data:  88%|████████▊ | 142/162 [01:21<00:11,  1.80it/s]"
          ]
        },
        {
          "name": "stdout",
          "output_type": "stream",
          "text": [
            "Data for RVNUSDT fetched successfully.\n"
          ]
        },
        {
          "name": "stderr",
          "output_type": "stream",
          "text": [
            "Fetching crypto data:  88%|████████▊ | 143/162 [01:21<00:10,  1.81it/s]"
          ]
        },
        {
          "name": "stdout",
          "output_type": "stream",
          "text": [
            "Data for XNOUSDT fetched successfully.\n"
          ]
        },
        {
          "name": "stderr",
          "output_type": "stream",
          "text": [
            "Fetching crypto data:  89%|████████▉ | 144/162 [01:22<00:09,  1.81it/s]"
          ]
        },
        {
          "name": "stdout",
          "output_type": "stream",
          "text": [
            "Data for XTZUSDT fetched successfully.\n"
          ]
        },
        {
          "name": "stderr",
          "output_type": "stream",
          "text": [
            "Fetching crypto data:  90%|████████▉ | 145/162 [01:22<00:09,  1.82it/s]"
          ]
        },
        {
          "name": "stdout",
          "output_type": "stream",
          "text": [
            "Data for ZILUSDT fetched successfully.\n"
          ]
        },
        {
          "name": "stderr",
          "output_type": "stream",
          "text": [
            "Fetching crypto data:  90%|█████████ | 146/162 [01:23<00:08,  1.82it/s]"
          ]
        },
        {
          "name": "stdout",
          "output_type": "stream",
          "text": [
            "Data for ORBSUSDT fetched successfully.\n"
          ]
        },
        {
          "name": "stderr",
          "output_type": "stream",
          "text": [
            "Fetching crypto data:  91%|█████████ | 147/162 [01:23<00:08,  1.80it/s]"
          ]
        },
        {
          "name": "stdout",
          "output_type": "stream",
          "text": [
            "Data for ADXUSDT fetched successfully.\n"
          ]
        },
        {
          "name": "stderr",
          "output_type": "stream",
          "text": [
            "Fetching crypto data:  91%|█████████▏| 148/162 [01:24<00:07,  1.80it/s]"
          ]
        },
        {
          "name": "stdout",
          "output_type": "stream",
          "text": [
            "Data for FORTUSDT fetched successfully.\n"
          ]
        },
        {
          "name": "stderr",
          "output_type": "stream",
          "text": [
            "Fetching crypto data:  92%|█████████▏| 149/162 [01:24<00:07,  1.81it/s]"
          ]
        },
        {
          "name": "stdout",
          "output_type": "stream",
          "text": [
            "Data for SUIUSDT fetched successfully.\n"
          ]
        },
        {
          "name": "stderr",
          "output_type": "stream",
          "text": [
            "Fetching crypto data:  93%|█████████▎| 150/162 [01:25<00:06,  1.81it/s]"
          ]
        },
        {
          "name": "stdout",
          "output_type": "stream",
          "text": [
            "Data for ONGUSDT fetched successfully.\n"
          ]
        },
        {
          "name": "stderr",
          "output_type": "stream",
          "text": [
            "Fetching crypto data:  93%|█████████▎| 151/162 [01:25<00:06,  1.83it/s]"
          ]
        },
        {
          "name": "stdout",
          "output_type": "stream",
          "text": [
            "Data for GUSDT fetched successfully.\n"
          ]
        },
        {
          "name": "stderr",
          "output_type": "stream",
          "text": [
            "Fetching crypto data:  94%|█████████▍| 152/162 [01:26<00:05,  1.75it/s]"
          ]
        },
        {
          "name": "stdout",
          "output_type": "stream",
          "text": [
            "Data for RENDERUSDT fetched successfully.\n"
          ]
        },
        {
          "name": "stderr",
          "output_type": "stream",
          "text": [
            "Fetching crypto data:  94%|█████████▍| 153/162 [01:27<00:05,  1.78it/s]"
          ]
        },
        {
          "name": "stdout",
          "output_type": "stream",
          "text": [
            "Data for BONKUSDT fetched successfully.\n"
          ]
        },
        {
          "name": "stderr",
          "output_type": "stream",
          "text": [
            "Fetching crypto data:  95%|█████████▌| 154/162 [01:27<00:04,  1.80it/s]"
          ]
        },
        {
          "name": "stdout",
          "output_type": "stream",
          "text": [
            "Data for MAGICUSDT fetched successfully.\n"
          ]
        },
        {
          "name": "stderr",
          "output_type": "stream",
          "text": [
            "Fetching crypto data:  96%|█████████▌| 155/162 [01:28<00:03,  1.82it/s]"
          ]
        },
        {
          "name": "stdout",
          "output_type": "stream",
          "text": [
            "Data for PEPEUSDT fetched successfully.\n"
          ]
        },
        {
          "name": "stderr",
          "output_type": "stream",
          "text": [
            "Fetching crypto data:  96%|█████████▋| 156/162 [01:28<00:03,  1.83it/s]"
          ]
        },
        {
          "name": "stdout",
          "output_type": "stream",
          "text": [
            "Data for WIFUSDT fetched successfully.\n"
          ]
        },
        {
          "name": "stderr",
          "output_type": "stream",
          "text": [
            "Fetching crypto data:  97%|█████████▋| 157/162 [01:29<00:02,  1.84it/s]"
          ]
        },
        {
          "name": "stdout",
          "output_type": "stream",
          "text": [
            "Data for IOTXUSDT fetched successfully.\n"
          ]
        },
        {
          "name": "stderr",
          "output_type": "stream",
          "text": [
            "Fetching crypto data:  98%|█████████▊| 158/162 [01:29<00:02,  1.86it/s]"
          ]
        },
        {
          "name": "stdout",
          "output_type": "stream",
          "text": [
            "Data for PNUTUSDT fetched successfully.\n"
          ]
        },
        {
          "name": "stderr",
          "output_type": "stream",
          "text": [
            "Fetching crypto data:  98%|█████████▊| 159/162 [01:30<00:01,  1.87it/s]"
          ]
        },
        {
          "name": "stdout",
          "output_type": "stream",
          "text": [
            "Data for PENGUUSDT fetched successfully.\n"
          ]
        },
        {
          "name": "stderr",
          "output_type": "stream",
          "text": [
            "Fetching crypto data:  99%|█████████▉| 160/162 [01:30<00:01,  1.87it/s]"
          ]
        },
        {
          "name": "stdout",
          "output_type": "stream",
          "text": [
            "Data for POLUSDT fetched successfully.\n"
          ]
        },
        {
          "name": "stderr",
          "output_type": "stream",
          "text": [
            "Fetching crypto data:  99%|█████████▉| 161/162 [01:31<00:00,  1.87it/s]"
          ]
        },
        {
          "name": "stdout",
          "output_type": "stream",
          "text": [
            "Data for TRUMPUSDT fetched successfully.\n"
          ]
        },
        {
          "name": "stderr",
          "output_type": "stream",
          "text": [
            "Fetching crypto data: 100%|██████████| 162/162 [01:31<00:00,  1.76it/s]"
          ]
        },
        {
          "name": "stdout",
          "output_type": "stream",
          "text": [
            "Data for NEIROUSDT fetched successfully.\n",
            "Master parquet file saved as 'master_crypto_data.parquet'\n"
          ]
        },
        {
          "name": "stderr",
          "output_type": "stream",
          "text": [
            "\n"
          ]
        }
      ],
      "source": [
        "all_data = []\n",
        "for ticker in tqdm(active_usdt_tickers, desc=\"Fetching crypto data\"):\n",
        "    try:\n",
        "        cleaned_ticker = ticker.replace('/', '')\n",
        "        df = fetch_data(cleaned_ticker, start_date, end_date, interval)\n",
        "        all_data.append(df)\n",
        "        print(f\"Data for {cleaned_ticker} fetched successfully.\")\n",
        "    except Exception as e:\n",
        "        print(f\"Error fetching data for {ticker}: {e}\")\n",
        "\n",
        "# Concatenate all the DataFrames into one master DataFrame\n",
        "master_data = pd.concat(all_data, ignore_index=True)\n",
        "\n",
        "# Save the master DataFrame to a Parquet file\n",
        "master_data.to_parquet(\"master_crypto_data.parquet\", index=False)\n",
        "print(\"Master parquet file saved as 'master_crypto_data.parquet'\")"
      ]
    },
    {
      "cell_type": "code",
      "execution_count": 8,
      "metadata": {
        "id": "4mu73s_OtXMO"
      },
      "outputs": [
        {
          "data": {
            "application/vnd.microsoft.datawrangler.viewer.v0+json": {
              "columns": [
                {
                  "name": "index",
                  "rawType": "int64",
                  "type": "integer"
                },
                {
                  "name": "Open time",
                  "rawType": "datetime64[ns, UTC]",
                  "type": "unknown"
                },
                {
                  "name": "Open",
                  "rawType": "object",
                  "type": "string"
                },
                {
                  "name": "High",
                  "rawType": "object",
                  "type": "string"
                },
                {
                  "name": "Low",
                  "rawType": "object",
                  "type": "string"
                },
                {
                  "name": "Close",
                  "rawType": "object",
                  "type": "string"
                },
                {
                  "name": "Volume",
                  "rawType": "object",
                  "type": "string"
                },
                {
                  "name": "Close time",
                  "rawType": "object",
                  "type": "string"
                },
                {
                  "name": "Quote asset volume",
                  "rawType": "object",
                  "type": "string"
                },
                {
                  "name": "Number of trades",
                  "rawType": "object",
                  "type": "string"
                },
                {
                  "name": "Taker buy base asset volume",
                  "rawType": "object",
                  "type": "string"
                },
                {
                  "name": "Taker buy quote asset volume",
                  "rawType": "object",
                  "type": "string"
                },
                {
                  "name": "Ignore",
                  "rawType": "object",
                  "type": "string"
                },
                {
                  "name": "Ticker",
                  "rawType": "object",
                  "type": "string"
                }
              ],
              "conversionMethod": "pd.DataFrame",
              "ref": "04fdf51d-8995-47c6-b9e6-572bae36c016",
              "rows": [
                [
                  "0",
                  "2019-09-23 00:00:00+00:00",
                  "9930.13000000",
                  "9930.13000000",
                  "9930.13000000",
                  "9930.13000000",
                  "0.00100000",
                  "1569283199999",
                  "9.93013000",
                  "1",
                  "0.00000000",
                  "0.00000000",
                  "0",
                  "BTCUSDT"
                ],
                [
                  "1",
                  "2019-09-24 00:00:00+00:00",
                  "9637.93000000",
                  "9665.05000000",
                  "7996.45000000",
                  "8519.67000000",
                  "202.35079900",
                  "1569369599999",
                  "1739432.08920509",
                  "2345",
                  "125.93546400",
                  "1075623.60280331",
                  "0",
                  "BTCUSDT"
                ],
                [
                  "2",
                  "2019-09-25 00:00:00+00:00",
                  "8528.12000000",
                  "8724.77000000",
                  "8247.78000000",
                  "8435.28000000",
                  "55.41797100",
                  "1569455999999",
                  "469361.69055629",
                  "763",
                  "29.05942700",
                  "246049.20514584",
                  "0",
                  "BTCUSDT"
                ],
                [
                  "3",
                  "2019-09-26 00:00:00+00:00",
                  "8434.45000000",
                  "8453.20000000",
                  "7761.87000000",
                  "8064.41000000",
                  "41.88007900",
                  "1569542399999",
                  "340923.66601370",
                  "1023",
                  "19.80884900",
                  "161115.44149782",
                  "0",
                  "BTCUSDT"
                ],
                [
                  "4",
                  "2019-09-27 00:00:00+00:00",
                  "8078.75000000",
                  "8259.96000000",
                  "7858.58000000",
                  "8178.73000000",
                  "47.14290400",
                  "1569628799999",
                  "379917.99846542",
                  "990",
                  "23.90374200",
                  "192755.96772991",
                  "0",
                  "BTCUSDT"
                ],
                [
                  "5",
                  "2019-09-28 00:00:00+00:00",
                  "8199.40000000",
                  "8320.51000000",
                  "8020.00000000",
                  "8208.07000000",
                  "21.24093000",
                  "1569715199999",
                  "173568.97742342",
                  "496",
                  "10.32405200",
                  "84656.05711014",
                  "0",
                  "BTCUSDT"
                ],
                [
                  "6",
                  "2019-09-29 00:00:00+00:00",
                  "8210.66000000",
                  "8220.38000000",
                  "7916.90000000",
                  "8047.12000000",
                  "61.63917100",
                  "1569801599999",
                  "494973.45560305",
                  "948",
                  "34.51054500",
                  "277140.21139692",
                  "0",
                  "BTCUSDT"
                ],
                [
                  "7",
                  "2019-09-30 00:00:00+00:00",
                  "8058.25000000",
                  "8322.99000000",
                  "7744.23000000",
                  "8292.35000000",
                  "112.00992500",
                  "1569887999999",
                  "891845.06773714",
                  "1962",
                  "62.27053700",
                  "496178.56895482",
                  "0",
                  "BTCUSDT"
                ],
                [
                  "8",
                  "2019-10-01 00:00:00+00:00",
                  "8281.40000000",
                  "8498.23000000",
                  "8180.16000000",
                  "8295.63000000",
                  "49.86105800",
                  "1569974399999",
                  "416570.11959138",
                  "2161",
                  "29.27879900",
                  "244782.44224321",
                  "0",
                  "BTCUSDT"
                ],
                [
                  "9",
                  "2019-10-02 00:00:00+00:00",
                  "8305.00000000",
                  "8367.97000000",
                  "8154.37000000",
                  "8363.74000000",
                  "31.81465900",
                  "1570060799999",
                  "262180.72939107",
                  "1234",
                  "15.11769400",
                  "124692.67064253",
                  "0",
                  "BTCUSDT"
                ],
                [
                  "10",
                  "2019-10-03 00:00:00+00:00",
                  "8369.31000000",
                  "8386.65000000",
                  "8078.48000000",
                  "8222.19000000",
                  "40.65474600",
                  "1570147199999",
                  "333596.31665500",
                  "1701",
                  "23.55051500",
                  "193367.76476174",
                  "0",
                  "BTCUSDT"
                ],
                [
                  "11",
                  "2019-10-04 00:00:00+00:00",
                  "8227.57000000",
                  "8232.85000000",
                  "8005.25000000",
                  "8144.09000000",
                  "39.38286000",
                  "1570233599999",
                  "320004.18044125",
                  "1233",
                  "20.86217700",
                  "169500.17550274",
                  "0",
                  "BTCUSDT"
                ],
                [
                  "12",
                  "2019-10-05 00:00:00+00:00",
                  "8134.38000000",
                  "8179.58000000",
                  "8015.49000000",
                  "8128.65000000",
                  "25.41557000",
                  "1570319999999",
                  "205823.36127318",
                  "1245",
                  "14.70747800",
                  "119184.14128119",
                  "0",
                  "BTCUSDT"
                ],
                [
                  "13",
                  "2019-10-06 00:00:00+00:00",
                  "8128.65000000",
                  "8148.88000000",
                  "7801.00000000",
                  "7866.87000000",
                  "75.42562500",
                  "1570406399999",
                  "599535.45869842",
                  "3231",
                  "50.41289900",
                  "401058.22074168",
                  "0",
                  "BTCUSDT"
                ],
                [
                  "14",
                  "2019-10-07 00:00:00+00:00",
                  "7860.25000000",
                  "8289.00000000",
                  "7772.14000000",
                  "8191.94000000",
                  "78.87099100",
                  "1570492799999",
                  "636845.13444829",
                  "3269",
                  "46.64743800",
                  "376728.87649681",
                  "0",
                  "BTCUSDT"
                ],
                [
                  "15",
                  "2019-10-08 00:00:00+00:00",
                  "8205.09000000",
                  "8322.42000000",
                  "8110.40000000",
                  "8180.70000000",
                  "39.12943700",
                  "1570579199999",
                  "321503.51173388",
                  "2675",
                  "19.89173600",
                  "163512.40047855",
                  "0",
                  "BTCUSDT"
                ],
                [
                  "16",
                  "2019-10-09 00:00:00+00:00",
                  "8178.47000000",
                  "8662.01000000",
                  "8118.67000000",
                  "8570.80000000",
                  "96.56841300",
                  "1570665599999",
                  "813315.06259061",
                  "2699",
                  "56.38560700",
                  "474628.06147357",
                  "0",
                  "BTCUSDT"
                ],
                [
                  "17",
                  "2019-10-10 00:00:00+00:00",
                  "8565.75000000",
                  "8640.58000000",
                  "8439.36000000",
                  "8559.93000000",
                  "32.78393100",
                  "1570751999999",
                  "279838.69342647",
                  "1943",
                  "18.49511200",
                  "157892.36517103",
                  "0",
                  "BTCUSDT"
                ],
                [
                  "18",
                  "2019-10-11 00:00:00+00:00",
                  "8560.99000000",
                  "8772.46000000",
                  "8229.29000000",
                  "8266.17000000",
                  "139.98570700",
                  "1570838399999",
                  "1178344.21789729",
                  "3853",
                  "52.85410000",
                  "444745.89847588",
                  "0",
                  "BTCUSDT"
                ],
                [
                  "19",
                  "2019-10-12 00:00:00+00:00",
                  "8255.24000000",
                  "8394.78000000",
                  "8251.15000000",
                  "8299.85000000",
                  "32.49063600",
                  "1570924799999",
                  "270637.65277847",
                  "2233",
                  "15.20191500",
                  "126691.95504890",
                  "0",
                  "BTCUSDT"
                ],
                [
                  "20",
                  "2019-10-13 00:00:00+00:00",
                  "8294.16000000",
                  "8448.70000000",
                  "8166.51000000",
                  "8276.97000000",
                  "55.02971300",
                  "1571011199999",
                  "458081.41535874",
                  "3333",
                  "22.79911100",
                  "189703.75268227",
                  "0",
                  "BTCUSDT"
                ],
                [
                  "21",
                  "2019-10-14 00:00:00+00:00",
                  "8273.46000000",
                  "8371.24000000",
                  "8213.40000000",
                  "8349.00000000",
                  "69.94840100",
                  "1571097599999",
                  "581266.59770039",
                  "3951",
                  "36.61410600",
                  "304361.26180869",
                  "0",
                  "BTCUSDT"
                ],
                [
                  "22",
                  "2019-10-15 00:00:00+00:00",
                  "8349.91000000",
                  "8400.92000000",
                  "8118.69000000",
                  "8163.48000000",
                  "99.70625100",
                  "1571183999999",
                  "823402.74412029",
                  "5616",
                  "42.64442700",
                  "351998.83144389",
                  "0",
                  "BTCUSDT"
                ],
                [
                  "23",
                  "2019-10-16 00:00:00+00:00",
                  "8162.08000000",
                  "8179.74000000",
                  "7922.44000000",
                  "7995.35000000",
                  "75.48853300",
                  "1571270399999",
                  "607094.59362146",
                  "4824",
                  "37.33981900",
                  "299700.05208269",
                  "0",
                  "BTCUSDT"
                ],
                [
                  "24",
                  "2019-10-17 00:00:00+00:00",
                  "7995.35000000",
                  "8122.45000000",
                  "7932.65000000",
                  "8073.01000000",
                  "93.71218900",
                  "1571356799999",
                  "752913.11633037",
                  "4255",
                  "57.42454700",
                  "461191.97380116",
                  "0",
                  "BTCUSDT"
                ],
                [
                  "25",
                  "2019-10-18 00:00:00+00:00",
                  "8070.24000000",
                  "8115.37000000",
                  "7825.00000000",
                  "7946.04000000",
                  "78.63839900",
                  "1571443199999",
                  "624699.12362478",
                  "4046",
                  "37.96056100",
                  "301071.49315069",
                  "0",
                  "BTCUSDT"
                ],
                [
                  "26",
                  "2019-10-19 00:00:00+00:00",
                  "7947.23000000",
                  "8080.03000000",
                  "7879.66000000",
                  "7956.07000000",
                  "76.47045500",
                  "1571529599999",
                  "608110.60451852",
                  "3517",
                  "39.64724100",
                  "315125.65301402",
                  "0",
                  "BTCUSDT"
                ],
                [
                  "27",
                  "2019-10-20 00:00:00+00:00",
                  "7952.67000000",
                  "8288.14000000",
                  "7875.62000000",
                  "8220.22000000",
                  "131.60787900",
                  "1571615999999",
                  "1064589.01753644",
                  "3703",
                  "71.50479000",
                  "578713.08782109",
                  "0",
                  "BTCUSDT"
                ],
                [
                  "28",
                  "2019-10-21 00:00:00+00:00",
                  "8222.00000000",
                  "8324.66000000",
                  "8150.01000000",
                  "8200.03000000",
                  "119.36608000",
                  "1571702399999",
                  "979652.16921265",
                  "5193",
                  "38.59371200",
                  "316946.38379537",
                  "0",
                  "BTCUSDT"
                ],
                [
                  "29",
                  "2019-10-22 00:00:00+00:00",
                  "8196.41000000",
                  "8294.04000000",
                  "8000.72000000",
                  "8017.72000000",
                  "142.97690400",
                  "1571788799999",
                  "1166647.86103391",
                  "9136",
                  "49.22583800",
                  "401359.88489806",
                  "0",
                  "BTCUSDT"
                ],
                [
                  "30",
                  "2019-10-23 00:00:00+00:00",
                  "8015.96000000",
                  "8044.28000000",
                  "7310.24000000",
                  "7466.85000000",
                  "273.91875100",
                  "1571875199999",
                  "2095334.09109610",
                  "20104",
                  "131.52259400",
                  "1003683.02055252",
                  "0",
                  "BTCUSDT"
                ],
                [
                  "31",
                  "2019-10-24 00:00:00+00:00",
                  "7466.85000000",
                  "7492.37000000",
                  "7341.62000000",
                  "7415.47000000",
                  "225.29830600",
                  "1571961599999",
                  "1675678.46299171",
                  "31374",
                  "118.78662500",
                  "883667.52446328",
                  "0",
                  "BTCUSDT"
                ],
                [
                  "32",
                  "2019-10-25 00:00:00+00:00",
                  "7415.47000000",
                  "8776.60000000",
                  "7377.73000000",
                  "8653.66000000",
                  "382.33581500",
                  "1572047999999",
                  "3116726.46044756",
                  "29944",
                  "201.17343900",
                  "1639572.60773808",
                  "0",
                  "BTCUSDT"
                ],
                [
                  "33",
                  "2019-10-26 00:00:00+00:00",
                  "8655.50000000",
                  "10352.43000000",
                  "8637.01000000",
                  "9231.81000000",
                  "650.19120600",
                  "1572134399999",
                  "6050911.79658938",
                  "34348",
                  "348.52169200",
                  "3241112.36381170",
                  "0",
                  "BTCUSDT"
                ],
                [
                  "34",
                  "2019-10-27 00:00:00+00:00",
                  "9232.69000000",
                  "9787.69000000",
                  "9077.85000000",
                  "9530.88000000",
                  "429.57398600",
                  "1572220799999",
                  "4069848.38341850",
                  "19880",
                  "241.74720700",
                  "2287894.28994853",
                  "0",
                  "BTCUSDT"
                ],
                [
                  "35",
                  "2019-10-28 00:00:00+00:00",
                  "9528.62000000",
                  "9901.97000000",
                  "9182.33000000",
                  "9198.09000000",
                  "343.19683200",
                  "1572307199999",
                  "3259641.60476431",
                  "18065",
                  "191.27898600",
                  "1815633.99949468",
                  "0",
                  "BTCUSDT"
                ],
                [
                  "36",
                  "2019-10-29 00:00:00+00:00",
                  "9202.96000000",
                  "9533.79000000",
                  "9094.14000000",
                  "9408.43000000",
                  "280.98940100",
                  "1572393599999",
                  "2631042.96725867",
                  "15470",
                  "159.41595600",
                  "1492130.13999868",
                  "0",
                  "BTCUSDT"
                ],
                [
                  "37",
                  "2019-10-30 00:00:00+00:00",
                  "9407.96000000",
                  "9407.96000000",
                  "9004.51000000",
                  "9154.99000000",
                  "195.55721300",
                  "1572479999999",
                  "1800252.64242166",
                  "11223",
                  "105.75267100",
                  "973401.94345740",
                  "0",
                  "BTCUSDT"
                ],
                [
                  "38",
                  "2019-10-31 00:00:00+00:00",
                  "9168.24000000",
                  "9400.00000000",
                  "8950.81000000",
                  "9142.65000000",
                  "181.57894600",
                  "1572566399999",
                  "1664277.57726746",
                  "12126",
                  "102.01959500",
                  "935206.01646072",
                  "0",
                  "BTCUSDT"
                ],
                [
                  "39",
                  "2019-11-01 00:00:00+00:00",
                  "9141.77000000",
                  "9270.25000000",
                  "9041.97000000",
                  "9230.40000000",
                  "97.20158800",
                  "1572652799999",
                  "888572.86388654",
                  "3350",
                  "55.25887000",
                  "505109.06845709",
                  "0",
                  "BTCUSDT"
                ],
                [
                  "40",
                  "2019-11-02 00:00:00+00:00",
                  "9237.70000000",
                  "9366.42000000",
                  "9191.84000000",
                  "9288.85000000",
                  "66.07628900",
                  "1572739199999",
                  "612133.16820494",
                  "838",
                  "31.73491200",
                  "293399.07896024",
                  "0",
                  "BTCUSDT"
                ],
                [
                  "41",
                  "2019-11-03 00:00:00+00:00",
                  "9320.52000000",
                  "9361.62000000",
                  "9069.38000000",
                  "9203.46000000",
                  "34.50987300",
                  "1572825599999",
                  "317655.37227640",
                  "648",
                  "17.42543200",
                  "160078.74897278",
                  "0",
                  "BTCUSDT"
                ],
                [
                  "42",
                  "2019-11-04 00:00:00+00:00",
                  "9199.90000000",
                  "9505.13000000",
                  "9119.48000000",
                  "9391.41000000",
                  "52.79323800",
                  "1572911999999",
                  "493677.14722027",
                  "1270",
                  "29.74122800",
                  "278692.97879966",
                  "0",
                  "BTCUSDT"
                ],
                [
                  "43",
                  "2019-11-05 00:00:00+00:00",
                  "9395.14000000",
                  "9454.72000000",
                  "9180.44000000",
                  "9301.49000000",
                  "54.87311900",
                  "1572998399999",
                  "510763.92518866",
                  "1444",
                  "29.01136100",
                  "270000.57910356",
                  "0",
                  "BTCUSDT"
                ],
                [
                  "44",
                  "2019-11-06 00:00:00+00:00",
                  "9308.69000000",
                  "9429.60000000",
                  "9255.24000000",
                  "9346.85000000",
                  "34.74628700",
                  "1573084799999",
                  "324379.51355804",
                  "1182",
                  "20.19029700",
                  "188500.10381807",
                  "0",
                  "BTCUSDT"
                ],
                [
                  "45",
                  "2019-11-07 00:00:00+00:00",
                  "9342.01000000",
                  "9371.03000000",
                  "9115.87000000",
                  "9210.10000000",
                  "67.72128400",
                  "1573171199999",
                  "625098.13021920",
                  "1586",
                  "34.09519300",
                  "314758.32125097",
                  "0",
                  "BTCUSDT"
                ],
                [
                  "46",
                  "2019-11-08 00:00:00+00:00",
                  "9207.76000000",
                  "9253.18000000",
                  "8697.25000000",
                  "8781.14000000",
                  "142.73894400",
                  "1573257599999",
                  "1273558.28362499",
                  "3291",
                  "73.91460900",
                  "659939.56989516",
                  "0",
                  "BTCUSDT"
                ],
                [
                  "47",
                  "2019-11-09 00:00:00+00:00",
                  "8773.61000000",
                  "8875.14000000",
                  "8729.97000000",
                  "8810.15000000",
                  "50.22950200",
                  "1573343999999",
                  "441587.36474185",
                  "1362",
                  "27.15569300",
                  "238862.70917468",
                  "0",
                  "BTCUSDT"
                ],
                [
                  "48",
                  "2019-11-10 00:00:00+00:00",
                  "8802.19000000",
                  "9137.31000000",
                  "8759.48000000",
                  "9039.30000000",
                  "85.36880500",
                  "1573430399999",
                  "765871.42736210",
                  "1777",
                  "53.98039100",
                  "484747.04356937",
                  "0",
                  "BTCUSDT"
                ],
                [
                  "49",
                  "2019-11-11 00:00:00+00:00",
                  "9044.51000000",
                  "9065.80000000",
                  "8624.44000000",
                  "8731.92000000",
                  "74.45917500",
                  "1573516799999",
                  "653915.52796066",
                  "1823",
                  "42.60128600",
                  "373976.46935009",
                  "0",
                  "BTCUSDT"
                ]
              ],
              "shape": {
                "columns": 13,
                "rows": 66551
              }
            },
            "text/html": [
              "<div>\n",
              "<style scoped>\n",
              "    .dataframe tbody tr th:only-of-type {\n",
              "        vertical-align: middle;\n",
              "    }\n",
              "\n",
              "    .dataframe tbody tr th {\n",
              "        vertical-align: top;\n",
              "    }\n",
              "\n",
              "    .dataframe thead th {\n",
              "        text-align: right;\n",
              "    }\n",
              "</style>\n",
              "<table border=\"1\" class=\"dataframe\">\n",
              "  <thead>\n",
              "    <tr style=\"text-align: right;\">\n",
              "      <th></th>\n",
              "      <th>Open time</th>\n",
              "      <th>Open</th>\n",
              "      <th>High</th>\n",
              "      <th>Low</th>\n",
              "      <th>Close</th>\n",
              "      <th>Volume</th>\n",
              "      <th>Close time</th>\n",
              "      <th>Quote asset volume</th>\n",
              "      <th>Number of trades</th>\n",
              "      <th>Taker buy base asset volume</th>\n",
              "      <th>Taker buy quote asset volume</th>\n",
              "      <th>Ignore</th>\n",
              "      <th>Ticker</th>\n",
              "    </tr>\n",
              "  </thead>\n",
              "  <tbody>\n",
              "    <tr>\n",
              "      <th>0</th>\n",
              "      <td>2019-09-23 00:00:00+00:00</td>\n",
              "      <td>9930.13000000</td>\n",
              "      <td>9930.13000000</td>\n",
              "      <td>9930.13000000</td>\n",
              "      <td>9930.13000000</td>\n",
              "      <td>0.00100000</td>\n",
              "      <td>1569283199999</td>\n",
              "      <td>9.93013000</td>\n",
              "      <td>1</td>\n",
              "      <td>0.00000000</td>\n",
              "      <td>0.00000000</td>\n",
              "      <td>0</td>\n",
              "      <td>BTCUSDT</td>\n",
              "    </tr>\n",
              "    <tr>\n",
              "      <th>1</th>\n",
              "      <td>2019-09-24 00:00:00+00:00</td>\n",
              "      <td>9637.93000000</td>\n",
              "      <td>9665.05000000</td>\n",
              "      <td>7996.45000000</td>\n",
              "      <td>8519.67000000</td>\n",
              "      <td>202.35079900</td>\n",
              "      <td>1569369599999</td>\n",
              "      <td>1739432.08920509</td>\n",
              "      <td>2345</td>\n",
              "      <td>125.93546400</td>\n",
              "      <td>1075623.60280331</td>\n",
              "      <td>0</td>\n",
              "      <td>BTCUSDT</td>\n",
              "    </tr>\n",
              "    <tr>\n",
              "      <th>2</th>\n",
              "      <td>2019-09-25 00:00:00+00:00</td>\n",
              "      <td>8528.12000000</td>\n",
              "      <td>8724.77000000</td>\n",
              "      <td>8247.78000000</td>\n",
              "      <td>8435.28000000</td>\n",
              "      <td>55.41797100</td>\n",
              "      <td>1569455999999</td>\n",
              "      <td>469361.69055629</td>\n",
              "      <td>763</td>\n",
              "      <td>29.05942700</td>\n",
              "      <td>246049.20514584</td>\n",
              "      <td>0</td>\n",
              "      <td>BTCUSDT</td>\n",
              "    </tr>\n",
              "    <tr>\n",
              "      <th>3</th>\n",
              "      <td>2019-09-26 00:00:00+00:00</td>\n",
              "      <td>8434.45000000</td>\n",
              "      <td>8453.20000000</td>\n",
              "      <td>7761.87000000</td>\n",
              "      <td>8064.41000000</td>\n",
              "      <td>41.88007900</td>\n",
              "      <td>1569542399999</td>\n",
              "      <td>340923.66601370</td>\n",
              "      <td>1023</td>\n",
              "      <td>19.80884900</td>\n",
              "      <td>161115.44149782</td>\n",
              "      <td>0</td>\n",
              "      <td>BTCUSDT</td>\n",
              "    </tr>\n",
              "    <tr>\n",
              "      <th>4</th>\n",
              "      <td>2019-09-27 00:00:00+00:00</td>\n",
              "      <td>8078.75000000</td>\n",
              "      <td>8259.96000000</td>\n",
              "      <td>7858.58000000</td>\n",
              "      <td>8178.73000000</td>\n",
              "      <td>47.14290400</td>\n",
              "      <td>1569628799999</td>\n",
              "      <td>379917.99846542</td>\n",
              "      <td>990</td>\n",
              "      <td>23.90374200</td>\n",
              "      <td>192755.96772991</td>\n",
              "      <td>0</td>\n",
              "      <td>BTCUSDT</td>\n",
              "    </tr>\n",
              "    <tr>\n",
              "      <th>...</th>\n",
              "      <td>...</td>\n",
              "      <td>...</td>\n",
              "      <td>...</td>\n",
              "      <td>...</td>\n",
              "      <td>...</td>\n",
              "      <td>...</td>\n",
              "      <td>...</td>\n",
              "      <td>...</td>\n",
              "      <td>...</td>\n",
              "      <td>...</td>\n",
              "      <td>...</td>\n",
              "      <td>...</td>\n",
              "      <td>...</td>\n",
              "    </tr>\n",
              "    <tr>\n",
              "      <th>66546</th>\n",
              "      <td>2025-02-20 00:00:00+00:00</td>\n",
              "      <td>0.00034998</td>\n",
              "      <td>0.00036500</td>\n",
              "      <td>0.00031545</td>\n",
              "      <td>0.00036500</td>\n",
              "      <td>6698622.00</td>\n",
              "      <td>1740095999999</td>\n",
              "      <td>2359.70839526</td>\n",
              "      <td>31</td>\n",
              "      <td>6060991.00</td>\n",
              "      <td>2154.55577876</td>\n",
              "      <td>0</td>\n",
              "      <td>NEIROUSDT</td>\n",
              "    </tr>\n",
              "    <tr>\n",
              "      <th>66547</th>\n",
              "      <td>2025-02-21 00:00:00+00:00</td>\n",
              "      <td>0.00036134</td>\n",
              "      <td>0.00044000</td>\n",
              "      <td>0.00034561</td>\n",
              "      <td>0.00039196</td>\n",
              "      <td>184682301.00</td>\n",
              "      <td>1740182399999</td>\n",
              "      <td>70928.69800741</td>\n",
              "      <td>132</td>\n",
              "      <td>181332829.00</td>\n",
              "      <td>69700.94674665</td>\n",
              "      <td>0</td>\n",
              "      <td>NEIROUSDT</td>\n",
              "    </tr>\n",
              "    <tr>\n",
              "      <th>66548</th>\n",
              "      <td>2025-02-22 00:00:00+00:00</td>\n",
              "      <td>0.00036830</td>\n",
              "      <td>0.00044590</td>\n",
              "      <td>0.00035281</td>\n",
              "      <td>0.00043700</td>\n",
              "      <td>7017510.00</td>\n",
              "      <td>1740268799999</td>\n",
              "      <td>2906.92565489</td>\n",
              "      <td>58</td>\n",
              "      <td>6191501.00</td>\n",
              "      <td>2586.24623479</td>\n",
              "      <td>0</td>\n",
              "      <td>NEIROUSDT</td>\n",
              "    </tr>\n",
              "    <tr>\n",
              "      <th>66549</th>\n",
              "      <td>2025-02-23 00:00:00+00:00</td>\n",
              "      <td>0.00039728</td>\n",
              "      <td>0.00043262</td>\n",
              "      <td>0.00037002</td>\n",
              "      <td>0.00038312</td>\n",
              "      <td>14115426.00</td>\n",
              "      <td>1740355199999</td>\n",
              "      <td>5717.43299936</td>\n",
              "      <td>33</td>\n",
              "      <td>10311821.00</td>\n",
              "      <td>4228.42642474</td>\n",
              "      <td>0</td>\n",
              "      <td>NEIROUSDT</td>\n",
              "    </tr>\n",
              "    <tr>\n",
              "      <th>66550</th>\n",
              "      <td>2025-02-24 00:00:00+00:00</td>\n",
              "      <td>0.00038312</td>\n",
              "      <td>0.00042142</td>\n",
              "      <td>0.00032220</td>\n",
              "      <td>0.00032220</td>\n",
              "      <td>211463527.00</td>\n",
              "      <td>1740441599999</td>\n",
              "      <td>68355.16999234</td>\n",
              "      <td>84</td>\n",
              "      <td>74092.00</td>\n",
              "      <td>29.99931429</td>\n",
              "      <td>0</td>\n",
              "      <td>NEIROUSDT</td>\n",
              "    </tr>\n",
              "  </tbody>\n",
              "</table>\n",
              "<p>66551 rows × 13 columns</p>\n",
              "</div>"
            ],
            "text/plain": [
              "                      Open time           Open           High            Low  \\\n",
              "0     2019-09-23 00:00:00+00:00  9930.13000000  9930.13000000  9930.13000000   \n",
              "1     2019-09-24 00:00:00+00:00  9637.93000000  9665.05000000  7996.45000000   \n",
              "2     2019-09-25 00:00:00+00:00  8528.12000000  8724.77000000  8247.78000000   \n",
              "3     2019-09-26 00:00:00+00:00  8434.45000000  8453.20000000  7761.87000000   \n",
              "4     2019-09-27 00:00:00+00:00  8078.75000000  8259.96000000  7858.58000000   \n",
              "...                         ...            ...            ...            ...   \n",
              "66546 2025-02-20 00:00:00+00:00     0.00034998     0.00036500     0.00031545   \n",
              "66547 2025-02-21 00:00:00+00:00     0.00036134     0.00044000     0.00034561   \n",
              "66548 2025-02-22 00:00:00+00:00     0.00036830     0.00044590     0.00035281   \n",
              "66549 2025-02-23 00:00:00+00:00     0.00039728     0.00043262     0.00037002   \n",
              "66550 2025-02-24 00:00:00+00:00     0.00038312     0.00042142     0.00032220   \n",
              "\n",
              "               Close        Volume     Close time Quote asset volume  \\\n",
              "0      9930.13000000    0.00100000  1569283199999         9.93013000   \n",
              "1      8519.67000000  202.35079900  1569369599999   1739432.08920509   \n",
              "2      8435.28000000   55.41797100  1569455999999    469361.69055629   \n",
              "3      8064.41000000   41.88007900  1569542399999    340923.66601370   \n",
              "4      8178.73000000   47.14290400  1569628799999    379917.99846542   \n",
              "...              ...           ...            ...                ...   \n",
              "66546     0.00036500    6698622.00  1740095999999      2359.70839526   \n",
              "66547     0.00039196  184682301.00  1740182399999     70928.69800741   \n",
              "66548     0.00043700    7017510.00  1740268799999      2906.92565489   \n",
              "66549     0.00038312   14115426.00  1740355199999      5717.43299936   \n",
              "66550     0.00032220  211463527.00  1740441599999     68355.16999234   \n",
              "\n",
              "      Number of trades Taker buy base asset volume  \\\n",
              "0                    1                  0.00000000   \n",
              "1                 2345                125.93546400   \n",
              "2                  763                 29.05942700   \n",
              "3                 1023                 19.80884900   \n",
              "4                  990                 23.90374200   \n",
              "...                ...                         ...   \n",
              "66546               31                  6060991.00   \n",
              "66547              132                181332829.00   \n",
              "66548               58                  6191501.00   \n",
              "66549               33                 10311821.00   \n",
              "66550               84                    74092.00   \n",
              "\n",
              "      Taker buy quote asset volume Ignore     Ticker  \n",
              "0                       0.00000000      0    BTCUSDT  \n",
              "1                 1075623.60280331      0    BTCUSDT  \n",
              "2                  246049.20514584      0    BTCUSDT  \n",
              "3                  161115.44149782      0    BTCUSDT  \n",
              "4                  192755.96772991      0    BTCUSDT  \n",
              "...                            ...    ...        ...  \n",
              "66546                2154.55577876      0  NEIROUSDT  \n",
              "66547               69700.94674665      0  NEIROUSDT  \n",
              "66548                2586.24623479      0  NEIROUSDT  \n",
              "66549                4228.42642474      0  NEIROUSDT  \n",
              "66550                  29.99931429      0  NEIROUSDT  \n",
              "\n",
              "[66551 rows x 13 columns]"
            ]
          },
          "execution_count": 8,
          "metadata": {},
          "output_type": "execute_result"
        }
      ],
      "source": [
        "master_data"
      ]
    },
    {
      "cell_type": "code",
      "execution_count": null,
      "metadata": {},
      "outputs": [],
      "source": []
    }
  ],
  "metadata": {
    "colab": {
      "provenance": []
    },
    "kernelspec": {
      "display_name": "base",
      "language": "python",
      "name": "python3"
    },
    "language_info": {
      "codemirror_mode": {
        "name": "ipython",
        "version": 3
      },
      "file_extension": ".py",
      "mimetype": "text/x-python",
      "name": "python",
      "nbconvert_exporter": "python",
      "pygments_lexer": "ipython3",
      "version": "3.12.4"
    }
  },
  "nbformat": 4,
  "nbformat_minor": 0
}
