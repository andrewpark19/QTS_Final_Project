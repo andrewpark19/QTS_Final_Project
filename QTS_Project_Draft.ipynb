{
 "cells": [
  {
   "cell_type": "markdown",
   "metadata": {},
   "source": [
    "# QTS Project Draft\n",
    "## Time-series Momentum in Cryptocurrency Markets\n",
    "\n",
    "Armand Dang, Angelo Pacheco, Brennan Stevens, Andrew Park"
   ]
  },
  {
   "cell_type": "markdown",
   "metadata": {},
   "source": [
    "## Project Idea\n",
    "\n",
    "<span style=\"color:red\">\n",
    "\n",
    "Lorem ipsum dolor sit amet, consectetur adipiscing elit, sed do eiusmod tempor incididunt ut labore et dolore magna aliqua. Ut enim ad minim veniam, quis nostrud exercitation ullamco laboris nisi ut aliquip ex ea commodo consequat. Duis aute irure dolor in reprehenderit in voluptate velit esse cillum dolore eu fugiat nulla pariatur. Excepteur sint occaecat cupidatat non proident, sunt in culpa qui officia deserunt mollit anim id est laborum\n",
    "\n",
    "</span>\n",
    "\n"
   ]
  },
  {
   "cell_type": "markdown",
   "metadata": {},
   "source": [
    "## Data Pre-processing"
   ]
  },
  {
   "cell_type": "code",
   "execution_count": 1,
   "metadata": {},
   "outputs": [],
   "source": [
    "import polars as pl\n",
    "import matplotlib.pyplot as plt\n",
    "import datetime\n",
    "\n",
    "from src.data_binance import download_data\n",
    "from src.preprocess import pivot_close_price, plot_valid_tickers, filter_date"
   ]
  },
  {
   "cell_type": "markdown",
   "metadata": {},
   "source": [
    "### Download data from Binance"
   ]
  },
  {
   "cell_type": "code",
   "execution_count": 2,
   "metadata": {},
   "outputs": [
    {
     "name": "stdout",
     "output_type": "stream",
     "text": [
      "master_crypto_data_2015-01-01_2025-02-24_1d.parquet loaded successfully.\n"
     ]
    },
    {
     "data": {
      "text/html": [
       "<div><style>\n",
       ".dataframe > thead > tr,\n",
       ".dataframe > tbody > tr {\n",
       "  text-align: right;\n",
       "  white-space: pre-wrap;\n",
       "}\n",
       "</style>\n",
       "<small>shape: (3, 13)</small><table border=\"1\" class=\"dataframe\"><thead><tr><th>Open time</th><th>Open</th><th>High</th><th>Low</th><th>Close</th><th>Volume</th><th>Close time</th><th>Quote asset volume</th><th>Number of trades</th><th>Taker buy base asset volume</th><th>Taker buy quote asset volume</th><th>Ignore</th><th>Ticker</th></tr><tr><td>datetime[ns, UTC]</td><td>str</td><td>str</td><td>str</td><td>str</td><td>str</td><td>str</td><td>str</td><td>str</td><td>str</td><td>str</td><td>str</td><td>str</td></tr></thead><tbody><tr><td>2019-09-23 00:00:00 UTC</td><td>&quot;9930.13000000&quot;</td><td>&quot;9930.13000000&quot;</td><td>&quot;9930.13000000&quot;</td><td>&quot;9930.13000000&quot;</td><td>&quot;0.00100000&quot;</td><td>&quot;1569283199999&quot;</td><td>&quot;9.93013000&quot;</td><td>&quot;1&quot;</td><td>&quot;0.00000000&quot;</td><td>&quot;0.00000000&quot;</td><td>&quot;0&quot;</td><td>&quot;BTCUSDT&quot;</td></tr><tr><td>2019-09-24 00:00:00 UTC</td><td>&quot;9637.93000000&quot;</td><td>&quot;9665.05000000&quot;</td><td>&quot;7996.45000000&quot;</td><td>&quot;8519.67000000&quot;</td><td>&quot;202.35079900&quot;</td><td>&quot;1569369599999&quot;</td><td>&quot;1739432.08920509&quot;</td><td>&quot;2345&quot;</td><td>&quot;125.93546400&quot;</td><td>&quot;1075623.60280331&quot;</td><td>&quot;0&quot;</td><td>&quot;BTCUSDT&quot;</td></tr><tr><td>2019-09-25 00:00:00 UTC</td><td>&quot;8528.12000000&quot;</td><td>&quot;8724.77000000&quot;</td><td>&quot;8247.78000000&quot;</td><td>&quot;8435.28000000&quot;</td><td>&quot;55.41797100&quot;</td><td>&quot;1569455999999&quot;</td><td>&quot;469361.69055629&quot;</td><td>&quot;763&quot;</td><td>&quot;29.05942700&quot;</td><td>&quot;246049.20514584&quot;</td><td>&quot;0&quot;</td><td>&quot;BTCUSDT&quot;</td></tr></tbody></table></div>"
      ],
      "text/plain": [
       "shape: (3, 13)\n",
       "┌────────────┬────────────┬────────────┬────────────┬───┬───────────┬───────────┬────────┬─────────┐\n",
       "│ Open time  ┆ Open       ┆ High       ┆ Low        ┆ … ┆ Taker buy ┆ Taker buy ┆ Ignore ┆ Ticker  │\n",
       "│ ---        ┆ ---        ┆ ---        ┆ ---        ┆   ┆ base      ┆ quote     ┆ ---    ┆ ---     │\n",
       "│ datetime[n ┆ str        ┆ str        ┆ str        ┆   ┆ asset     ┆ asset     ┆ str    ┆ str     │\n",
       "│ s, UTC]    ┆            ┆            ┆            ┆   ┆ volume    ┆ volume    ┆        ┆         │\n",
       "│            ┆            ┆            ┆            ┆   ┆ ---       ┆ ---       ┆        ┆         │\n",
       "│            ┆            ┆            ┆            ┆   ┆ str       ┆ str       ┆        ┆         │\n",
       "╞════════════╪════════════╪════════════╪════════════╪═══╪═══════════╪═══════════╪════════╪═════════╡\n",
       "│ 2019-09-23 ┆ 9930.13000 ┆ 9930.13000 ┆ 9930.13000 ┆ … ┆ 0.0000000 ┆ 0.0000000 ┆ 0      ┆ BTCUSDT │\n",
       "│ 00:00:00   ┆ 000        ┆ 000        ┆ 000        ┆   ┆ 0         ┆ 0         ┆        ┆         │\n",
       "│ UTC        ┆            ┆            ┆            ┆   ┆           ┆           ┆        ┆         │\n",
       "│ 2019-09-24 ┆ 9637.93000 ┆ 9665.05000 ┆ 7996.45000 ┆ … ┆ 125.93546 ┆ 1075623.6 ┆ 0      ┆ BTCUSDT │\n",
       "│ 00:00:00   ┆ 000        ┆ 000        ┆ 000        ┆   ┆ 400       ┆ 0280331   ┆        ┆         │\n",
       "│ UTC        ┆            ┆            ┆            ┆   ┆           ┆           ┆        ┆         │\n",
       "│ 2019-09-25 ┆ 8528.12000 ┆ 8724.77000 ┆ 8247.78000 ┆ … ┆ 29.059427 ┆ 246049.20 ┆ 0      ┆ BTCUSDT │\n",
       "│ 00:00:00   ┆ 000        ┆ 000        ┆ 000        ┆   ┆ 00        ┆ 514584    ┆        ┆         │\n",
       "│ UTC        ┆            ┆            ┆            ┆   ┆           ┆           ┆        ┆         │\n",
       "└────────────┴────────────┴────────────┴────────────┴───┴───────────┴───────────┴────────┴─────────┘"
      ]
     },
     "execution_count": 2,
     "metadata": {},
     "output_type": "execute_result"
    }
   ],
   "source": [
    "start_date = '2015-01-01'\n",
    "end_date = '2025-02-24'\n",
    "interval='1d'\n",
    "filepath = 'data/raw/'\n",
    "\n",
    "raw_data = pl.from_pandas(download_data(start_date, end_date, interval, filepath=filepath))\n",
    "raw_data.head(3)"
   ]
  },
  {
   "cell_type": "markdown",
   "metadata": {},
   "source": [
    "### Data cleaning and processing"
   ]
  },
  {
   "cell_type": "code",
   "execution_count": 3,
   "metadata": {},
   "outputs": [
    {
     "data": {
      "text/html": [
       "<div><style>\n",
       ".dataframe > thead > tr,\n",
       ".dataframe > tbody > tr {\n",
       "  text-align: right;\n",
       "  white-space: pre-wrap;\n",
       "}\n",
       "</style>\n",
       "<small>shape: (3, 163)</small><table border=\"1\" class=\"dataframe\"><thead><tr><th>date</th><th>BTCUSDT</th><th>ETHUSDT</th><th>XRPUSDT</th><th>BCHUSDT</th><th>LTCUSDT</th><th>BNBUSDT</th><th>ADAUSDT</th><th>BATUSDT</th><th>ETCUSDT</th><th>XLMUSDT</th><th>ZRXUSDT</th><th>DOGEUSDT</th><th>ATOMUSDT</th><th>NEOUSDT</th><th>VETUSDT</th><th>QTUMUSDT</th><th>ONTUSDT</th><th>KNCUSDT</th><th>VTHOUSDT</th><th>COMPUSDT</th><th>MKRUSDT</th><th>ONEUSDT</th><th>BANDUSDT</th><th>STORJUSDT</th><th>UNIUSDT</th><th>SOLUSDT</th><th>EGLDUSDT</th><th>PAXGUSDT</th><th>OXTUSDT</th><th>ZENUSDT</th><th>FILUSDT</th><th>AAVEUSDT</th><th>GRTUSDT</th><th>SHIBUSDT</th><th>CRVUSDT</th><th>AXSUSDT</th><th>&hellip;</th><th>PROMUSDT</th><th>DIAUSDT</th><th>LOOMUSDT</th><th>STMXUSDT</th><th>POLYXUSDT</th><th>IOSTUSDT</th><th>ARBUSDT</th><th>FLOKIUSDT</th><th>XECUSDT</th><th>BLURUSDT</th><th>ANKRUSDT</th><th>DAIUSDT</th><th>DASHUSDT</th><th>HBARUSDT</th><th>ICXUSDT</th><th>IOTAUSDT</th><th>RVNUSDT</th><th>XNOUSDT</th><th>XTZUSDT</th><th>ZILUSDT</th><th>ORBSUSDT</th><th>ADXUSDT</th><th>FORTUSDT</th><th>SUIUSDT</th><th>ONGUSDT</th><th>GUSDT</th><th>RENDERUSDT</th><th>BONKUSDT</th><th>MAGICUSDT</th><th>PEPEUSDT</th><th>WIFUSDT</th><th>IOTXUSDT</th><th>PNUTUSDT</th><th>PENGUUSDT</th><th>POLUSDT</th><th>TRUMPUSDT</th><th>NEIROUSDT</th></tr><tr><td>date</td><td>f64</td><td>f64</td><td>f64</td><td>f64</td><td>f64</td><td>f64</td><td>f64</td><td>f64</td><td>f64</td><td>f64</td><td>f64</td><td>f64</td><td>f64</td><td>f64</td><td>f64</td><td>f64</td><td>f64</td><td>f64</td><td>f64</td><td>f64</td><td>f64</td><td>f64</td><td>f64</td><td>f64</td><td>f64</td><td>f64</td><td>f64</td><td>f64</td><td>f64</td><td>f64</td><td>f64</td><td>f64</td><td>f64</td><td>f64</td><td>f64</td><td>f64</td><td>&hellip;</td><td>f64</td><td>f64</td><td>f64</td><td>f64</td><td>f64</td><td>f64</td><td>f64</td><td>f64</td><td>f64</td><td>f64</td><td>f64</td><td>f64</td><td>f64</td><td>f64</td><td>f64</td><td>f64</td><td>f64</td><td>f64</td><td>f64</td><td>f64</td><td>f64</td><td>f64</td><td>f64</td><td>f64</td><td>f64</td><td>f64</td><td>f64</td><td>f64</td><td>f64</td><td>f64</td><td>f64</td><td>f64</td><td>f64</td><td>f64</td><td>f64</td><td>f64</td><td>f64</td></tr></thead><tbody><tr><td>2019-09-23</td><td>9930.13</td><td>209.55</td><td>0.27311</td><td>306.91</td><td>73.58</td><td>19.8787</td><td>null</td><td>null</td><td>null</td><td>null</td><td>null</td><td>null</td><td>null</td><td>null</td><td>null</td><td>null</td><td>null</td><td>null</td><td>null</td><td>null</td><td>null</td><td>null</td><td>null</td><td>null</td><td>null</td><td>null</td><td>null</td><td>null</td><td>null</td><td>null</td><td>null</td><td>null</td><td>null</td><td>null</td><td>null</td><td>null</td><td>&hellip;</td><td>null</td><td>null</td><td>null</td><td>null</td><td>null</td><td>null</td><td>null</td><td>null</td><td>null</td><td>null</td><td>null</td><td>null</td><td>null</td><td>null</td><td>null</td><td>null</td><td>null</td><td>null</td><td>null</td><td>null</td><td>null</td><td>null</td><td>null</td><td>null</td><td>null</td><td>null</td><td>null</td><td>null</td><td>null</td><td>null</td><td>null</td><td>null</td><td>null</td><td>null</td><td>null</td><td>null</td><td>null</td></tr><tr><td>2019-09-24</td><td>8519.67</td><td>167.09</td><td>0.23264</td><td>221.2</td><td>57.67</td><td>15.8755</td><td>null</td><td>null</td><td>null</td><td>null</td><td>null</td><td>null</td><td>null</td><td>null</td><td>null</td><td>null</td><td>null</td><td>null</td><td>null</td><td>null</td><td>null</td><td>null</td><td>null</td><td>null</td><td>null</td><td>null</td><td>null</td><td>null</td><td>null</td><td>null</td><td>null</td><td>null</td><td>null</td><td>null</td><td>null</td><td>null</td><td>&hellip;</td><td>null</td><td>null</td><td>null</td><td>null</td><td>null</td><td>null</td><td>null</td><td>null</td><td>null</td><td>null</td><td>null</td><td>null</td><td>null</td><td>null</td><td>null</td><td>null</td><td>null</td><td>null</td><td>null</td><td>null</td><td>null</td><td>null</td><td>null</td><td>null</td><td>null</td><td>null</td><td>null</td><td>null</td><td>null</td><td>null</td><td>null</td><td>null</td><td>null</td><td>null</td><td>null</td><td>null</td><td>null</td></tr><tr><td>2019-09-25</td><td>8435.28</td><td>170.0</td><td>0.24603</td><td>226.25</td><td>57.5</td><td>16.0652</td><td>0.039</td><td>0.1633</td><td>4.9138</td><td>0.05727</td><td>0.2102</td><td>null</td><td>null</td><td>null</td><td>null</td><td>null</td><td>null</td><td>null</td><td>null</td><td>null</td><td>null</td><td>null</td><td>null</td><td>null</td><td>null</td><td>null</td><td>null</td><td>null</td><td>null</td><td>null</td><td>null</td><td>null</td><td>null</td><td>null</td><td>null</td><td>null</td><td>&hellip;</td><td>null</td><td>null</td><td>null</td><td>null</td><td>null</td><td>null</td><td>null</td><td>null</td><td>null</td><td>null</td><td>null</td><td>null</td><td>null</td><td>null</td><td>null</td><td>null</td><td>null</td><td>null</td><td>null</td><td>null</td><td>null</td><td>null</td><td>null</td><td>null</td><td>null</td><td>null</td><td>null</td><td>null</td><td>null</td><td>null</td><td>null</td><td>null</td><td>null</td><td>null</td><td>null</td><td>null</td><td>null</td></tr></tbody></table></div>"
      ],
      "text/plain": [
       "shape: (3, 163)\n",
       "┌────────────┬─────────┬─────────┬─────────┬───┬───────────┬─────────┬───────────┬───────────┐\n",
       "│ date       ┆ BTCUSDT ┆ ETHUSDT ┆ XRPUSDT ┆ … ┆ PENGUUSDT ┆ POLUSDT ┆ TRUMPUSDT ┆ NEIROUSDT │\n",
       "│ ---        ┆ ---     ┆ ---     ┆ ---     ┆   ┆ ---       ┆ ---     ┆ ---       ┆ ---       │\n",
       "│ date       ┆ f64     ┆ f64     ┆ f64     ┆   ┆ f64       ┆ f64     ┆ f64       ┆ f64       │\n",
       "╞════════════╪═════════╪═════════╪═════════╪═══╪═══════════╪═════════╪═══════════╪═══════════╡\n",
       "│ 2019-09-23 ┆ 9930.13 ┆ 209.55  ┆ 0.27311 ┆ … ┆ null      ┆ null    ┆ null      ┆ null      │\n",
       "│ 2019-09-24 ┆ 8519.67 ┆ 167.09  ┆ 0.23264 ┆ … ┆ null      ┆ null    ┆ null      ┆ null      │\n",
       "│ 2019-09-25 ┆ 8435.28 ┆ 170.0   ┆ 0.24603 ┆ … ┆ null      ┆ null    ┆ null      ┆ null      │\n",
       "└────────────┴─────────┴─────────┴─────────┴───┴───────────┴─────────┴───────────┴───────────┘"
      ]
     },
     "execution_count": 3,
     "metadata": {},
     "output_type": "execute_result"
    }
   ],
   "source": [
    "close_prices = pivot_close_price(raw_data)\n",
    "tickers = close_prices.columns[1:]\n",
    "close_prices.head(3)\n"
   ]
  },
  {
   "cell_type": "markdown",
   "metadata": {},
   "source": [
    "#### Number of available data\n",
    "Since some of the close price does not start as of the starting date, let us understand how the number of available tickers grows with time."
   ]
  },
  {
   "cell_type": "code",
   "execution_count": 4,
   "metadata": {},
   "outputs": [
    {
     "data": {
      "image/png": "[encoded data removed]",
      "text/plain": [
       "<Figure size 1000x600 with 1 Axes>"
      ]
     },
     "metadata": {},
     "output_type": "display_data"
    }
   ],
   "source": [
    "close_prices_analysis = plot_valid_tickers(close_prices)"
   ]
  },
  {
   "cell_type": "code",
   "execution_count": 5,
   "metadata": {},
   "outputs": [
    {
     "data": {
      "text/html": [
       "<div><style>\n",
       ".dataframe > thead > tr,\n",
       ".dataframe > tbody > tr {\n",
       "  text-align: right;\n",
       "  white-space: pre-wrap;\n",
       "}\n",
       "</style>\n",
       "<small>shape: (10, 3)</small><table border=\"1\" class=\"dataframe\"><thead><tr><th>date</th><th>pct_change</th><th>non_null_count</th></tr><tr><td>date</td><td>f64</td><td>i64</td></tr></thead><tbody><tr><td>2019-09-25</td><td>0.833333</td><td>11</td></tr><tr><td>2019-10-25</td><td>0.090909</td><td>12</td></tr><tr><td>2019-11-01</td><td>0.166667</td><td>14</td></tr><tr><td>2019-11-08</td><td>0.071429</td><td>15</td></tr><tr><td>2019-11-15</td><td>0.066667</td><td>16</td></tr><tr><td>2020-02-14</td><td>0.0625</td><td>17</td></tr><tr><td>2020-07-17</td><td>0.058824</td><td>18</td></tr><tr><td>2020-07-24</td><td>0.055556</td><td>19</td></tr><tr><td>2020-08-11</td><td>0.052632</td><td>20</td></tr><tr><td>2020-08-20</td><td>0.05</td><td>21</td></tr></tbody></table></div>"
      ],
      "text/plain": [
       "shape: (10, 3)\n",
       "┌────────────┬────────────┬────────────────┐\n",
       "│ date       ┆ pct_change ┆ non_null_count │\n",
       "│ ---        ┆ ---        ┆ ---            │\n",
       "│ date       ┆ f64        ┆ i64            │\n",
       "╞════════════╪════════════╪════════════════╡\n",
       "│ 2019-09-25 ┆ 0.833333   ┆ 11             │\n",
       "│ 2019-10-25 ┆ 0.090909   ┆ 12             │\n",
       "│ 2019-11-01 ┆ 0.166667   ┆ 14             │\n",
       "│ 2019-11-08 ┆ 0.071429   ┆ 15             │\n",
       "│ 2019-11-15 ┆ 0.066667   ┆ 16             │\n",
       "│ 2020-02-14 ┆ 0.0625     ┆ 17             │\n",
       "│ 2020-07-17 ┆ 0.058824   ┆ 18             │\n",
       "│ 2020-07-24 ┆ 0.055556   ┆ 19             │\n",
       "│ 2020-08-11 ┆ 0.052632   ┆ 20             │\n",
       "│ 2020-08-20 ┆ 0.05       ┆ 21             │\n",
       "└────────────┴────────────┴────────────────┘"
      ]
     },
     "execution_count": 5,
     "metadata": {},
     "output_type": "execute_result"
    }
   ],
   "source": [
    "close_prices_analysis.filter(pl.col('pct_change') != 0)[['date', 'pct_change', 'non_null_count']].drop_nulls().sort('date', descending=False).head(10)"
   ]
  },
  {
   "cell_type": "markdown",
   "metadata": {},
   "source": [
    "Given the data, a decent choice to choose the starting date of our analysis would be from __2019-09-25__, so that 11 tickers can be captured.\n",
    "\n",
    "However, by reducing the sample size by about 2 months, 16 tickers can be included if starting date is taken to be __2019-11-15__.\n",
    "\n",
    "For our study, we will be using the starting date of __2019-11-15__, which will give us a universe of 16 cryptocurrencies to trade."
   ]
  },
  {
   "cell_type": "markdown",
   "metadata": {},
   "source": [
    "#### Filtering for the relevant universe\n"
   ]
  },
  {
   "cell_type": "code",
   "execution_count": 7,
   "metadata": {},
   "outputs": [
    {
     "data": {
      "text/html": [
       "<div><style>\n",
       ".dataframe > thead > tr,\n",
       ".dataframe > tbody > tr {\n",
       "  text-align: right;\n",
       "  white-space: pre-wrap;\n",
       "}\n",
       "</style>\n",
       "<small>shape: (3, 16)</small><table border=\"1\" class=\"dataframe\"><thead><tr><th>date</th><th>BTCUSDT</th><th>ETHUSDT</th><th>BCHUSDT</th><th>LTCUSDT</th><th>BNBUSDT</th><th>ADAUSDT</th><th>BATUSDT</th><th>ETCUSDT</th><th>XLMUSDT</th><th>ZRXUSDT</th><th>DOGEUSDT</th><th>ATOMUSDT</th><th>NEOUSDT</th><th>VETUSDT</th><th>QTUMUSDT</th></tr><tr><td>date</td><td>f64</td><td>f64</td><td>f64</td><td>f64</td><td>f64</td><td>f64</td><td>f64</td><td>f64</td><td>f64</td><td>f64</td><td>f64</td><td>f64</td><td>f64</td><td>f64</td><td>f64</td></tr></thead><tbody><tr><td>2019-11-15</td><td>8473.65</td><td>180.09</td><td>263.67</td><td>57.6</td><td>20.2805</td><td>0.04426</td><td>0.2508</td><td>4.5604</td><td>0.07215</td><td>0.277</td><td>0.0026473</td><td>3.955</td><td>12.015</td><td>0.007863</td><td>2.156</td></tr><tr><td>2019-11-16</td><td>8495.01</td><td>182.36</td><td>265.07</td><td>58.24</td><td>20.1868</td><td>0.0439</td><td>0.2674</td><td>4.6324</td><td>0.0713</td><td>0.2817</td><td>0.0026638</td><td>3.961</td><td>12.394</td><td>0.007246</td><td>2.144</td></tr><tr><td>2019-11-17</td><td>8511.33</td><td>183.75</td><td>265.74</td><td>59.15</td><td>20.1318</td><td>0.04502</td><td>0.2729</td><td>4.6217</td><td>0.0716</td><td>0.2759</td><td>0.0026342</td><td>3.907</td><td>12.067</td><td>0.007656</td><td>2.154</td></tr></tbody></table></div>"
      ],
      "text/plain": [
       "shape: (3, 16)\n",
       "┌────────────┬─────────┬─────────┬─────────┬───┬──────────┬─────────┬──────────┬──────────┐\n",
       "│ date       ┆ BTCUSDT ┆ ETHUSDT ┆ BCHUSDT ┆ … ┆ ATOMUSDT ┆ NEOUSDT ┆ VETUSDT  ┆ QTUMUSDT │\n",
       "│ ---        ┆ ---     ┆ ---     ┆ ---     ┆   ┆ ---      ┆ ---     ┆ ---      ┆ ---      │\n",
       "│ date       ┆ f64     ┆ f64     ┆ f64     ┆   ┆ f64      ┆ f64     ┆ f64      ┆ f64      │\n",
       "╞════════════╪═════════╪═════════╪═════════╪═══╪══════════╪═════════╪══════════╪══════════╡\n",
       "│ 2019-11-15 ┆ 8473.65 ┆ 180.09  ┆ 263.67  ┆ … ┆ 3.955    ┆ 12.015  ┆ 0.007863 ┆ 2.156    │\n",
       "│ 2019-11-16 ┆ 8495.01 ┆ 182.36  ┆ 265.07  ┆ … ┆ 3.961    ┆ 12.394  ┆ 0.007246 ┆ 2.144    │\n",
       "│ 2019-11-17 ┆ 8511.33 ┆ 183.75  ┆ 265.74  ┆ … ┆ 3.907    ┆ 12.067  ┆ 0.007656 ┆ 2.154    │\n",
       "└────────────┴─────────┴─────────┴─────────┴───┴──────────┴─────────┴──────────┴──────────┘"
      ]
     },
     "execution_count": 7,
     "metadata": {},
     "output_type": "execute_result"
    }
   ],
   "source": [
    "start_date = '2019-11-15'\n",
    "close_prices = filter_date(close_prices, start_date)\n",
    "close_prices.head(3)"
   ]
  },
  {
   "cell_type": "code",
   "execution_count": null,
   "metadata": {},
   "outputs": [],
   "source": []
  }
 ],
 "metadata": {
  "kernelspec": {
   "display_name": "Python 3",
   "language": "python",
   "name": "python3"
  },
  "language_info": {
   "codemirror_mode": {
    "name": "ipython",
    "version": 3
   },
   "file_extension": ".py",
   "mimetype": "text/x-python",
   "name": "python",
   "nbconvert_exporter": "python",
   "pygments_lexer": "ipython3",
   "version": "3.12.7"
  }
 },
 "nbformat": 4,
 "nbformat_minor": 2
}
