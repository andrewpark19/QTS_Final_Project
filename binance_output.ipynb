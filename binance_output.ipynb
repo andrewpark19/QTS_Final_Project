{
 "cells": [
  {
   "cell_type": "code",
   "execution_count": 8,
   "metadata": {},
   "outputs": [],
   "source": [
    "import ccxt\n",
    "import time\n",
    "import pandas as pd\n",
    "from datetime import datetime, timezone\n",
    "from tqdm import tqdm\n",
    "import os"
   ]
  },
  {
   "cell_type": "code",
   "execution_count": 2,
   "metadata": {},
   "outputs": [],
   "source": [
    "SPOT_COLUMNS = ['Open time', 'Open', 'High', 'Low', 'Close', 'Volume', 'Close time', 'Quote asset volume', \n",
    "                'Number of trades', 'Taker buy base asset volume', 'Taker buy quote asset volume', 'Ignore']\n",
    "\n",
    "binance_exchange = ccxt.binanceus({\n",
    "    'timeout': 15000,\n",
    "    'enableRateLimit': True\n",
    "    # 'options': {'defaultType': 'future'}\n",
    "})"
   ]
  },
  {
   "cell_type": "code",
   "execution_count": 3,
   "metadata": {},
   "outputs": [],
   "source": [
    "def get_spot(exchange, symbol, interval = '1h', \n",
    "                    startTime = None,\n",
    "                    endTime = None, \n",
    "                    limit = 1000):\n",
    "            \n",
    "    if (startTime == None and endTime == None):\n",
    "        return exchange.publicGetKlines({'symbol': symbol, \n",
    "                                        'interval': interval, \n",
    "                                        'limit': limit})\n",
    "    elif (startTime == None and endTime != None):\n",
    "        return exchange.publicGetKlines({'symbol': symbol, \n",
    "                                        'interval': interval,\n",
    "                                        'endTime': endTime,\n",
    "                                        'limit': limit})\n",
    "    elif (startTime != None and endTime == None):\n",
    "        return exchange.publicGetKlines({'symbol': symbol, \n",
    "                                        'interval': interval,\n",
    "                                        'startTime': startTime,\n",
    "                                        'limit': limit})\n",
    "    else:\n",
    "        return exchange.publicGetKlines({'symbol': symbol, \n",
    "                                        'interval': interval,\n",
    "                                        'startTime': startTime,\n",
    "                                        'endTime': endTime,\n",
    "                                        'limit': limit})\n",
    "\n",
    "def convert_to_seconds(time_input):\n",
    "    number = int(time_input[:-1])\n",
    "    unit = time_input[-1]\n",
    "\n",
    "    if unit == 's':\n",
    "        return number\n",
    "    elif unit == 'm':\n",
    "        return number * 60\n",
    "    elif unit == 'h':\n",
    "        return number * 3600\n",
    "    elif unit == 'd':\n",
    "        return number * 86400\n",
    "    else:\n",
    "        raise ValueError(\"Unsupported time unit\")\n",
    "    \n",
    "def transform_timestamp(timestamp_integer):\n",
    "    '''\n",
    "    As data points involved milliseconds, we need to transform them by constant 1000.\n",
    "    '''\n",
    "\n",
    "    return pd.to_datetime(int(timestamp_integer / 1000), utc=True, unit='s')\n",
    "\n",
    "def transform_to_timestamp_integer(datetime_object):\n",
    "    '''\n",
    "    As data points involved milliseconds, we need to transform them by constant 1000.\n",
    "    '''\n",
    "    \n",
    "    return int(datetime_object.timestamp() * 1000)\n",
    "\n",
    "def obtain_full_spotdata(start_timestamp, \n",
    "                         end_timestamp,\n",
    "                         exchange, symbol, interval = '1h', \n",
    "                         limit = 1000):\n",
    "\n",
    "    time_difference = int(convert_to_seconds(interval) * limit * 1000)\n",
    "\n",
    "    full_data_list = []\n",
    "\n",
    "    curr_time = start_timestamp + time_difference\n",
    "    while (curr_time + time_difference < end_timestamp):\n",
    "        data_list = get_spot(exchange = exchange, symbol = symbol, interval = interval, \n",
    "                             endTime = curr_time, \n",
    "                             limit = limit)\n",
    "        full_data_list = full_data_list + data_list\n",
    "\n",
    "        time.sleep(0.2)\n",
    "        curr_time += time_difference\n",
    "\n",
    "    data_list = get_spot(exchange = exchange, symbol = symbol, interval = interval, \n",
    "                        startTime = curr_time,\n",
    "                        endTime = end_timestamp, \n",
    "                        limit = limit)\n",
    "\n",
    "    full_data_list = full_data_list + data_list\n",
    "\n",
    "    return full_data_list"
   ]
  },
  {
   "cell_type": "code",
   "execution_count": 6,
   "metadata": {},
   "outputs": [],
   "source": [
    "coin_tickers = ['BTCUSDT', 'ETHUSDT', 'SOLUSDT', \n",
    "             'BNBUSDT', 'XRPUSDT', 'DOGEUSDT']\n",
    "\n",
    "start_date = \"2020-01-01\"\n",
    "end_date = \"2025-01-01\"\n",
    "interval = \"1h\""
   ]
  },
  {
   "cell_type": "code",
   "execution_count": 9,
   "metadata": {},
   "outputs": [],
   "source": [
    "def fetch_and_store_data(ticker_symbol, start_date, end_date, interval):\n",
    "    dataset_name = f\"{ticker_symbol}_{start_date}_{end_date}_{interval}\"\n",
    "\n",
    "    start_timestamp = int(((pd.to_datetime(start_date)).tz_localize('UTC')).timestamp() * 1000)\n",
    "    end_timestamp = int(((pd.to_datetime(end_date)).tz_localize('UTC')).timestamp() * 1000)\n",
    "    full_data_list = obtain_full_spotdata(start_timestamp, end_timestamp, \n",
    "                                        binance_exchange, ticker_symbol)\n",
    "    data = pd.DataFrame(full_data_list, columns = SPOT_COLUMNS)\n",
    "    data['Open time'] = data['Open time'].apply(lambda x: transform_timestamp(int(x)))\n",
    "    data.drop_duplicates('Open time', keep='first', inplace=True)\n",
    "    \n",
    "    data.to_csv(f'./{dataset_name}.csv')\n",
    "    print(f\"Data for {ticker_symbol} stored successfully.\")\n",
    "    return data"
   ]
  },
  {
   "cell_type": "code",
   "execution_count": 10,
   "metadata": {},
   "outputs": [
    {
     "name": "stderr",
     "output_type": "stream",
     "text": [
      "Fetching crypto data:  17%|█▋        | 1/6 [00:14<01:14, 14.84s/it]"
     ]
    },
    {
     "name": "stdout",
     "output_type": "stream",
     "text": [
      "Data for BTCUSDT stored successfully.\n"
     ]
    },
    {
     "name": "stderr",
     "output_type": "stream",
     "text": [
      "Fetching crypto data:  33%|███▎      | 2/6 [00:29<00:58, 14.68s/it]"
     ]
    },
    {
     "name": "stdout",
     "output_type": "stream",
     "text": [
      "Data for ETHUSDT stored successfully.\n"
     ]
    },
    {
     "name": "stderr",
     "output_type": "stream",
     "text": [
      "Fetching crypto data:  50%|█████     | 3/6 [00:43<00:43, 14.40s/it]"
     ]
    },
    {
     "name": "stdout",
     "output_type": "stream",
     "text": [
      "Data for SOLUSDT stored successfully.\n"
     ]
    },
    {
     "name": "stderr",
     "output_type": "stream",
     "text": [
      "Fetching crypto data:  67%|██████▋   | 4/6 [00:58<00:29, 14.58s/it]"
     ]
    },
    {
     "name": "stdout",
     "output_type": "stream",
     "text": [
      "Data for BNBUSDT stored successfully.\n"
     ]
    },
    {
     "name": "stderr",
     "output_type": "stream",
     "text": [
      "Fetching crypto data:  83%|████████▎ | 5/6 [01:12<00:14, 14.53s/it]"
     ]
    },
    {
     "name": "stdout",
     "output_type": "stream",
     "text": [
      "Data for XRPUSDT stored successfully.\n"
     ]
    },
    {
     "name": "stderr",
     "output_type": "stream",
     "text": [
      "Fetching crypto data: 100%|██████████| 6/6 [01:27<00:00, 14.55s/it]"
     ]
    },
    {
     "name": "stdout",
     "output_type": "stream",
     "text": [
      "Data for DOGEUSDT stored successfully.\n"
     ]
    },
    {
     "name": "stderr",
     "output_type": "stream",
     "text": [
      "\n"
     ]
    }
   ],
   "source": [
    "for ticker in tqdm(coin_tickers, desc=\"Fetching crypto data\"):\n",
    "    fetch_and_store_data(ticker, start_date, end_date, interval)"
   ]
  },
  {
   "cell_type": "markdown",
   "metadata": {},
   "source": [
    "### Memecoins"
   ]
  },
  {
   "cell_type": "code",
   "execution_count": 15,
   "metadata": {},
   "outputs": [],
   "source": [
    "coin_tickers = ['TRUMPUSDT']\n",
    "\n",
    "start_date = \"2023-01-01\"\n",
    "end_date = \"2025-02-20\"\n",
    "interval = \"1h\""
   ]
  },
  {
   "cell_type": "code",
   "execution_count": 16,
   "metadata": {},
   "outputs": [
    {
     "name": "stderr",
     "output_type": "stream",
     "text": [
      "Fetching crypto data: 100%|██████████| 1/1 [00:04<00:00,  4.28s/it]"
     ]
    },
    {
     "name": "stdout",
     "output_type": "stream",
     "text": [
      "Data for TRUMPUSDT stored successfully.\n"
     ]
    },
    {
     "name": "stderr",
     "output_type": "stream",
     "text": [
      "\n"
     ]
    }
   ],
   "source": [
    "for ticker in tqdm(coin_tickers, desc=\"Fetching crypto data\"):\n",
    "    fetch_and_store_data(ticker, start_date, end_date, interval)"
   ]
  }
 ],
 "metadata": {
  "kernelspec": {
   "display_name": "finm",
   "language": "python",
   "name": "python3"
  },
  "language_info": {
   "codemirror_mode": {
    "name": "ipython",
    "version": 3
   },
   "file_extension": ".py",
   "mimetype": "text/x-python",
   "name": "python",
   "nbconvert_exporter": "python",
   "pygments_lexer": "ipython3",
   "version": "3.12.4"
  }
 },
 "nbformat": 4,
 "nbformat_minor": 2
}
